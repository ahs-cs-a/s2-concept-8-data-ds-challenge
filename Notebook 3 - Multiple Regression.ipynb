{
  "cells": [
    {
      "cell_type": "markdown",
      "metadata": {
        "nbsimplegrader": {
          "config_key": "markdown.view-only",
          "editable": false,
          "label": "Markdown: View-Only",
          "respondable": false,
          "response": null,
          "runnable": false,
          "type": "markdown"
        }
      },
      "source": "<div class=\"alert alert-block alert-success\">\n\n**Reference Guide for R (student resource) -** Check out our <a href = \"https://docs.google.com/document/d/1dXT3NO4QjtbIrq29fH6pXHKgt7odZN7BIeU_TBoia4I/edit?usp=sharing\">reference guide</a> for a full listing of useful R commands for this project. \n\n<div>"
    },
    {
      "cell_type": "markdown",
      "metadata": {
        "cell_id": "187aae5bb6494ce0b594d9cabf4cc770",
        "deepnote_cell_type": "markdown",
        "nbsimplegrader": {
          "config_key": "markdown.view-only",
          "editable": false,
          "label": "Markdown: View-Only",
          "respondable": false,
          "response": null,
          "runnable": false,
          "type": "markdown"
        },
        "tags": []
      },
      "source": "<img src=\"https://skewthescript.org/s/college_price_tag.png\">"
    },
    {
      "cell_type": "markdown",
      "metadata": {
        "cell_id": "77a2687bcbbb447c8f8c08712d1df7e0",
        "deepnote_cell_type": "markdown",
        "nbsimplegrader": {
          "config_key": "markdown.view-only",
          "editable": false,
          "label": "Markdown: View-Only",
          "respondable": false,
          "response": null,
          "runnable": false,
          "type": "markdown"
        },
        "tags": []
      },
      "source": "## Data Science Project: Use data to determine the best and worst colleges for conquering student debt.\n\n### Notebook 3: Multiple Regression\n\nDoes college pay off? We'll use some of the latest data from the US Department of Education's <a href=\"https://collegescorecard.ed.gov/data/\">College Scorecard Database</a> to answer that question. \n\nIn this notebook (the 3rd of 4 total notebooks), you'll use R to create a more advanced type of model: multiple regression models. In doing so, you'll be able to isolate which factors (controlling for other variables) that make certain colleges worth the price of admission."
    },
    {
      "cell_type": "code",
      "execution_count": null,
      "metadata": {
        "cell_id": "a3f86b0be3e34961bb9289d541550d8c",
        "deepnote_cell_type": "code",
        "deepnote_to_be_reexecuted": false,
        "execution_millis": 5325,
        "execution_start": 1709066303823,
        "nbsimplegrader": {
          "config_key": "code.run-only",
          "editable": false,
          "label": "Code: Run-Only",
          "respondable": false,
          "response": null,
          "runnable": true,
          "type": "code"
        },
        "output_cleared": false,
        "source_hash": "c414c8a0",
        "tags": [],
        "trusted": false
      },
      "outputs": [],
      "source": "## Run this code but do not edit it. Hit Ctrl+Enter to run the code.\n# This command downloads a useful package of R commands\nlibrary(coursekata)"
    },
    {
      "cell_type": "markdown",
      "metadata": {
        "cell_id": "30c1eca6c62843d8b6e041f9eb663118",
        "deepnote_cell_type": "markdown",
        "nbsimplegrader": {
          "config_key": "markdown.view-only",
          "editable": false,
          "label": "Markdown: View-Only",
          "respondable": false,
          "response": null,
          "runnable": false,
          "type": "markdown"
        }
      },
      "source": "<div class=\"alert alert-block alert-success\">\n\n### The Dataset (`four_year_colleges.csv`)\n\n**General description** - In this notebook, we'll be using the `four_year_colleges.csv` file, which only includes schools that offer four-year bachelors degrees and/or higher graduate degrees. Community colleges and trade schools often have different goals (e.g. facilitating transfers, direct career education) than institutions that offer four-year bachelors degrees. By comparing four-year colleges only to other four-year colleges, we'll have clearer analyses and conclusions. \n\nThis data is a subset of the US Department of Education's <a href=\"https://collegescorecard.ed.gov/data/\">College Scorecard Database</a>. The data is current as of the 2020-2021 school year.\n\n**Description of all variables:** See <a href=\"https://docs.google.com/document/d/1C3eR6jZQ2HNbB5QkHaPsBfOcROZRcZ0FtzZZiyyS9sQ/edit\">here</a>\n\n**Detailed data file description:** See <a href=\"https://docs.google.com/spreadsheets/d/1fa_Bd3_eYEmxvKPcu3hK2Dgazdk-9bkeJwONMS6u43Q/edit?usp=sharing\">here</a></div>"
    },
    {
      "cell_type": "markdown",
      "metadata": {
        "cell_id": "c42d9d851dda463789be46c684297f2a",
        "deepnote_cell_type": "markdown",
        "nbsimplegrader": {
          "config_key": "markdown.view-only",
          "editable": false,
          "label": "Markdown: View-Only",
          "respondable": false,
          "response": null,
          "runnable": false,
          "type": "markdown"
        },
        "tags": []
      },
      "source": "### 1.0 - Motivating multiple regression"
    },
    {
      "cell_type": "markdown",
      "metadata": {
        "cell_id": "ec6abef6bc8e4c0c8fcfd6337118d08a",
        "deepnote_cell_type": "markdown",
        "nbsimplegrader": {
          "config_key": "markdown.view-only",
          "editable": false,
          "label": "Markdown: View-Only",
          "respondable": false,
          "response": null,
          "runnable": false,
          "type": "markdown"
        },
        "tags": []
      },
      "source": "To begin, let's download our data. We'll download the `four_year_colleges.csv` file from the `skewthescript.org` website and store it in an R dataframe called `dat`."
    },
    {
      "cell_type": "code",
      "execution_count": null,
      "metadata": {
        "cell_id": "87fdc0af2159489784bd90c0af339197",
        "deepnote_cell_type": "code",
        "deepnote_to_be_reexecuted": false,
        "execution_millis": 600,
        "execution_start": 1709066309186,
        "nbsimplegrader": {
          "config_key": "code.run-only",
          "editable": false,
          "label": "Code: Run-Only",
          "respondable": false,
          "response": null,
          "runnable": true,
          "type": "code"
        },
        "output_cleared": false,
        "source_hash": "854f6b4d",
        "tags": [],
        "trusted": false
      },
      "outputs": [],
      "source": "## Run this code but do not edit it. Hit Ctrl+Enter to run the code.\n# This command downloads data from the file 'colleges.csv' and stores it in an object called `dat`\ndat <- read.csv('https://skewthescript.org/s/four_year_colleges.csv')\nhead(dat)"
    },
    {
      "cell_type": "markdown",
      "metadata": {
        "cell_id": "91b62a2bef48467088734500f7c6d30d",
        "deepnote_cell_type": "markdown",
        "nbsimplegrader": {
          "config_key": "markdown.view-only",
          "editable": false,
          "label": "Markdown: View-Only",
          "respondable": false,
          "response": null,
          "runnable": false,
          "type": "markdown"
        },
        "tags": []
      },
      "source": "As before, we're going to use **student loan default rates** as our key **outcome variable** in determining whether college \"pays off.\"\n\nIn the previous notebook, we looked at the following predictors of student loan default rates:\n- `pct_PELL` - percent of student body that receives PELL grants. Note: PELL grants are government scholarships given to students from low-income families\n- `grad_rate` - percent of students who successfully graduate\n- `net_tuition` - Net tuition (tuition minus average discounts and allowances) per student, in thousands of dollars"
    },
    {
      "cell_type": "markdown",
      "metadata": {
        "cell_id": "b4c9304eec834c00a637fce58fdd8f08",
        "deepnote_cell_type": "markdown",
        "nbsimplegrader": {
          "config_key": "markdown.view-only",
          "editable": false,
          "label": "Markdown: View-Only",
          "respondable": false,
          "response": null,
          "runnable": false,
          "type": "markdown"
        },
        "tags": []
      },
      "source": "In the last notebook, we fit a simple linear regression model to predict `default_rate` (outcome) using `net_tuition` (predictor). Below is the scatterplot we produced (along with a visual of our linear model):"
    },
    {
      "cell_type": "code",
      "execution_count": null,
      "metadata": {
        "cell_id": "ecce3d766f924008adefdef58f81b9de",
        "deepnote_cell_type": "code",
        "deepnote_to_be_reexecuted": false,
        "execution_millis": 535,
        "execution_start": 1709066309795,
        "nbsimplegrader": {
          "config_key": "code.run-only",
          "editable": false,
          "label": "Code: Run-Only",
          "respondable": false,
          "response": null,
          "runnable": true,
          "type": "code"
        },
        "output_cleared": false,
        "source_hash": "4fb5b965",
        "tags": [],
        "trusted": false
      },
      "outputs": [],
      "source": "## Run this code but do not edit it\n# create scatterplot: default_rate ~ net_tuition, with linear model overlayed\ngf_point(default_rate ~ net_tuition, data = dat) %>% gf_lm(color = \"orange\")"
    },
    {
      "cell_type": "markdown",
      "metadata": {
        "cell_id": "b0b8b057347649bb9e1d99ef3bb2e720",
        "deepnote_cell_type": "markdown",
        "nbsimplegrader": {
          "config_key": "markdown.view-only",
          "editable": false,
          "label": "Markdown: View-Only",
          "respondable": false,
          "response": null,
          "runnable": false,
          "type": "markdown"
        },
        "tags": []
      },
      "source": "<div class=\"alert alert-block alert-warning\">\n\n**1.1 (Review Question) -** Is the correlation between tuition costs and student loan default rates positive or negative? Does the direction of the relationship suprise you? Why or why not?\n    \n</div>"
    },
    {
      "cell_type": "markdown",
      "metadata": {
        "cell_id": "561061052f1e4ffdac7d831aca620515",
        "deepnote_cell_type": "markdown",
        "nbsimplegrader": {
          "config_key": "markdown.response",
          "editable": true,
          "label": "Response: Markdown",
          "respondable": true,
          "response": null,
          "runnable": true,
          "type": "markdown"
        },
        "tags": []
      },
      "source": "**Double-click this cell to type your answer here:** "
    },
    {
      "cell_type": "markdown",
      "metadata": {
        "cell_id": "e5ba0dbf7ccb4d5c98179882038f5329",
        "deepnote_cell_type": "markdown",
        "nbsimplegrader": {
          "config_key": "markdown.view-only",
          "editable": false,
          "label": "Markdown: View-Only",
          "respondable": false,
          "response": null,
          "runnable": false,
          "type": "markdown"
        },
        "tags": []
      },
      "source": "Below is the same graphic except, this time, we color the colleges by their graduation rates. Take a look:"
    },
    {
      "cell_type": "code",
      "execution_count": null,
      "metadata": {
        "cell_id": "3081d2047a494002a55316f5986e2144",
        "deepnote_cell_type": "code",
        "deepnote_to_be_reexecuted": false,
        "execution_millis": 514,
        "execution_start": 1709066310344,
        "nbsimplegrader": {
          "config_key": "code.run-only",
          "editable": false,
          "label": "Code: Run-Only",
          "respondable": false,
          "response": null,
          "runnable": true,
          "type": "code"
        },
        "output_cleared": false,
        "source_hash": "aeb34bea",
        "tags": [],
        "trusted": false
      },
      "outputs": [],
      "source": "## Run this code but do not edit it\n# show scatter for default_rate ~ net_tuition, color by grad_rate\ngf_point(default_rate ~ net_tuition, color = ~grad_rate, data = dat)"
    },
    {
      "cell_type": "markdown",
      "metadata": {
        "cell_id": "9508b303b7854377ba585b52582fbe77",
        "deepnote_cell_type": "markdown",
        "nbsimplegrader": {
          "config_key": "markdown.view-only",
          "editable": false,
          "label": "Markdown: View-Only",
          "respondable": false,
          "response": null,
          "runnable": false,
          "type": "markdown"
        },
        "tags": []
      },
      "source": "**Note:** As stated in the dataset description above, <code>default_rate</code> describes the percent of <b>all</b> of a school's borrowers that are in default on their student loans. This includes students who have graduated, transferred, or did not complete their programs."
    },
    {
      "cell_type": "markdown",
      "metadata": {
        "cell_id": "d5f975fafe804f72876c5f53f1284626",
        "deepnote_cell_type": "markdown",
        "nbsimplegrader": {
          "config_key": "markdown.view-only",
          "editable": false,
          "label": "Markdown: View-Only",
          "respondable": false,
          "response": null,
          "runnable": false,
          "type": "markdown"
        },
        "tags": []
      },
      "source": "**There's a lot going on in this graph.** For help, we recommend watching <a href=\"https://youtu.be/vEXWnOs72oQ\">this video</a>, which discusses how to interpret graphs that visualize multiple variables at once.\n\n<div class=\"alert alert-block alert-warning\">\n    \n**1.2 -** Look at the bottom-right corner of the graph. These are colleges that charge their students a lot of money (high tuition) yet, somehow, they have low student loan default rates. Describe the graduation rates of these schools.\n    \n</div>"
    },
    {
      "cell_type": "markdown",
      "metadata": {
        "cell_id": "c08fa637b3bb4dec97ca0cdaa9776f7f",
        "deepnote_cell_type": "markdown",
        "nbsimplegrader": {
          "config_key": "markdown.response",
          "editable": true,
          "label": "Response: Markdown",
          "respondable": true,
          "response": null,
          "runnable": true,
          "type": "markdown"
        },
        "tags": []
      },
      "source": "**Double-click this cell to type your answer here:** "
    },
    {
      "cell_type": "markdown",
      "metadata": {
        "cell_id": "ff5e98cee32d488394af1934e03a746b",
        "deepnote_cell_type": "markdown",
        "nbsimplegrader": {
          "config_key": "markdown.view-only",
          "editable": false,
          "label": "Markdown: View-Only",
          "respondable": false,
          "response": null,
          "runnable": false,
          "type": "markdown"
        },
        "tags": []
      },
      "source": "<div class=\"alert alert-block alert-warning\">\n\n**1.3 -** Look at the top-left corner of the graph. These are colleges that don't charge a lot (low tuitions) yet, somehow, their students have high default rates. Describe the graduation rates of these schools.\n    \n</div>"
    },
    {
      "cell_type": "markdown",
      "metadata": {
        "cell_id": "7c77eec35eb543749fbee076cc0362ab",
        "deepnote_cell_type": "markdown",
        "nbsimplegrader": {
          "config_key": "markdown.response",
          "editable": true,
          "label": "Response: Markdown",
          "respondable": true,
          "response": null,
          "runnable": true,
          "type": "markdown"
        },
        "tags": []
      },
      "source": "**Double-click this cell to type your answer here:** "
    },
    {
      "cell_type": "markdown",
      "metadata": {
        "cell_id": "cf663736649046fdac3f27c283da9a98",
        "deepnote_cell_type": "markdown",
        "nbsimplegrader": {
          "config_key": "markdown.view-only",
          "editable": false,
          "label": "Markdown: View-Only",
          "respondable": false,
          "response": null,
          "runnable": false,
          "type": "markdown"
        },
        "tags": []
      },
      "source": "<div class=\"alert alert-block alert-warning\">\n\n**1.4 -** Based on your answers to the previous two questions, give a possible reason why students at **lower-cost** schools (who, presumably, have less initial debt than their peers) somehow have **higher** loan default rates.\n    \n</div>"
    },
    {
      "cell_type": "markdown",
      "metadata": {
        "cell_id": "39b5fb104dd8428d9ba2099c0b2bf687",
        "deepnote_cell_type": "markdown",
        "nbsimplegrader": {
          "config_key": "markdown.response",
          "editable": true,
          "label": "Response: Markdown",
          "respondable": true,
          "response": null,
          "runnable": true,
          "type": "markdown"
        },
        "tags": []
      },
      "source": "**Double-click this cell to type your answer here:** "
    },
    {
      "cell_type": "markdown",
      "metadata": {
        "cell_id": "4e008bc3541f43aca76ea5c319e6051b",
        "deepnote_cell_type": "markdown",
        "nbsimplegrader": {
          "config_key": "markdown.view-only",
          "editable": false,
          "label": "Markdown: View-Only",
          "respondable": false,
          "response": null,
          "runnable": false,
          "type": "markdown"
        },
        "tags": []
      },
      "source": "In data science, we say that graduation rates and tuition are **confounded**. Since they both rise and fall together, it can be hard to tell which is really \"making the difference\" in default rates. Is it possible to \"tease out\" which factor is *more* directly associated with students being able to pay off their loans? The next section will introduce you to a new type of modeling - multiple regression - that can help us answer this question."
    },
    {
      "cell_type": "markdown",
      "metadata": {
        "cell_id": "c89edafc93ee464f96f72b1a98335020",
        "deepnote_cell_type": "markdown",
        "nbsimplegrader": {
          "config_key": "markdown.view-only",
          "editable": false,
          "label": "Markdown: View-Only",
          "respondable": false,
          "response": null,
          "runnable": false,
          "type": "markdown"
        },
        "tags": []
      },
      "source": "### 2.0 - Fitting and interpreting a multiple regression model"
    },
    {
      "cell_type": "markdown",
      "metadata": {
        "cell_id": "43700d7aaf6344e3a7f61557648c4cf5",
        "deepnote_cell_type": "markdown",
        "nbsimplegrader": {
          "config_key": "markdown.view-only",
          "editable": false,
          "label": "Markdown: View-Only",
          "respondable": false,
          "response": null,
          "runnable": false,
          "type": "markdown"
        },
        "tags": []
      },
      "source": "Again, let's show the scatterplot between `net_tuition` (predictor) and `default_rate` (outcome), along with the linear model:"
    },
    {
      "cell_type": "code",
      "execution_count": null,
      "metadata": {
        "cell_id": "28ca6a9ee09a497e840525b2d2053c23",
        "deepnote_cell_type": "code",
        "deepnote_to_be_reexecuted": false,
        "execution_millis": 474,
        "execution_start": 1709066310860,
        "nbsimplegrader": {
          "config_key": "code.run-only",
          "editable": false,
          "label": "Code: Run-Only",
          "respondable": false,
          "response": null,
          "runnable": true,
          "type": "code"
        },
        "output_cleared": false,
        "source_hash": "4fb5b965",
        "tags": [],
        "trusted": false
      },
      "outputs": [],
      "source": "## Run this code but do not edit it\n# create scatterplot: default_rate ~ net_tuition, with linear model overlayed\ngf_point(default_rate ~ net_tuition, data = dat) %>% gf_lm(color = \"orange\")"
    },
    {
      "cell_type": "markdown",
      "metadata": {
        "cell_id": "ccfb4e2cbd964db29412a230573e963d",
        "deepnote_cell_type": "markdown",
        "nbsimplegrader": {
          "config_key": "markdown.view-only",
          "editable": false,
          "label": "Markdown: View-Only",
          "respondable": false,
          "response": null,
          "runnable": false,
          "type": "markdown"
        },
        "tags": []
      },
      "source": "<div class=\"alert alert-block alert-warning\">\n\n**2.1 (Review Question) -** Use the `lm` command to fit and store the linear regression model that's visualized above, using `net_tuition` (predictor) in order to predict `default_rate` (outcome). Save the model in an object called `tuition_model` and print out the model.\n    \n</div>"
    },
    {
      "cell_type": "code",
      "execution_count": null,
      "metadata": {
        "cell_id": "b7c8c3a604f64a438a324ef54956b372",
        "deepnote_cell_type": "code",
        "deepnote_to_be_reexecuted": false,
        "execution_millis": 237,
        "execution_start": 1709066311321,
        "nbsimplegrader": {
          "config_key": "code.response",
          "editable": true,
          "label": "Response: Code",
          "respondable": true,
          "response": null,
          "runnable": true,
          "type": "code"
        },
        "output_cleared": false,
        "source_hash": "24e0aeab",
        "tags": [],
        "trusted": false
      },
      "outputs": [],
      "source": "# Your code goes here\n"
    },
    {
      "cell_type": "markdown",
      "metadata": {
        "cell_id": "631bb11c757c4db3bd6a61ae075f50f5",
        "deepnote_cell_type": "markdown",
        "nbsimplegrader": {
          "config_key": "markdown.view-only",
          "editable": false,
          "label": "Markdown: View-Only",
          "respondable": false,
          "response": null,
          "runnable": false,
          "type": "markdown"
        }
      },
      "source": "<div class=\"alert alert-block alert-info\">\n\n**Check yourself:** If you print out `tuition_model`, you should see two numbers: 8.0029 and -0.2077.</div>"
    },
    {
      "cell_type": "markdown",
      "metadata": {
        "cell_id": "263eab196ef74fb1b548b4373b715d2c",
        "deepnote_cell_type": "markdown",
        "nbsimplegrader": {
          "config_key": "markdown.view-only",
          "editable": false,
          "label": "Markdown: View-Only",
          "respondable": false,
          "response": null,
          "runnable": false,
          "type": "markdown"
        },
        "tags": []
      },
      "source": "Recall that simple linear regressions follow this formula:\n\n$$\n\\hat{y} = \\beta_{0} + \\beta_{1}x\n$$\nWhere:\n- $\\hat{y}$ is the predicted y-value (predicted outcome value)\n- $\\beta_{0}$ is the y-intercept --> the predicted y-value (outcome value) when x = 0 (the predictor's value is 0)\n- $\\beta_{1}$ is the slope --> the predicted change in y (outcome) for a 1-unit increase in x (predictor)\n- $x$ is the x-value (predictor value)"
    },
    {
      "cell_type": "markdown",
      "metadata": {
        "cell_id": "26bdc63ce7b7477db37ef930240f600e",
        "deepnote_cell_type": "markdown",
        "nbsimplegrader": {
          "config_key": "markdown.view-only",
          "editable": false,
          "label": "Markdown: View-Only",
          "respondable": false,
          "response": null,
          "runnable": false,
          "type": "markdown"
        },
        "tags": []
      },
      "source": "<div class=\"alert alert-block alert-warning\">\n\n**2.2 (Review Question) -** What is the slope value from our `tuition_model`? Interpret the meaning of this value (in context).\n    \n</div>"
    },
    {
      "cell_type": "markdown",
      "metadata": {
        "cell_id": "a7de69b6c1b749eabc2abaf3281fcf85",
        "deepnote_cell_type": "markdown",
        "nbsimplegrader": {
          "config_key": "markdown.response",
          "editable": true,
          "label": "Response: Markdown",
          "respondable": true,
          "response": null,
          "runnable": true,
          "type": "markdown"
        },
        "tags": []
      },
      "source": "**Double-click this cell to type your answer here:** "
    },
    {
      "cell_type": "markdown",
      "metadata": {
        "cell_id": "6470b7bf683d4727a536e7eda13f4967",
        "deepnote_cell_type": "markdown",
        "nbsimplegrader": {
          "config_key": "markdown.view-only",
          "editable": false,
          "label": "Markdown: View-Only",
          "respondable": false,
          "response": null,
          "runnable": false,
          "type": "markdown"
        },
        "tags": []
      },
      "source": "<div class=\"alert alert-block alert-warning\">\n\n**2.3 (Review Question) -** Use the `summary` command on `tuition_model` to see summary information about the linear model. What is the $R^2$ value from our `tuition_model`? What does this value indicate about the strength of the model?\n    \n</div>"
    },
    {
      "cell_type": "code",
      "execution_count": null,
      "metadata": {
        "cell_id": "27188e452eed4d1583d5855f95fcda8d",
        "deepnote_cell_type": "code",
        "deepnote_to_be_reexecuted": false,
        "execution_millis": 244,
        "execution_start": 1709066311336,
        "nbsimplegrader": {
          "config_key": "code.response",
          "editable": true,
          "label": "Response: Code",
          "respondable": true,
          "response": null,
          "runnable": true,
          "type": "code"
        },
        "output_cleared": false,
        "source_hash": "a6734849",
        "tags": [],
        "trusted": false
      },
      "outputs": [],
      "source": "# Your code goes here\n"
    },
    {
      "cell_type": "markdown",
      "metadata": {
        "cell_id": "bee4c340fa9a47dba25cbb7609526617",
        "deepnote_cell_type": "markdown",
        "nbsimplegrader": {
          "config_key": "markdown.view-only",
          "editable": false,
          "label": "Markdown: View-Only",
          "respondable": false,
          "response": null,
          "runnable": false,
          "type": "markdown"
        }
      },
      "source": "<div class=\"alert alert-block alert-info\">\n\n**Check yourself:** You should find an $R^2$ value of 0.1882 </div>"
    },
    {
      "cell_type": "markdown",
      "metadata": {
        "cell_id": "9c879ac4d574436cb79f4571be7567bd",
        "deepnote_cell_type": "markdown",
        "nbsimplegrader": {
          "config_key": "markdown.response",
          "editable": true,
          "label": "Response: Markdown",
          "respondable": true,
          "response": null,
          "runnable": true,
          "type": "markdown"
        },
        "tags": []
      },
      "source": "**Double-click this cell to type your answer here:** "
    },
    {
      "cell_type": "markdown",
      "metadata": {
        "cell_id": "52b9c400b1bd449eb094bc49a02c7f58",
        "deepnote_cell_type": "markdown",
        "nbsimplegrader": {
          "config_key": "markdown.view-only",
          "editable": false,
          "label": "Markdown: View-Only",
          "respondable": false,
          "response": null,
          "runnable": false,
          "type": "markdown"
        }
      },
      "source": "<div class=\"alert alert-block alert-info\"><b>Student Note:</b> There's a lot going on in the following section. We recommend taking a break to watch <a href=\"https://youtu.be/kFB2Dp_gaWQ\">this video</a>, which provides an overview of multiple regression models and walks through interpreting the values from this model. Once you're done with the video, continue reading below."
    },
    {
      "cell_type": "markdown",
      "metadata": {
        "cell_id": "e2e70e6dc23c4589b7399ce391d1d781",
        "deepnote_cell_type": "markdown",
        "nbsimplegrader": {
          "config_key": "markdown.view-only",
          "editable": false,
          "label": "Markdown: View-Only",
          "respondable": false,
          "response": null,
          "runnable": false,
          "type": "markdown"
        },
        "tags": []
      },
      "source": "So far, we have only been working with simple linear regressions: models that use one predictor variable (`net_tuition`) to predict the outcome variables (`default_rate`). If we'd like to use multiple predictor variables at once in order to model our outcome, we can use a technique called **multiple regression**.\n\nFor example, imagine we want to use **both** `net_tuition` ($x_{1}$) and `grad_rate` ($x_{2}$) to predict `default_rate` ($y$). We can write a new model with multiple predictors, like this:\n\n$$\n\\hat{y} = \\beta_{0} + \\beta_{1}x_{1} + \\beta_{2}x_{2}\n$$\nWhere:\n- $\\hat{y}$ is the predicted `default_rate`\n- $x_{1}$ is the `net_tuition`\n- $x_{2}$ is the `grad_rate`\n\nThis means that...\n- $\\beta_{1}$ is the slope for `net_tuition` --> the slope between `default_rate` and `net_tuition`, controlling for all other predictors\n- $\\beta_{2}$ is the slope for `grad_rate` --> the slope between `default_rate` and `grad_rate`, controlling for all other predictors\n- $\\beta_{0}$ is the y-intercept --> the predicted y-value when $x_{1} = 0$ and $x_{2} = 0$ (when `net_tuition` and `grad_rate` are both 0)\n\nLet's go ahead and fit this model, so we can understand what this all really means. In R, if we want to use multiple predictors within our model (such as `net_tuition` and `grad_rate`), we simply include both of them in our `lm` command. See below:"
    },
    {
      "cell_type": "code",
      "execution_count": null,
      "metadata": {
        "cell_id": "8598d4c8c8eb4df3a0420c5ad0ad316b",
        "deepnote_cell_type": "code",
        "deepnote_to_be_reexecuted": false,
        "execution_millis": 215,
        "execution_start": 1709066311365,
        "nbsimplegrader": {
          "config_key": "code.run-only",
          "editable": false,
          "label": "Code: Run-Only",
          "respondable": false,
          "response": null,
          "runnable": true,
          "type": "code"
        },
        "output_cleared": false,
        "source_hash": "1818c4cf",
        "tags": [],
        "trusted": false
      },
      "outputs": [],
      "source": "## Run this code but do not edit it\n# fit multiple regression: default_rate ~ net_tuition + grad_rate\ntuition_grad_model <- lm(default_rate ~ net_tuition + grad_rate, data = dat)\ntuition_grad_model"
    },
    {
      "cell_type": "markdown",
      "metadata": {
        "cell_id": "eda0d487aa58411db94e79c2bf2c0f57",
        "deepnote_cell_type": "markdown",
        "nbsimplegrader": {
          "config_key": "markdown.view-only",
          "editable": false,
          "label": "Markdown: View-Only",
          "respondable": false,
          "response": null,
          "runnable": false,
          "type": "markdown"
        },
        "tags": []
      },
      "source": "As you can see, the values have changed a bit, and an extra slope term has now appeared in our model. We can plug these values into our model like so:\n\n$$\n\\hat{y} = 14.479 + (0.007)x_{1} + (-0.160)x_{2}\n$$\n\nHere's how we can interpret the slopes in our model:\n- $\\beta_{1} = 0.007$ --> For every 1,000 dollar increase in `net_tuition`, we expect a 0.007 percent point **increase** in `default_rate`, controlling for `grad_rate`\n- $\\beta_{2} = -0.160$ -->  For every 1 percentage point increase in `grad_rate`, we expect a 0.160 percentage point **decrease** in `default_rate`, controlling for `net_tuition`\n\nThe key is that multiple regression allows you to **control for other predictors**, which helps us **eliminate confounding**. When we can control for graduation rates - i.e. when comparing colleges with similar graduation rates - we see that tuition is now **positively** related to default rates. In other words, if students attend colleges with similar graduation rates, we'd expect the one that charges more in tuition to have higher rates of default. \n\nSo, charging students more for school is, in fact, associated with higher rates of default - as long as we're comparing among schools with similar graduation rates."
    },
    {
      "cell_type": "markdown",
      "metadata": {
        "cell_id": "4d1299dd7799431a8894ec1340d6fc65",
        "deepnote_cell_type": "markdown",
        "nbsimplegrader": {
          "config_key": "markdown.view-only",
          "editable": false,
          "label": "Markdown: View-Only",
          "respondable": false,
          "response": null,
          "runnable": false,
          "type": "markdown"
        },
        "tags": []
      },
      "source": "Just as we can use the `summary` command to find the $R^2$ value of a simple linear regression, we can use `summary` to find the $R^2$ of our multiple regression model:"
    },
    {
      "cell_type": "code",
      "execution_count": null,
      "metadata": {
        "cell_id": "ef5f01d29e9a41f39cbfd8ba7afa1753",
        "deepnote_cell_type": "code",
        "deepnote_to_be_reexecuted": false,
        "execution_millis": 151,
        "execution_start": 1709066311429,
        "nbsimplegrader": {
          "config_key": "code.run-only",
          "editable": false,
          "label": "Code: Run-Only",
          "respondable": false,
          "response": null,
          "runnable": true,
          "type": "code"
        },
        "output_cleared": false,
        "source_hash": "25b59b6c",
        "tags": [],
        "trusted": false
      },
      "outputs": [],
      "source": "## Run this code but do not edit it\n# summary of tuition_grad_model\nsummary(tuition_grad_model)"
    },
    {
      "cell_type": "markdown",
      "metadata": {
        "cell_id": "075ed6d0c1ab4c57b63706d8d057e367",
        "deepnote_cell_type": "markdown",
        "nbsimplegrader": {
          "config_key": "markdown.view-only",
          "editable": false,
          "label": "Markdown: View-Only",
          "respondable": false,
          "response": null,
          "runnable": false,
          "type": "markdown"
        },
        "tags": []
      },
      "source": "<div class=\"alert alert-block alert-warning\">\n\n**2.4 -** How does the $R^2$ value of our multiple regression model (`tuition_grad_model`) compare to the $R^2$ value of our simple linear regression model (`tuition_model`). Did adding `grad_rate` alongside `net_tuition` help make the model's predictions stronger? Explain.\n    \n</div>"
    },
    {
      "cell_type": "markdown",
      "metadata": {
        "cell_id": "206109dc4b9e4b1ab705dff94c2470d5",
        "deepnote_cell_type": "markdown",
        "nbsimplegrader": {
          "config_key": "markdown.response",
          "editable": true,
          "label": "Response: Markdown",
          "respondable": true,
          "response": null,
          "runnable": true,
          "type": "markdown"
        },
        "tags": []
      },
      "source": "**Double-click this cell to type your answer here:** "
    },
    {
      "cell_type": "markdown",
      "metadata": {
        "cell_id": "4ff6902c5a964ecfabf03a5fb2da25eb",
        "deepnote_cell_type": "markdown",
        "nbsimplegrader": {
          "config_key": "markdown.view-only",
          "editable": false,
          "label": "Markdown: View-Only",
          "respondable": false,
          "response": null,
          "runnable": false,
          "type": "markdown"
        },
        "tags": []
      },
      "source": "### 3.0 - Making your own multiple regression models"
    },
    {
      "cell_type": "markdown",
      "metadata": {
        "cell_id": "62de31a2276a454ab74f84afd3e7116b",
        "deepnote_cell_type": "markdown",
        "nbsimplegrader": {
          "config_key": "markdown.view-only",
          "editable": false,
          "label": "Markdown: View-Only",
          "respondable": false,
          "response": null,
          "runnable": false,
          "type": "markdown"
        },
        "tags": []
      },
      "source": "<div class=\"alert alert-block alert-warning\">\n\n**3.1 -** There's no reason that you have to stop at 2 predictors. Your model could have many predictors! Use the `lm` command to create a model that predicts `default_rate` using three predictor variables: `net_tuition`, `grad_rate`, and `pct_PELL`. Store the model in an object called `tuition_grad_pell_model` and then print out the model.\n    \n</div>"
    },
    {
      "cell_type": "code",
      "execution_count": null,
      "metadata": {
        "cell_id": "ccbeace615ca4f538ff6897ad95f186b",
        "deepnote_cell_type": "code",
        "deepnote_to_be_reexecuted": false,
        "execution_millis": 95,
        "execution_start": 1709066311485,
        "nbsimplegrader": {
          "config_key": "code.response",
          "editable": true,
          "label": "Response: Code",
          "respondable": true,
          "response": null,
          "runnable": true,
          "type": "code"
        },
        "output_cleared": false,
        "source_hash": "3773f2f2",
        "tags": [],
        "trusted": false
      },
      "outputs": [],
      "source": "# Your code goes here\n"
    },
    {
      "cell_type": "markdown",
      "metadata": {
        "cell_id": "9935dc3a35004a66a1c9f7ebbd301fbc",
        "deepnote_cell_type": "markdown",
        "nbsimplegrader": {
          "config_key": "markdown.view-only",
          "editable": false,
          "label": "Markdown: View-Only",
          "respondable": false,
          "response": null,
          "runnable": false,
          "type": "markdown"
        }
      },
      "source": "<div class=\"alert alert-block alert-info\">\n\n**Check yourself:** When you print out the model, you should see four numbers: 8.513, 0.031, -0.117, 0.090 </div>"
    },
    {
      "cell_type": "markdown",
      "metadata": {
        "cell_id": "26649cc20a7547cb8b2625a93ab079e4",
        "deepnote_cell_type": "markdown",
        "nbsimplegrader": {
          "config_key": "markdown.view-only",
          "editable": false,
          "label": "Markdown: View-Only",
          "respondable": false,
          "response": null,
          "runnable": false,
          "type": "markdown"
        },
        "tags": []
      },
      "source": "<div class=\"alert alert-block alert-warning\">\n\n**3.2 -** Interpret (in context) the slope value for `pct_PELL` from your model.\n    \n</div>"
    },
    {
      "cell_type": "markdown",
      "metadata": {
        "cell_id": "d241385addb54481a6f982d4b8ac73e5",
        "deepnote_cell_type": "markdown",
        "nbsimplegrader": {
          "config_key": "markdown.response",
          "editable": true,
          "label": "Response: Markdown",
          "respondable": true,
          "response": null,
          "runnable": true,
          "type": "markdown"
        },
        "tags": []
      },
      "source": "**Double-click this cell to type your answer here:** "
    },
    {
      "cell_type": "markdown",
      "metadata": {
        "cell_id": "f553464f62814735adc6dc5d3c78239f",
        "deepnote_cell_type": "markdown",
        "nbsimplegrader": {
          "config_key": "markdown.view-only",
          "editable": false,
          "label": "Markdown: View-Only",
          "respondable": false,
          "response": null,
          "runnable": false,
          "type": "markdown"
        },
        "tags": []
      },
      "source": "<div class=\"alert alert-block alert-warning\">\n\n**3.3 -** Use the `summary` command to find the $R^2$ value of the `tuition_grad_pell_model`.\n    \n</div>"
    },
    {
      "cell_type": "code",
      "execution_count": null,
      "metadata": {
        "cell_id": "0ff2f217a5a4404181d9c61586c662f9",
        "deepnote_cell_type": "code",
        "deepnote_to_be_reexecuted": false,
        "execution_millis": 94,
        "execution_start": 1709066311486,
        "nbsimplegrader": {
          "config_key": "code.response",
          "editable": true,
          "label": "Response: Code",
          "respondable": true,
          "response": null,
          "runnable": true,
          "type": "code"
        },
        "output_cleared": false,
        "source_hash": "a04c7c61",
        "tags": [],
        "trusted": false
      },
      "outputs": [],
      "source": "# Your code goes here\n"
    },
    {
      "cell_type": "markdown",
      "metadata": {
        "cell_id": "7132051b6d864f5e82a9852edf6e2f77",
        "deepnote_cell_type": "markdown",
        "nbsimplegrader": {
          "config_key": "markdown.view-only",
          "editable": false,
          "label": "Markdown: View-Only",
          "respondable": false,
          "response": null,
          "runnable": false,
          "type": "markdown"
        }
      },
      "source": "<div class=\"alert alert-block alert-info\">\n\n**Check yourself:** The output should show an $R^2$ value of 0.5775 </div>"
    },
    {
      "cell_type": "markdown",
      "metadata": {
        "cell_id": "4952321f01f940ed834858e395fd7feb",
        "deepnote_cell_type": "markdown",
        "nbsimplegrader": {
          "config_key": "markdown.view-only",
          "editable": false,
          "label": "Markdown: View-Only",
          "respondable": false,
          "response": null,
          "runnable": false,
          "type": "markdown"
        },
        "tags": []
      },
      "source": "<div class=\"alert alert-block alert-warning\">\n\n**3.4 -** Compare the $R^2$ values from `tuition_grad_model` and `tuition_grad_pell_model`. Did adding `pct_PELL` strengthen the model's predictions? If so, did it strengthen the model's predictions by a large amount? Explain.\n    \n</div>"
    },
    {
      "cell_type": "markdown",
      "metadata": {
        "cell_id": "470e7f9c66c14dbf9180cf953d337177",
        "deepnote_cell_type": "markdown",
        "nbsimplegrader": {
          "config_key": "markdown.response",
          "editable": true,
          "label": "Response: Markdown",
          "respondable": true,
          "response": null,
          "runnable": true,
          "type": "markdown"
        },
        "tags": []
      },
      "source": "**Double-click this cell to type your answer here:** "
    },
    {
      "cell_type": "markdown",
      "metadata": {
        "cell_id": "00de1cf73f11491eb2496691720a07ac",
        "deepnote_cell_type": "markdown",
        "nbsimplegrader": {
          "config_key": "markdown.view-only",
          "editable": false,
          "label": "Markdown: View-Only",
          "respondable": false,
          "response": null,
          "runnable": false,
          "type": "markdown"
        },
        "tags": []
      },
      "source": "<div class=\"alert alert-block alert-warning\">\n\n**3.5 -** Create *your own* multiple regression model, using variables of your own choosing. Analyze the slope values from at least two separate predictors and try to maximize the $R^2$ value. \n\n**Hints:** \n- Look at the dataset description <a href=\"https://docs.google.com/document/d/1C3eR6jZQ2HNbB5QkHaPsBfOcROZRcZ0FtzZZiyyS9sQ/edit\">here</a> to identify good potential predictor variables for your model.\n- You may be tempted to use *all* the variables in the dataset as predictors. This may not be the best idea. The next notebook will explore why.\n    \n</div>"
    },
    {
      "cell_type": "code",
      "execution_count": null,
      "metadata": {
        "cell_id": "3af6e0a2ab494ec594800a93ec6e12cf",
        "deepnote_cell_type": "code",
        "deepnote_to_be_reexecuted": false,
        "execution_millis": 40,
        "execution_start": 1709066311541,
        "nbsimplegrader": {
          "config_key": "code.response",
          "editable": true,
          "label": "Response: Code",
          "respondable": true,
          "response": null,
          "runnable": true,
          "type": "code"
        },
        "output_cleared": false,
        "source_hash": "bcb1ba1a",
        "tags": [],
        "trusted": false
      },
      "outputs": [],
      "source": "# Your code goes here\n"
    },
    {
      "cell_type": "markdown",
      "metadata": {
        "cell_id": "381b4d6a7fbf4326afb7a3f3bd35551d",
        "deepnote_cell_type": "markdown",
        "nbsimplegrader": {
          "config_key": "markdown.view-only",
          "editable": false,
          "label": "Markdown: View-Only",
          "respondable": false,
          "response": null,
          "runnable": false,
          "type": "markdown"
        }
      },
      "source": "### Feedback (Required)\n\nPlease take 2 minutes to fill out <a href=\"https://forms.gle/ePwTHdSeAc8FvVjg7\">this anonymous notebook feedback form</a>, so we can continue improving this notebook for future years!"
    }
  ],
  "metadata": {
    "deepnote_execution_queue": [],
    "deepnote_notebook_id": "ceb42a3c926441969459a33bc4f79a68",
    "kernelspec": {
      "display_name": "R",
      "language": "R",
      "name": "ir"
    },
    "language_info": {
      "codemirror_mode": "r",
      "file_extension": ".r",
      "mimetype": "text/x-r-source",
      "name": "R",
      "pygments_lexer": "r",
      "version": "4.3.3"
    },
    "nbsimplegrader": {
      "publish_config": {
        "classes": [
          "2024DSChallenge_youngsaver"
        ],
        "options": {
          "include_submit": false,
          "lock_notebook": false
        },
        "tools": []
      }
    }
  },
  "nbformat": 4,
  "nbformat_minor": 1
}