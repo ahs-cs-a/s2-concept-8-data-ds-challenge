{
 "cells": [
  {
   "cell_type": "code",
   "execution_count": null,
   "metadata": {
    "vscode": {
     "languageId": "r"
    }
   },
   "outputs": [],
   "source": [
    "library(coursekata)"
   ]
  },
  {
   "cell_type": "markdown",
   "metadata": {},
   "source": [
    "I want to know the top five(5) public and private median alumni earnings in descending order. I have removed information the notebook needs to solve this problem. Fill in the \"...\" moments."
   ]
  },
  {
   "cell_type": "code",
   "execution_count": 16,
   "metadata": {
    "vscode": {
     "languageId": "r"
    }
   },
   "outputs": [],
   "source": [
    "dat <- read.csv('https://skewthescript.org/s/colleges.csv')\n",
    "#head(dat) # You probably want to look at this to get the right columns\n",
    "working <- select(dat, ..., ..., ..., ....)\n",
    "public <- subset(working, ...)\n",
    "private <- subset(..., grepl(\"Private\", ownership)) # grepl searches for substrings\n",
    "public_desc <- arrange(..., med_alum_earnings)\n",
    "private_desc <- arrange(..., ...)\n",
    "\n"
   ]
  },
  {
   "cell_type": "markdown",
   "metadata": {
    "vscode": {
     "languageId": "r"
    }
   },
   "source": [
    "**Top 5 Public Colleges ordered by Median Alumni Earning Ten(10) Years after Graduating**"
   ]
  },
  {
   "cell_type": "code",
   "execution_count": null,
   "metadata": {
    "vscode": {
     "languageId": "r"
    }
   },
   "outputs": [],
   "source": [
    "head(public_desc)"
   ]
  },
  {
   "cell_type": "markdown",
   "metadata": {
    "vscode": {
     "languageId": "r"
    }
   },
   "source": [
    "**Top 5 Private Colleges ordered by Median Alumni Earning Ten(10) Years after Graduating**"
   ]
  },
  {
   "cell_type": "code",
   "execution_count": null,
   "metadata": {
    "vscode": {
     "languageId": "r"
    }
   },
   "outputs": [],
   "source": [
    "head(private_desc)"
   ]
  }
 ],
 "metadata": {
  "language_info": {
   "name": "python"
  }
 },
 "nbformat": 4,
 "nbformat_minor": 2
}
