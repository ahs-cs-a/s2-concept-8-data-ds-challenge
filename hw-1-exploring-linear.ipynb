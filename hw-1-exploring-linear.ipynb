{
 "cells": [
  {
   "cell_type": "markdown",
   "metadata": {},
   "source": [
    "**Concept #8: HW #1: Exploring DataSets and Linear Regression** "
   ]
  },
  {
   "cell_type": "markdown",
   "metadata": {},
   "source": [
    "We spent this week wrapping our minds around how to use the statistical language R to explore data sets and evaluate potential predictive linear relationships between variables related to college attendance(e.g. debt, avg cost, avg earning, etc.)\n",
    "\n",
    "In this notebook, I want you to explore <a href=\"https://docs.google.com/document/d/1C3eR6jZQ2HNbB5QkHaPsBfOcROZRcZ0FtzZZiyyS9sQ/edit\">net tuition</a> as it relates to median family income(med_fam_income), median earning ten years out of college(med_alum_earnings), and percent of student receiving a federal loan(pct_fed_loan)."
   ]
  },
  {
   "cell_type": "code",
   "execution_count": null,
   "metadata": {
    "vscode": {
     "languageId": "r"
    }
   },
   "outputs": [],
   "source": [
    "# run this cell or none of the functions you need are loaded\n",
    "library(coursekata)"
   ]
  },
  {
   "cell_type": "code",
   "execution_count": 5,
   "metadata": {
    "vscode": {
     "languageId": "r"
    }
   },
   "outputs": [],
   "source": [
    "## Run this code but do not edit it. Hit Ctrl+Enter to run the code\n",
    "# This command downloads the data\n",
    "dat <- read.csv('https://skewthescript.org/s/four_year_colleges.csv')"
   ]
  },
  {
   "cell_type": "code",
   "execution_count": null,
   "metadata": {
    "vscode": {
     "languageId": "r"
    }
   },
   "outputs": [],
   "source": [
    "head(dat)"
   ]
  },
  {
   "cell_type": "markdown",
   "metadata": {
    "vscode": {
     "languageId": "r"
    }
   },
   "source": [
    "**Part 1: Exploring the net tuition**\n",
    "\n",
    "a) Display the college name, net_tuition, percentage of federal loan, median family income, and median alumni earnings in descending order by net_tuition"
   ]
  },
  {
   "cell_type": "code",
   "execution_count": null,
   "metadata": {
    "vscode": {
     "languageId": "r"
    }
   },
   "outputs": [],
   "source": [
    "records <- select(..., ..., ..., ..., ..., ...)\n",
    "arrange(..., desc(...))"
   ]
  },
  {
   "cell_type": "markdown",
   "metadata": {
    "vscode": {
     "languageId": "r"
    }
   },
   "source": [
    "b) Choose a subset of the records from part a, above, where the median alumni earnings are greater than 80,000 a year(80 in this column represents 80,000) "
   ]
  },
  {
   "cell_type": "code",
   "execution_count": null,
   "metadata": {
    "vscode": {
     "languageId": "r"
    }
   },
   "outputs": [],
   "source": [
    "only_top_earnings <- arrange(subset(..., ...), ...)\n",
    "only_top_earnings"
   ]
  },
  {
   "cell_type": "markdown",
   "metadata": {},
   "source": [
    "c) How many schools have average alumni earnings ten years after graduation over 80,000? Use the `dim` command to answer this question. "
   ]
  },
  {
   "cell_type": "code",
   "execution_count": 22,
   "metadata": {
    "vscode": {
     "languageId": "r"
    }
   },
   "outputs": [
    {
     "data": {
      "text/html": [
       "<style>\n",
       ".list-inline {list-style: none; margin:0; padding: 0}\n",
       ".list-inline>li {display: inline-block}\n",
       ".list-inline>li:not(:last-child)::after {content: \"\\00b7\"; padding: 0 .5ex}\n",
       "</style>\n",
       "<ol class=list-inline><li>48</li><li>5</li></ol>\n"
      ],
      "text/latex": [
       "\\begin{enumerate*}\n",
       "\\item 48\n",
       "\\item 5\n",
       "\\end{enumerate*}\n"
      ],
      "text/markdown": [
       "1. 48\n",
       "2. 5\n",
       "\n",
       "\n"
      ],
      "text/plain": [
       "[1] 48  5"
      ]
     },
     "metadata": {},
     "output_type": "display_data"
    }
   ],
   "source": [
    "dim(...)"
   ]
  },
  {
   "cell_type": "markdown",
   "metadata": {},
   "source": [
    "d) Output the proportion of schools to the total number of schools in each region in this dataset."
   ]
  },
  {
   "cell_type": "code",
   "execution_count": null,
   "metadata": {
    "vscode": {
     "languageId": "r"
    }
   },
   "outputs": [],
   "source": [
    "# Student Part 2 of Notebook #1 to complete this problem\n"
   ]
  },
  {
   "cell_type": "markdown",
   "metadata": {},
   "source": [
    "e) Bar Graphs, Histograms, Box Plots: \n",
    "\n",
    "Generate:\n",
    "- **bar graph** of region, \n",
    "- **histogram** and **box plot** of net_tuition"
   ]
  },
  {
   "cell_type": "code",
   "execution_count": null,
   "metadata": {
    "vscode": {
     "languageId": "r"
    }
   },
   "outputs": [],
   "source": [
    "# Study Part 3 of Notebook #1 to pull this off"
   ]
  },
  {
   "cell_type": "markdown",
   "metadata": {},
   "source": [
    "**Part 2: Linear Models**\n",
    "\n",
    "Can net tuition be predicted by the amount of money the average student at a school takes out in federal loans, the median family income the student is coming from, or maybe, the amount of the money the average student makes ten years after graduation?\n",
    "\n",
    "*Remember:* $R^2$ describes the proportion of values being compared that can be ascribed to the relationship.  If the $R^2$ value comparing net tuition and median family income is 0.8 we could say that median family income gives pretty reliable prediction when used to predict  the net tuition a student pays. (It turns out this is not even close to true!)"
   ]
  },
  {
   "cell_type": "markdown",
   "metadata": {},
   "source": [
    "a) Compare the net tuition to the percent of students taking a federal loan. You need:\n",
    "- a scatter plot with the regression line\n",
    "- generate linear model\n",
    "- write the summary statistics for this model"
   ]
  },
  {
   "cell_type": "code",
   "execution_count": null,
   "metadata": {
    "vscode": {
     "languageId": "r"
    }
   },
   "outputs": [],
   "source": [
    "gf_point(net_tuition ~ ..., data = ...) %>% ...(color = \"orange\")\n",
    "pct_fed_model = lm(..., data = dat)\n",
    "summary(...)"
   ]
  },
  {
   "cell_type": "markdown",
   "metadata": {},
   "source": [
    "b) Compare the net tuition to the median household family income the student. You need:\n",
    "- a scatter plot with the regression line\n",
    "- generate linear model\n",
    "- write the summary statistics for this model"
   ]
  },
  {
   "cell_type": "code",
   "execution_count": null,
   "metadata": {
    "vscode": {
     "languageId": "r"
    }
   },
   "outputs": [],
   "source": [
    "..."
   ]
  },
  {
   "cell_type": "markdown",
   "metadata": {},
   "source": [
    "c) Compare the net tuition to the average median alumni earnings ten years out of college. You need:\n",
    "- a scatter plot with the regression line\n",
    "- generate linear model\n",
    "- write the summary statistics for this model"
   ]
  },
  {
   "cell_type": "code",
   "execution_count": null,
   "metadata": {
    "vscode": {
     "languageId": "r"
    }
   },
   "outputs": [],
   "source": [
    "..."
   ]
  }
 ],
 "metadata": {
  "language_info": {
   "name": "python"
  }
 },
 "nbformat": 4,
 "nbformat_minor": 2
}
