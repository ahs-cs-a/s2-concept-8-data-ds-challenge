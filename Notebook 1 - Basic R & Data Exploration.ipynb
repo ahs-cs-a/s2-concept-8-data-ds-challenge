{
  "cells": [
    {
      "metadata": {
        "cell_id": "c719613f96dd45b99729e0792f5d769b",
        "deepnote_cell_type": "markdown",
        "nbsimplegrader": {
          "config_key": "markdown.view-only",
          "type": "markdown",
          "label": "Markdown: View-Only",
          "runnable": false,
          "editable": false,
          "respondable": false,
          "response": null
        },
        "tags": []
      },
      "cell_type": "markdown",
      "source": "<img src=\"https://skewthescript.org/s/grad_cap_money.jpg\">"
    },
    {
      "metadata": {
        "cell_id": "713877d468b94d07b289872179cafa80",
        "deepnote_cell_type": "markdown",
        "nbsimplegrader": {
          "config_key": "markdown.view-only",
          "type": "markdown",
          "label": "Markdown: View-Only",
          "runnable": false,
          "editable": false,
          "respondable": false,
          "response": null
        },
        "tags": []
      },
      "cell_type": "markdown",
      "source": "## Data Science Project: Use data to determine the best and worst colleges for conquering student debt.\n\n### Notebook 1: Basic R Commands & Data Exploration\n\nDoes college pay off? We'll use some of the latest data from the US Department of Education's <a href=\"https://collegescorecard.ed.gov/data/\">College Scorecard Database</a> to answer that question. In this first notebook, you'll get a gentle introduction to R - a coding language used by data scientists to analyze large datasets. Then, you'll begin diving into the college scorecard data yourself. By the end of this notebook, you'll get a general sense of which colleges set up their graduates for success and which colleges ... don't."
    },
    {
      "metadata": {
        "cell_id": "e057a29487664597b5ae4c7ed5191832",
        "deepnote_cell_type": "code",
        "deepnote_to_be_reexecuted": false,
        "execution_millis": 3204,
        "execution_start": 1707166487913,
        "is_output_hidden": false,
        "nbsimplegrader": {
          "config_key": "code.run-only",
          "type": "code",
          "label": "Code: Run-Only",
          "runnable": true,
          "editable": false,
          "respondable": false,
          "response": null
        },
        "output_cleared": false,
        "source_hash": null,
        "tags": [],
        "trusted": true
      },
      "cell_type": "code",
      "source": "## Run this code but do not edit it. Hit Ctrl+Enter to run the code\n# This command downloads a useful package of R commands\nlibrary(coursekata)",
      "execution_count": null,
      "outputs": []
    },
    {
      "metadata": {
        "cell_id": "84128ecd2d9f403a8fb6124084652c47",
        "deepnote_cell_type": "markdown",
        "nbsimplegrader": {
          "config_key": "markdown.view-only",
          "type": "markdown",
          "label": "Markdown: View-Only",
          "runnable": false,
          "editable": false,
          "respondable": false,
          "response": null
        },
        "tags": []
      },
      "cell_type": "markdown",
      "source": "### 1.0 - Exploring the dataset"
    },
    {
      "metadata": {
        "cell_id": "5b72a63a33a247b3b63df8f16f0f8c39",
        "deepnote_cell_type": "markdown",
        "nbsimplegrader": {
          "config_key": "markdown.view-only",
          "type": "markdown",
          "label": "Markdown: View-Only",
          "runnable": false,
          "editable": false,
          "respondable": false,
          "response": null
        },
        "tags": []
      },
      "cell_type": "markdown",
      "source": "To begin, let's download our data. Our full dataset is included in a file named `colleges.csv`, which we're retrieving from the `skewthescript.org` website. The command below downloads the data from the file and stores it into an R dataframe object called `dat`."
    },
    {
      "metadata": {
        "cell_id": "5d5474b788e5480d89f98653a4d78eae",
        "deepnote_cell_type": "code",
        "deepnote_to_be_reexecuted": false,
        "execution_millis": 421,
        "execution_start": 1707166491135,
        "nbsimplegrader": {
          "config_key": "code.run-only",
          "type": "code",
          "label": "Code: Run-Only",
          "runnable": true,
          "editable": false,
          "respondable": false,
          "response": null
        },
        "output_cleared": false,
        "source_hash": null,
        "tags": [],
        "trusted": true
      },
      "cell_type": "code",
      "source": "## Run this code but do not edit it. Hit Ctrl+Enter to run the code\n# This command downloads data and stores it in the object `dat`\ndat <- read.csv('https://skewthescript.org/s/colleges.csv')",
      "execution_count": null,
      "outputs": []
    },
    {
      "metadata": {
        "cell_id": "c08993b2f6b44812b7e98a539bf84e22",
        "deepnote_cell_type": "markdown",
        "nbsimplegrader": {
          "config_key": "markdown.view-only",
          "type": "markdown",
          "label": "Markdown: View-Only",
          "runnable": false,
          "editable": false,
          "respondable": false,
          "response": null
        },
        "tags": []
      },
      "cell_type": "markdown",
      "source": "The `<-` operator is used to store values. For example, `x<-10` stores the value of 10 in `x`, meaning the value 10 is saved in the object `x`.\n\nTo get a quick view of the dataframe (`dat`), we can use the `head` command to print out its first several rows."
    },
    {
      "metadata": {
        "cell_id": "a7772da64cc6421b8a329568512c09d8",
        "deepnote_cell_type": "code",
        "deepnote_to_be_reexecuted": false,
        "execution_millis": 34,
        "execution_start": 1707166491557,
        "nbsimplegrader": {
          "config_key": "code.run-only",
          "type": "code",
          "label": "Code: Run-Only",
          "runnable": true,
          "editable": false,
          "respondable": false,
          "response": null
        },
        "output_cleared": false,
        "source_hash": null,
        "tags": [],
        "trusted": true
      },
      "cell_type": "code",
      "source": "## Run this code but do not edit it. Hit Ctrl+Enter to run the code\n# This command prints out the first several rows of the dataset\nhead(dat)",
      "execution_count": null,
      "outputs": []
    },
    {
      "metadata": {
        "cell_id": "77e6d1d4521847f3a859d0518b3568f6",
        "deepnote_cell_type": "markdown",
        "nbsimplegrader": {
          "config_key": "markdown.view-only",
          "type": "markdown",
          "label": "Markdown: View-Only",
          "runnable": false,
          "editable": false,
          "respondable": false,
          "response": null
        },
        "tags": []
      },
      "cell_type": "markdown",
      "source": "The vertical columns of the dataframe are called `variables`, and their elements are called `values`. For example, the variable `city` has values `Normal`, `Birmingham`, `Montgomery`, `Huntsville`, etc. \n\nThe horizontal rows of the dataframe are called `observations`. For example, the first observation is `Alabama A & M University`, which is located in `AL` (Alabama), in the city of `Normal`, and has a median student debt of `$15,250`. For this dataframe, each observation describes a specific college."
    },
    {
      "metadata": {
        "cell_id": "2fee8c639fde4555a09be58bc58e5734",
        "deepnote_cell_type": "markdown",
        "nbsimplegrader": {
          "config_key": "markdown.view-only",
          "type": "markdown",
          "label": "Markdown: View-Only",
          "runnable": false,
          "editable": false,
          "respondable": false,
          "response": null
        },
        "tags": []
      },
      "cell_type": "markdown",
      "source": "<div class=\"alert alert-block alert-warning\"> \n\n**1.1 -** Of the variables displayed, identify one that is quantitative, one that is categorical, and one that is a unique identifier.\n    \n</div>"
    },
    {
      "metadata": {
        "cell_id": "0c640e998a3042ccb264b8bc73edc68e",
        "deepnote_cell_type": "markdown",
        "nbsimplegrader": {
          "config_key": "markdown.response",
          "type": "markdown",
          "label": "Response: Markdown",
          "runnable": true,
          "editable": true,
          "respondable": true,
          "response": null
        },
        "tags": []
      },
      "cell_type": "markdown",
      "source": "**Double-click to type a response:** "
    },
    {
      "metadata": {
        "cell_id": "15bd3755bef444fb9539e8941aa8d0e6",
        "deepnote_cell_type": "markdown",
        "nbsimplegrader": {
          "config_key": "markdown.view-only",
          "type": "markdown",
          "label": "Markdown: View-Only",
          "runnable": false,
          "editable": false,
          "respondable": false,
          "response": null
        },
        "tags": []
      },
      "cell_type": "markdown",
      "source": "The `head` command only displays several rows of the dataframe. To see the full dimensions of the dataframe, we can use the `dim` command.\n\n<div class=\"alert alert-block alert-warning\"> \n\n**1.2 -** Use the `dim` command on `dat` to display the dimensions of the dataframe.\n    \n</div>"
    },
    {
      "metadata": {
        "cell_id": "6fb5ccfddd264223b19b6b776ee7e469",
        "deepnote_cell_type": "code",
        "deepnote_to_be_reexecuted": false,
        "execution_millis": 26,
        "execution_start": 1707166491591,
        "nbsimplegrader": {
          "config_key": "code.response",
          "type": "code",
          "label": "Response: Code",
          "runnable": true,
          "editable": true,
          "respondable": true,
          "response": null
        },
        "output_cleared": false,
        "source_hash": null,
        "tags": [],
        "trusted": true
      },
      "cell_type": "code",
      "source": "# Your code goes here",
      "execution_count": null,
      "outputs": []
    },
    {
      "metadata": {
        "nbsimplegrader": {
          "config_key": "markdown.view-only",
          "type": "markdown",
          "label": "Markdown: View-Only",
          "runnable": false,
          "editable": false,
          "respondable": false,
          "response": null
        }
      },
      "cell_type": "markdown",
      "source": "<div class=\"alert alert-block alert-info\">\n\n**Check yourself:** Your code should have printed out two numbers: 4435 and 26.</div>"
    },
    {
      "metadata": {
        "cell_id": "283ceb3b2a584a1ea4d1a3ae07b6a035",
        "deepnote_cell_type": "markdown",
        "nbsimplegrader": {
          "config_key": "markdown.view-only",
          "type": "markdown",
          "label": "Markdown: View-Only",
          "runnable": false,
          "editable": false,
          "respondable": false,
          "response": null
        },
        "tags": []
      },
      "cell_type": "markdown",
      "source": "The first number outputted by `dim` is the number of horizontal rows in the dataframe. This represents the number of observations (number of colleges). The second number is the number of vertical columns in the dataframe. This represents the number of variables. What are all these variables? See the description of the dataset below, along with links to descriptions of all the variables."
    },
    {
      "metadata": {
        "cell_id": "5380b8acf41e4aed964537c5aad2f12c",
        "deepnote_cell_type": "markdown",
        "nbsimplegrader": {
          "config_key": "markdown.view-only",
          "type": "markdown",
          "label": "Markdown: View-Only",
          "runnable": false,
          "editable": false,
          "respondable": false,
          "response": null
        },
        "tags": []
      },
      "cell_type": "markdown",
      "source": "<div class=\"alert alert-block alert-success\">\n\n### The Dataset\n\n**General description** - The US Department of Education's <a href=\"https://collegescorecard.ed.gov/data/\">College Scorecard Database</a> shows various metrics of cost, enrollment, size, student debt, student demographics, and alumni success. It describes almost every University, college, community college, trade school, and certificate program in the United States. The data is current as of the 2020-2021 school year.\n\n**Description of all variables:** See <a href=\"https://docs.google.com/document/d/1C3eR6jZQ2HNbB5QkHaPsBfOcROZRcZ0FtzZZiyyS9sQ/edit\">here</a>\n\n**Detailed data file description:** See <a href=\"https://docs.google.com/spreadsheets/d/1fa_Bd3_eYEmxvKPcu3hK2Dgazdk-9bkeJwONMS6u43Q/edit?usp=sharing\">here</a></div>"
    },
    {
      "metadata": {
        "cell_id": "cb1998349e4b453694acba2355453705",
        "deepnote_cell_type": "markdown",
        "nbsimplegrader": {
          "config_key": "markdown.view-only",
          "type": "markdown",
          "label": "Markdown: View-Only",
          "runnable": false,
          "editable": false,
          "respondable": false,
          "response": null
        },
        "tags": []
      },
      "cell_type": "markdown",
      "source": "With such a large dataset, to make your life easier, you may want to work with only a few variables at a time. In the following code, we use the `select` command to select only the variables `name`, `median_debt`, `ownership`, `admit_rate`, and `hbcu` and save them in a new dataframe called `example_dat`."
    },
    {
      "metadata": {
        "cell_id": "2144b4cad30745e58f0201e9e5af1728",
        "deepnote_cell_type": "code",
        "deepnote_to_be_reexecuted": false,
        "execution_millis": 31,
        "execution_start": 1707166491613,
        "nbsimplegrader": {
          "config_key": "code.run-only",
          "type": "code",
          "label": "Code: Run-Only",
          "runnable": true,
          "editable": false,
          "respondable": false,
          "response": null
        },
        "output_cleared": false,
        "source_hash": null,
        "tags": [],
        "trusted": true
      },
      "cell_type": "code",
      "source": "## Run this code but do not edit it\n# Select certain columns from dat, store into example_dat\nexample_dat <- select(dat, name, median_debt, ownership, admit_rate, hbcu)\n\n# Display head of example_dat\nhead(example_dat)",
      "execution_count": null,
      "outputs": []
    },
    {
      "metadata": {
        "cell_id": "ea959d3ca2c74c5eb12c294d41298cc2",
        "deepnote_cell_type": "markdown",
        "nbsimplegrader": {
          "config_key": "markdown.view-only",
          "type": "markdown",
          "label": "Markdown: View-Only",
          "runnable": false,
          "editable": false,
          "respondable": false,
          "response": null
        },
        "tags": []
      },
      "cell_type": "markdown",
      "source": "<div class=\"alert alert-block alert-warning\"> \n\n**1.3 -** Use the `select` command to select the variables `name`, `region`, `default_rate`, `ownership`, and `pct_PELL` from `dat`. Store your new dataframe in an object called `my_dat` and display its head.\n    \n</div>"
    },
    {
      "metadata": {
        "cell_id": "75a52874b0f246e5bc0a9878de34317f",
        "deepnote_cell_type": "code",
        "deepnote_to_be_reexecuted": false,
        "execution_millis": 9,
        "execution_start": 1707166491688,
        "nbsimplegrader": {
          "config_key": "code.response",
          "type": "code",
          "label": "Response: Code",
          "runnable": true,
          "editable": true,
          "respondable": true,
          "response": null
        },
        "output_cleared": false,
        "source_hash": null,
        "tags": [],
        "trusted": true
      },
      "cell_type": "code",
      "source": "# Your code goes here\n",
      "execution_count": null,
      "outputs": []
    },
    {
      "metadata": {
        "cell_id": "79e4f7f2268847f6aa6c89777cf5194f",
        "deepnote_cell_type": "markdown",
        "nbsimplegrader": {
          "config_key": "markdown.view-only",
          "type": "markdown",
          "label": "Markdown: View-Only",
          "runnable": false,
          "editable": false,
          "respondable": false,
          "response": null
        },
        "tags": []
      },
      "cell_type": "markdown",
      "source": "In addition to filtering out columns (variables), we can also filter out rows (observations). For example, if I only wanted to analyze colleges that are HBCUs and that have an admissions rate below than 40%, I can use the `subset` command on `example_dat` like this:"
    },
    {
      "metadata": {
        "cell_id": "9e6a29dd5c2b470085ded9c4ae39c561",
        "deepnote_cell_type": "code",
        "deepnote_to_be_reexecuted": false,
        "execution_millis": 26,
        "execution_start": 1707166491689,
        "nbsimplegrader": {
          "config_key": "code.run-only",
          "type": "code",
          "label": "Code: Run-Only",
          "runnable": true,
          "editable": false,
          "respondable": false,
          "response": null
        },
        "output_cleared": false,
        "scrolled": true,
        "source_hash": null,
        "tags": [],
        "trusted": true
      },
      "cell_type": "code",
      "source": "## Run this code but do not edit it\n# Subset example_dat to only HBCUs with admissions rates lower than 40%\nsubset(example_dat, hbcu == \"Yes\" & admit_rate < 40)",
      "execution_count": null,
      "outputs": []
    },
    {
      "metadata": {
        "cell_id": "44c3041f03de49eab2bbe0e52379675e",
        "deepnote_cell_type": "markdown",
        "nbsimplegrader": {
          "config_key": "markdown.view-only",
          "type": "markdown",
          "label": "Markdown: View-Only",
          "runnable": false,
          "editable": false,
          "respondable": false,
          "response": null
        },
        "tags": []
      },
      "cell_type": "markdown",
      "source": "A total of 7 colleges fit these conditions.\n\nNote that R has different conventions for comparative statements. For example...\n- `==` means `equals exactly`\n- `!=` means `does not equal`\n- `<` means `less than`\n- `>` means `greater than`\n- `<=` means `less than or equal to`\n- `>=` means `greater than or equal to`\n\nHere are some other common conditional symbols\n- `|` means `or`\n- `&` means `and`"
    },
    {
      "metadata": {
        "cell_id": "5d5508b2b07540bcb57f385ba414e12d",
        "deepnote_cell_type": "markdown",
        "nbsimplegrader": {
          "config_key": "markdown.view-only",
          "type": "markdown",
          "label": "Markdown: View-Only",
          "runnable": false,
          "editable": false,
          "respondable": false,
          "response": null
        },
        "tags": []
      },
      "cell_type": "markdown",
      "source": "<div class=\"alert alert-block alert-warning\"> \n\n**1.4 -** Use the `subset` command to find the colleges in `my_dat` that are located in the `Midwest` region of the United States and have more than a third of their students (greater than 33%) default on their loans.\n    \n</div>"
    },
    {
      "metadata": {
        "cell_id": "983534fb867a4735ab808da750a58c85",
        "deepnote_cell_type": "code",
        "deepnote_to_be_reexecuted": false,
        "execution_millis": 41,
        "execution_start": 1707166491753,
        "nbsimplegrader": {
          "config_key": "code.response",
          "type": "code",
          "label": "Response: Code",
          "runnable": true,
          "editable": true,
          "respondable": true,
          "response": null
        },
        "output_cleared": false,
        "source_hash": null,
        "tags": [],
        "trusted": true
      },
      "cell_type": "code",
      "source": "# Your code goes here\n",
      "execution_count": null,
      "outputs": []
    },
    {
      "metadata": {
        "nbsimplegrader": {
          "config_key": "markdown.view-only",
          "type": "markdown",
          "label": "Markdown: View-Only",
          "runnable": false,
          "editable": false,
          "respondable": false,
          "response": null
        }
      },
      "cell_type": "markdown",
      "source": "<div class=\"alert alert-block alert-info\">\n\n**Check yourself:** You should find that 2 schools match your selection criteria.</div>"
    },
    {
      "metadata": {
        "cell_id": "6d48c65d30d649799685c0d8c6a7ab04",
        "deepnote_cell_type": "markdown",
        "nbsimplegrader": {
          "config_key": "markdown.view-only",
          "type": "markdown",
          "label": "Markdown: View-Only",
          "runnable": false,
          "editable": false,
          "respondable": false,
          "response": null
        },
        "tags": []
      },
      "cell_type": "markdown",
      "source": "<div class=\"alert alert-block alert-warning\"> \n\n**1.5 -** What do you notice about the observations that fit your selection criteria? What do you wonder?\n\n</div>"
    },
    {
      "metadata": {
        "cell_id": "02a9420e9c454eb3bed6a0fb3b044c09",
        "deepnote_cell_type": "markdown",
        "nbsimplegrader": {
          "config_key": "markdown.response",
          "type": "markdown",
          "label": "Response: Markdown",
          "runnable": true,
          "editable": true,
          "respondable": true,
          "response": null
        },
        "tags": []
      },
      "cell_type": "markdown",
      "source": "**Double-click to type a response:** "
    },
    {
      "metadata": {
        "cell_id": "9832446a07a9449f99306e0b78e02754",
        "deepnote_cell_type": "markdown",
        "nbsimplegrader": {
          "config_key": "markdown.view-only",
          "type": "markdown",
          "label": "Markdown: View-Only",
          "runnable": false,
          "editable": false,
          "respondable": false,
          "response": null
        }
      },
      "cell_type": "markdown",
      "source": "Suppose you're interested in a particular college, such as Howard University. We can use the `subset` command to filter the `example_dat` dataframe and focus solely on the information pertaining to that college."
    },
    {
      "metadata": {
        "cell_id": "071c56fc308a49bf8491c85da1f46b51",
        "deepnote_cell_type": "code",
        "deepnote_to_be_reexecuted": false,
        "execution_millis": 44,
        "execution_start": 1707166491754,
        "nbsimplegrader": {
          "config_key": "code.run-only",
          "type": "code",
          "label": "Code: Run-Only",
          "runnable": true,
          "editable": false,
          "respondable": false,
          "response": null
        },
        "source_hash": null,
        "trusted": true
      },
      "cell_type": "code",
      "source": "## Run this code but do not edit it\n# Subset example_dat to only show Howard University\nsubset(example_dat, name == \"Howard University\")",
      "execution_count": null,
      "outputs": []
    },
    {
      "metadata": {
        "cell_id": "ae2aa3cfdee24276bec6ccd5f315bb39",
        "deepnote_cell_type": "markdown",
        "nbsimplegrader": {
          "config_key": "markdown.view-only",
          "type": "markdown",
          "label": "Markdown: View-Only",
          "runnable": false,
          "editable": false,
          "respondable": false,
          "response": null
        }
      },
      "cell_type": "markdown",
      "source": "<div class=\"alert alert-block alert-warning\"> \n\n**1.6 -** Select a college that interests you. Then use the `subset` command to locate and extract information about the college from `my_dat`. **Note:** The exact spelling of the names of all the colleges in the dataset can be found <a href=\"https://docs.google.com/spreadsheets/d/1gdLqIbMl2zF1JrCGvGB6Z3XCFR_368dd2S97Hja-E60/edit?usp=sharing\">here</a>.\n    \n</div>"
    },
    {
      "metadata": {
        "cell_id": "b3283b2d274f41b3a4b0db88470f0c0d",
        "deepnote_cell_type": "code",
        "deepnote_to_be_reexecuted": false,
        "execution_millis": 54,
        "execution_start": 1707166491758,
        "nbsimplegrader": {
          "config_key": "code.response",
          "type": "code",
          "label": "Response: Code",
          "runnable": true,
          "editable": true,
          "respondable": true,
          "response": null
        },
        "source_hash": null,
        "trusted": true
      },
      "cell_type": "code",
      "source": "# Your code goes here\n",
      "execution_count": null,
      "outputs": []
    },
    {
      "metadata": {
        "cell_id": "ef31c99197f340a4a2120c3ed88ceaa3",
        "deepnote_cell_type": "markdown",
        "nbsimplegrader": {
          "config_key": "markdown.view-only",
          "type": "markdown",
          "label": "Markdown: View-Only",
          "runnable": false,
          "editable": false,
          "respondable": false,
          "response": null
        },
        "tags": []
      },
      "cell_type": "markdown",
      "source": "One further way to explore a dataset is to reorder its observations. For example, we can use the `arrange` command to order the colleges in `example_dat` by their admission rate:"
    },
    {
      "metadata": {
        "cell_id": "8853370c385e4b8db5cc7de51b89cff1",
        "deepnote_cell_type": "code",
        "deepnote_to_be_reexecuted": false,
        "execution_millis": 87,
        "execution_start": 1707166491797,
        "nbsimplegrader": {
          "config_key": "code.run-only",
          "type": "code",
          "label": "Code: Run-Only",
          "runnable": true,
          "editable": false,
          "respondable": false,
          "response": null
        },
        "output_cleared": false,
        "source_hash": null,
        "tags": [],
        "trusted": true
      },
      "cell_type": "code",
      "source": "## Run this code but do not edit it\n# Arrange data in order of their admission rates\narrange(example_dat, admit_rate)",
      "execution_count": null,
      "outputs": []
    },
    {
      "metadata": {
        "cell_id": "0864b8ef33774ef2a175d750700e2e06",
        "deepnote_cell_type": "markdown",
        "nbsimplegrader": {
          "config_key": "markdown.view-only",
          "type": "markdown",
          "label": "Markdown: View-Only",
          "runnable": false,
          "editable": false,
          "respondable": false,
          "response": null
        },
        "tags": []
      },
      "cell_type": "markdown",
      "source": "As we can see, the most selective schools now top the list. You'll see some `NA` values from `admit_rate` at the bottom of the arranged dataset. These are missing values, which we'll discuss later.\n\nTo arrange the data in descending order of admission rates (highest admission rates on top), we can use the `desc` argument within our `arrange` command:"
    },
    {
      "metadata": {
        "cell_id": "6d6d277bf96e4c6794687db9f65336cd",
        "deepnote_cell_type": "code",
        "deepnote_to_be_reexecuted": false,
        "execution_millis": 52,
        "execution_start": 1707166491875,
        "nbsimplegrader": {
          "config_key": "code.run-only",
          "type": "code",
          "label": "Code: Run-Only",
          "runnable": true,
          "editable": false,
          "respondable": false,
          "response": null
        },
        "output_cleared": false,
        "source_hash": null,
        "tags": [],
        "trusted": true
      },
      "cell_type": "code",
      "source": "## Run this code but do not edit it\n# Arrange data in descending order of their admission rates\narrange(example_dat, desc(admit_rate))",
      "execution_count": null,
      "outputs": []
    },
    {
      "metadata": {
        "cell_id": "c4e8dc6824264df7bd7ae7bbf1760cde",
        "deepnote_cell_type": "markdown",
        "nbsimplegrader": {
          "config_key": "markdown.view-only",
          "type": "markdown",
          "label": "Markdown: View-Only",
          "runnable": false,
          "editable": false,
          "respondable": false,
          "response": null
        },
        "tags": []
      },
      "cell_type": "markdown",
      "source": "<div class=\"alert alert-block alert-warning\"> \n\n**1.7 -** Use the `arrange` command to organize the colleges in `my_dat` such that the colleges with the highest student loan default rates are at the top.\n    \n</div>"
    },
    {
      "metadata": {
        "cell_id": "c1cf503a9ecf4f76ade905a7758d75c3",
        "deepnote_cell_type": "code",
        "deepnote_to_be_reexecuted": false,
        "execution_millis": 21,
        "execution_start": 1707166491971,
        "nbsimplegrader": {
          "config_key": "code.response",
          "type": "code",
          "label": "Response: Code",
          "runnable": true,
          "editable": true,
          "respondable": true,
          "response": null
        },
        "output_cleared": false,
        "source_hash": null,
        "tags": [],
        "trusted": true
      },
      "cell_type": "code",
      "source": "# Your code goes here\n",
      "execution_count": null,
      "outputs": []
    },
    {
      "metadata": {
        "cell_id": "b5226c930b5247c38e86bd82edbe1979",
        "deepnote_cell_type": "markdown",
        "nbsimplegrader": {
          "config_key": "markdown.view-only",
          "type": "markdown",
          "label": "Markdown: View-Only",
          "runnable": false,
          "editable": false,
          "respondable": false,
          "response": null
        },
        "tags": []
      },
      "cell_type": "markdown",
      "source": "<div class=\"alert alert-block alert-warning\"> \n\n**1.8 -** What patterns do you notice among the programs that have the highest student loan default rates? What do you wonder?\n    \n</div>"
    },
    {
      "metadata": {
        "cell_id": "f2938baa977e4c0783a6c9d1188c375f",
        "deepnote_cell_type": "markdown",
        "nbsimplegrader": {
          "config_key": "markdown.response",
          "type": "markdown",
          "label": "Response: Markdown",
          "runnable": true,
          "editable": true,
          "respondable": true,
          "response": null
        },
        "tags": []
      },
      "cell_type": "markdown",
      "source": "**Double-click to type a response:** "
    },
    {
      "metadata": {
        "nbsimplegrader": {
          "config_key": "markdown.view-only",
          "type": "markdown",
          "label": "Markdown: View-Only",
          "runnable": false,
          "editable": false,
          "respondable": false,
          "response": null
        }
      },
      "cell_type": "markdown",
      "source": "<div class=\"alert alert-block alert-success\">\n\n**Reference Guide for R (student resource) -** Now that you've seen a number of different commands in R, check out our <a href = \"https://docs.google.com/document/d/1dXT3NO4QjtbIrq29fH6pXHKgt7odZN7BIeU_TBoia4I/edit?usp=sharing\">reference guide</a> for a full listing of useful R commands for this project. \n\n<div>"
    },
    {
      "metadata": {
        "cell_id": "de9cfb92653e4cf2aa9ef389b331d593",
        "deepnote_cell_type": "markdown",
        "nbsimplegrader": {
          "config_key": "markdown.view-only",
          "type": "markdown",
          "label": "Markdown: View-Only",
          "runnable": false,
          "editable": false,
          "respondable": false,
          "response": null
        },
        "tags": []
      },
      "cell_type": "markdown",
      "source": "### 2.0 - Finding summary statistics"
    },
    {
      "metadata": {
        "cell_id": "82e6c8b89e354d47ab5330f6147ef79f",
        "deepnote_cell_type": "markdown",
        "nbsimplegrader": {
          "config_key": "markdown.view-only",
          "type": "markdown",
          "label": "Markdown: View-Only",
          "runnable": false,
          "editable": false,
          "respondable": false,
          "response": null
        },
        "tags": []
      },
      "cell_type": "markdown",
      "source": "When analyzing variables of interest, it's often helpful to calculate summary statistics. For quantitative variables, we can use the `summary` command to find the five-number summary (minimum, Q1, median, Q3, maximum) and the average (mean) of the values. The code block shows how we find these summary statistics for the `admit_rate` variable. \n\n**Note:** The `$` sign in R is used to isolate a single variable (`admit_rate`) from a full dataframe (`dat`)."
    },
    {
      "metadata": {
        "cell_id": "aa453098276a4d55b368ffd4c3be6464",
        "deepnote_cell_type": "code",
        "deepnote_to_be_reexecuted": false,
        "execution_millis": 31,
        "execution_start": 1707166491986,
        "nbsimplegrader": {
          "config_key": "code.run-only",
          "type": "code",
          "label": "Code: Run-Only",
          "runnable": true,
          "editable": false,
          "respondable": false,
          "response": null
        },
        "output_cleared": false,
        "source_hash": null,
        "tags": [],
        "trusted": true
      },
      "cell_type": "code",
      "source": "## Run this code but do not edit it\n# Find summary statistics for admit_rate\nsummary(dat$admit_rate)",
      "execution_count": null,
      "outputs": []
    },
    {
      "metadata": {
        "cell_id": "81104b530260480ba01b12a54037cf77",
        "deepnote_cell_type": "markdown",
        "nbsimplegrader": {
          "config_key": "markdown.view-only",
          "type": "markdown",
          "label": "Markdown: View-Only",
          "runnable": false,
          "editable": false,
          "respondable": false,
          "response": null
        },
        "tags": []
      },
      "cell_type": "markdown",
      "source": "A few interesting facts about `admit_rate` that are revealed by this summary:\n- As expected, no schools have a 0% admissions rate (the minimum admissions rate is 2.4%). \n- The maximum admissions rate was 100%. So, there's at least one school that admits every applicant.\n- The first quartile (Q1) is a 59.79% admissions rate. This means **only 25% of schools** have admissions rates lower than 59.79%.\n- For 2,731 schools, we have missing data. R uses the sybmol `NA` to represent missing values. If we use `admit_rate` in future analyses, we should pay attention to which schools have missing data and, ideally, investigate why their data is missing."
    },
    {
      "metadata": {
        "cell_id": "412eb7ad497a4c0cb670b733c2338fda",
        "deepnote_cell_type": "markdown",
        "nbsimplegrader": {
          "config_key": "markdown.view-only",
          "type": "markdown",
          "label": "Markdown: View-Only",
          "runnable": false,
          "editable": false,
          "respondable": false,
          "response": null
        },
        "tags": []
      },
      "cell_type": "markdown",
      "source": "<div class=\"alert alert-block alert-warning\"> \n\n**2.1 -** Use the `summary` command to get summary statistics for the `default_rate` variable in the `dat` dataframe.\n   \n</div>"
    },
    {
      "metadata": {
        "cell_id": "f047b32baed84f8c9b48d32525c9c06e",
        "deepnote_cell_type": "code",
        "deepnote_to_be_reexecuted": false,
        "execution_millis": 11,
        "execution_start": 1707166492013,
        "nbsimplegrader": {
          "config_key": "code.response",
          "type": "code",
          "label": "Response: Code",
          "runnable": true,
          "editable": true,
          "respondable": true,
          "response": null
        },
        "output_cleared": false,
        "source_hash": null,
        "tags": [],
        "trusted": true
      },
      "cell_type": "code",
      "source": "# Your code goes here\n",
      "execution_count": null,
      "outputs": []
    },
    {
      "metadata": {},
      "cell_type": "markdown",
      "source": "<div class=\"alert alert-block alert-info\">\n\n**Check yourself:** The median should be 8.20</div>"
    },
    {
      "metadata": {
        "cell_id": "7d7b5a1f741049689395cf0bcc0fc9f1",
        "deepnote_cell_type": "markdown",
        "nbsimplegrader": {
          "config_key": "markdown.view-only",
          "type": "markdown",
          "label": "Markdown: View-Only",
          "runnable": false,
          "editable": false,
          "respondable": false,
          "response": null
        },
        "tags": []
      },
      "cell_type": "markdown",
      "source": "<div class=\"alert alert-block alert-warning\"> \n\n**2.2 -** Comment on what these summary statistics reveal about the `default_rate` values in our dataset.\n    \n</div>"
    },
    {
      "metadata": {
        "cell_id": "3aca5d5dbeb141eb9e753e44278a4210",
        "deepnote_cell_type": "markdown",
        "nbsimplegrader": {
          "config_key": "markdown.response",
          "type": "markdown",
          "label": "Response: Markdown",
          "runnable": true,
          "editable": true,
          "respondable": true,
          "response": null
        },
        "tags": []
      },
      "cell_type": "markdown",
      "source": "**Double-click to type a response:** "
    },
    {
      "metadata": {
        "cell_id": "994499e6e12d41559d77087568d69505",
        "deepnote_cell_type": "markdown",
        "nbsimplegrader": {
          "config_key": "markdown.view-only",
          "type": "markdown",
          "label": "Markdown: View-Only",
          "runnable": false,
          "editable": false,
          "respondable": false,
          "response": null
        },
        "tags": []
      },
      "cell_type": "markdown",
      "source": "For categorical data, it doesn't make sense to find means and medians. Instead, it's helpful to look at value counts and proportions. We can use the `table` command to find the counts of the different values for `highest_degree`:"
    },
    {
      "metadata": {
        "cell_id": "f581f08230824a499ef6da91115a4300",
        "deepnote_cell_type": "code",
        "deepnote_to_be_reexecuted": false,
        "execution_millis": 33,
        "execution_start": 1707166492053,
        "nbsimplegrader": {
          "config_key": "code.run-only",
          "type": "code",
          "label": "Code: Run-Only",
          "runnable": true,
          "editable": false,
          "respondable": false,
          "response": null
        },
        "output_cleared": false,
        "source_hash": null,
        "tags": [],
        "trusted": true
      },
      "cell_type": "code",
      "source": "## Run this code but do not edit it\n# Find counts of values for highest_degree, store in object 'degree_counts'\ndegree_counts <- table(dat$highest_degree)\n\n# Print table stored in 'degree_counts'\ndegree_counts",
      "execution_count": null,
      "outputs": []
    },
    {
      "metadata": {
        "cell_id": "afe5cc6aba9348f6bcbdc5d113293cc7",
        "deepnote_cell_type": "markdown",
        "nbsimplegrader": {
          "config_key": "markdown.view-only",
          "type": "markdown",
          "label": "Markdown: View-Only",
          "runnable": false,
          "editable": false,
          "respondable": false,
          "response": null
        },
        "tags": []
      },
      "cell_type": "markdown",
      "source": "1464 of the institutions in our dataset are Universities that offer graduate degrees. On the other end of the spectrum, 1374 of the institutions aren't Universities at all. Rather, they are career-oriented programs that offer trade certificates. \n\nTo get a better sense of scale, we can turn these raw counts into proportions by dividing them by the total:"
    },
    {
      "metadata": {
        "cell_id": "cbbcd9af345d49e08087b2dd015b5fc7",
        "deepnote_cell_type": "code",
        "deepnote_to_be_reexecuted": false,
        "execution_millis": 29,
        "execution_start": 1707166492054,
        "nbsimplegrader": {
          "config_key": "code.run-only",
          "type": "code",
          "label": "Code: Run-Only",
          "runnable": true,
          "editable": false,
          "respondable": false,
          "response": null
        },
        "output_cleared": false,
        "source_hash": null,
        "tags": [],
        "trusted": true
      },
      "cell_type": "code",
      "source": "## Run this code but do not edit it\n# Sum all counts in table, store in object 'total'\ntotal <- sum(degree_counts)\n\n# Print the value stored in 'total'\ntotal",
      "execution_count": null,
      "outputs": []
    },
    {
      "metadata": {
        "cell_id": "bf2c86c3b78c4d0292493abe097c8f7a",
        "deepnote_cell_type": "code",
        "deepnote_to_be_reexecuted": false,
        "execution_millis": 29,
        "execution_start": 1707166492055,
        "nbsimplegrader": {
          "config_key": "code.run-only",
          "type": "code",
          "label": "Code: Run-Only",
          "runnable": true,
          "editable": false,
          "respondable": false,
          "response": null
        },
        "output_cleared": false,
        "source_hash": null,
        "tags": [],
        "trusted": true
      },
      "cell_type": "code",
      "source": "## Run this code but do not edit it\n# Divide the table by the total to get proportions\ndegree_counts / total",
      "execution_count": null,
      "outputs": []
    },
    {
      "metadata": {
        "cell_id": "cdca3bdd679549ea8f1077a9246f637d",
        "deepnote_cell_type": "markdown",
        "nbsimplegrader": {
          "config_key": "markdown.view-only",
          "type": "markdown",
          "label": "Markdown: View-Only",
          "runnable": false,
          "editable": false,
          "respondable": false,
          "response": null
        },
        "tags": []
      },
      "cell_type": "markdown",
      "source": "As you can see, you can use R just like a calculator. Addition, subtraction, multiplication, division ... it's all there. Universities offering graduate degrees make up about 33% of the institutions in our dataset. These are about three times more prevalent than 4-year colleges (Bachelors) that don't offer graduate degrees. "
    },
    {
      "metadata": {
        "cell_id": "6ce3018b97894172ac8c8f0288d4de6c",
        "deepnote_cell_type": "markdown",
        "nbsimplegrader": {
          "config_key": "markdown.view-only",
          "type": "markdown",
          "label": "Markdown: View-Only",
          "runnable": false,
          "editable": false,
          "respondable": false,
          "response": null
        },
        "tags": []
      },
      "cell_type": "markdown",
      "source": "<div class=\"alert alert-block alert-warning\"> \n\n**2.3 -** Use the `table` command to get the value counts for the `ownership` variable.\n    \n</div>"
    },
    {
      "metadata": {
        "cell_id": "85e8ac046f2a4addb66ec5928c4d6e71",
        "deepnote_cell_type": "code",
        "deepnote_to_be_reexecuted": false,
        "execution_millis": 49,
        "execution_start": 1707166492057,
        "nbsimplegrader": {
          "config_key": "code.response",
          "type": "code",
          "label": "Response: Code",
          "runnable": true,
          "editable": true,
          "respondable": true,
          "response": null
        },
        "output_cleared": false,
        "source_hash": null,
        "tags": [],
        "trusted": true
      },
      "cell_type": "code",
      "source": "# Your code goes here\n",
      "execution_count": null,
      "outputs": []
    },
    {
      "metadata": {},
      "cell_type": "markdown",
      "source": "<div class=\"alert alert-block alert-info\">\n\n**Check yourself:** There are 1539 public schools in the dataset</div>"
    },
    {
      "metadata": {
        "cell_id": "70b8f137cbe44b73878c5b78efca68bb",
        "deepnote_cell_type": "markdown",
        "nbsimplegrader": {
          "config_key": "markdown.view-only",
          "type": "markdown",
          "label": "Markdown: View-Only",
          "runnable": false,
          "editable": false,
          "respondable": false,
          "response": null
        },
        "tags": []
      },
      "cell_type": "markdown",
      "source": "<div class=\"alert alert-block alert-warning\"> \n\n**2.4 -** Find the proportion of all institutions that are public, private nonprofit, and private for-profit.\n    \n</div>"
    },
    {
      "metadata": {
        "cell_id": "5f291f1ef1a2472e8570420b6da3168d",
        "deepnote_cell_type": "code",
        "deepnote_to_be_reexecuted": false,
        "execution_millis": 30,
        "execution_start": 1707166492072,
        "nbsimplegrader": {
          "config_key": "code.response",
          "type": "code",
          "label": "Response: Code",
          "runnable": true,
          "editable": true,
          "respondable": true,
          "response": null
        },
        "output_cleared": false,
        "source_hash": null,
        "tags": [],
        "trusted": true
      },
      "cell_type": "code",
      "source": "# Your code goes here\n",
      "execution_count": null,
      "outputs": []
    },
    {
      "metadata": {
        "nbsimplegrader": {
          "config_key": "markdown.view-only",
          "type": "markdown",
          "label": "Markdown: View-Only",
          "runnable": false,
          "editable": false,
          "respondable": false,
          "response": null
        }
      },
      "cell_type": "markdown",
      "source": "<div class=\"alert alert-block alert-info\">\n\n**Check yourself:** About 34.7% of the schools in the dataset are public schools</div>"
    },
    {
      "metadata": {
        "cell_id": "7679b6f1b6504633b7560765cd27da14",
        "deepnote_cell_type": "markdown",
        "nbsimplegrader": {
          "config_key": "markdown.view-only",
          "type": "markdown",
          "label": "Markdown: View-Only",
          "runnable": false,
          "editable": false,
          "respondable": false,
          "response": null
        },
        "tags": []
      },
      "cell_type": "markdown",
      "source": "### 3.0 - Visualizing data (histograms, barplots, and boxplots)"
    },
    {
      "metadata": {
        "cell_id": "c2e19d20da5944a4a53ada2ee18e3c5b",
        "deepnote_cell_type": "markdown",
        "nbsimplegrader": {
          "config_key": "markdown.view-only",
          "type": "markdown",
          "label": "Markdown: View-Only",
          "runnable": false,
          "editable": false,
          "respondable": false,
          "response": null
        },
        "tags": []
      },
      "cell_type": "markdown",
      "source": "In addition to summary statistics, a great way to get an overall impression of our data is to visualize it. In this section, we'll walk through different types of visualizations we can create in R. Note: We're saving scatterplots for the next notebook in our series.\n\nOne of the most useful visualizations for displaying a quantitative variable is a histogram. Here, we use the `gf_histogram` command to display the histogram for `admit_rate`."
    },
    {
      "metadata": {
        "cell_id": "ca2cd5952bdc44ac92dcd2a44769aaf6",
        "deepnote_cell_type": "code",
        "deepnote_to_be_reexecuted": false,
        "execution_millis": 342,
        "execution_start": 1707166492111,
        "nbsimplegrader": {
          "config_key": "code.run-only",
          "type": "code",
          "label": "Code: Run-Only",
          "runnable": true,
          "editable": false,
          "respondable": false,
          "response": null
        },
        "output_cleared": false,
        "source_hash": null,
        "tags": [],
        "trusted": true
      },
      "cell_type": "code",
      "source": "## Run this code but do not edit it\n# Create histogram for admit_rate\ngf_histogram(~admit_rate, data = dat)",
      "execution_count": null,
      "outputs": []
    },
    {
      "metadata": {
        "cell_id": "39fe000fbff547269b2382357791da22",
        "deepnote_cell_type": "markdown",
        "nbsimplegrader": {
          "config_key": "markdown.view-only",
          "type": "markdown",
          "label": "Markdown: View-Only",
          "runnable": false,
          "editable": false,
          "respondable": false,
          "response": null
        },
        "tags": []
      },
      "cell_type": "markdown",
      "source": "**Note:** A warning message was displayed about removing rows. This is R telling us that it's choosing not to visualize the missing data values (`NA`) that we discovered for `admit_rate` earlier in the notebook.\n\nAs we suspected from the summary statistics, it appears that most programs have admissions rates well above 50%, and only a small subset of programs have highly selective admissions rates. In statistics, we call this distribution **left skew**, since there's a tail on the left side. So, institutions with low values (low admissions rates) are relatively unusual compared to most of the other institutions in our dataset."
    },
    {
      "metadata": {
        "cell_id": "82faa56a3f5f464bb1faa56399e0a985",
        "deepnote_cell_type": "markdown",
        "nbsimplegrader": {
          "config_key": "markdown.view-only",
          "type": "markdown",
          "label": "Markdown: View-Only",
          "runnable": false,
          "editable": false,
          "respondable": false,
          "response": null
        },
        "tags": []
      },
      "cell_type": "markdown",
      "source": "<div class=\"alert alert-block alert-warning\"> \n\n**3.1 -** Create a histogram to visualize all the `default_rate` values in the `dat` dataframe.\n    \n</div>"
    },
    {
      "metadata": {
        "cell_id": "b1db4d407f5a4969b7216533d0eb3dc4",
        "deepnote_cell_type": "code",
        "deepnote_to_be_reexecuted": false,
        "execution_millis": 224,
        "execution_start": 1707166492436,
        "nbsimplegrader": {
          "config_key": "code.response",
          "type": "code",
          "label": "Response: Code",
          "runnable": true,
          "editable": true,
          "respondable": true,
          "response": null
        },
        "output_cleared": false,
        "source_hash": null,
        "tags": [],
        "trusted": true
      },
      "cell_type": "code",
      "source": "# Your code goes here\n",
      "execution_count": null,
      "outputs": []
    },
    {
      "metadata": {
        "cell_id": "e3344d7ee1bc4b6f84eb578214ca072c",
        "deepnote_cell_type": "markdown",
        "nbsimplegrader": {
          "config_key": "markdown.view-only",
          "type": "markdown",
          "label": "Markdown: View-Only",
          "runnable": false,
          "editable": false,
          "respondable": false,
          "response": null
        },
        "tags": []
      },
      "cell_type": "markdown",
      "source": "<div class=\"alert alert-block alert-warning\"> \n\n**3.2 -** Describe the distribution and note any features of interest.\n    \n</div>"
    },
    {
      "metadata": {
        "cell_id": "a758bc3f28e845c28fbf41bddc2422dd",
        "deepnote_cell_type": "markdown",
        "nbsimplegrader": {
          "config_key": "markdown.response",
          "type": "markdown",
          "label": "Response: Markdown",
          "runnable": true,
          "editable": true,
          "respondable": true,
          "response": null
        },
        "tags": []
      },
      "cell_type": "markdown",
      "source": "**Double-click to type a response:**  "
    },
    {
      "metadata": {
        "cell_id": "1e4eb18b28fd4c38bf38ceea4b3dae86",
        "deepnote_cell_type": "markdown",
        "nbsimplegrader": {
          "config_key": "markdown.view-only",
          "type": "markdown",
          "label": "Markdown: View-Only",
          "runnable": false,
          "editable": false,
          "respondable": false,
          "response": null
        },
        "tags": []
      },
      "cell_type": "markdown",
      "source": "To visualize categorical variables, we can use the `gf_bar` command to make bar plots. Here we create a bar plot for `highest_degree`:"
    },
    {
      "metadata": {
        "cell_id": "e26c8fa8a9db4b9c92287172bb5e7ff7",
        "deepnote_cell_type": "code",
        "deepnote_to_be_reexecuted": false,
        "execution_millis": 235,
        "execution_start": 1707166492659,
        "nbsimplegrader": {
          "config_key": "code.run-only",
          "type": "code",
          "label": "Code: Run-Only",
          "runnable": true,
          "editable": false,
          "respondable": false,
          "response": null
        },
        "output_cleared": false,
        "source_hash": null,
        "tags": [],
        "trusted": true
      },
      "cell_type": "code",
      "source": "## Run this code but do not edit it\n# Create bar plot for highest_degree\ngf_bar(~highest_degree, data = dat)",
      "execution_count": null,
      "outputs": []
    },
    {
      "metadata": {
        "cell_id": "fa8315cf03204155b1369a0186ff085e",
        "deepnote_cell_type": "markdown",
        "nbsimplegrader": {
          "config_key": "markdown.view-only",
          "type": "markdown",
          "label": "Markdown: View-Only",
          "runnable": false,
          "editable": false,
          "respondable": false,
          "response": null
        },
        "tags": []
      },
      "cell_type": "markdown",
      "source": "As shown here, most of the institutions in our dataset are Universities that graduate degrees or trade programs that offer professional certificates. There are about 500 colleges that only offer bachelors degrees (without offering graduate degrees)."
    },
    {
      "metadata": {
        "cell_id": "2fb2f21554884ec6b3bce71a76f2db32",
        "deepnote_cell_type": "markdown",
        "nbsimplegrader": {
          "config_key": "markdown.view-only",
          "type": "markdown",
          "label": "Markdown: View-Only",
          "runnable": false,
          "editable": false,
          "respondable": false,
          "response": null
        },
        "tags": []
      },
      "cell_type": "markdown",
      "source": "<div class=\"alert alert-block alert-warning\"> \n\n**3.3 -** Create a bar plot to visualize the `ownership` values from the `dat` dataframe.\n    \n</div>"
    },
    {
      "metadata": {
        "cell_id": "753e954b16514c57ad8715ee8dcfc0bd",
        "deepnote_cell_type": "code",
        "deepnote_to_be_reexecuted": false,
        "execution_millis": 188,
        "execution_start": 1707166492890,
        "nbsimplegrader": {
          "config_key": "code.response",
          "type": "code",
          "label": "Response: Code",
          "runnable": true,
          "editable": true,
          "respondable": true,
          "response": null
        },
        "output_cleared": false,
        "source_hash": null,
        "tags": [],
        "trusted": true
      },
      "cell_type": "code",
      "source": "# Your code goes here\n",
      "execution_count": null,
      "outputs": []
    },
    {
      "metadata": {
        "cell_id": "8cf05a7b37c64d80abfdfd476dbcc0ed",
        "deepnote_cell_type": "markdown",
        "nbsimplegrader": {
          "config_key": "markdown.view-only",
          "type": "markdown",
          "label": "Markdown: View-Only",
          "runnable": false,
          "editable": false,
          "respondable": false,
          "response": null
        },
        "tags": []
      },
      "cell_type": "markdown",
      "source": "<div class=\"alert alert-block alert-warning\"> \n\n**3.4 -** Describe the distribution and note any features of interest.\n    \n</div>"
    },
    {
      "metadata": {
        "cell_id": "202a411ff24b4cdfac5b89e63ca54435",
        "deepnote_cell_type": "markdown",
        "nbsimplegrader": {
          "config_key": "markdown.response",
          "type": "markdown",
          "label": "Response: Markdown",
          "runnable": true,
          "editable": true,
          "respondable": true,
          "response": null
        },
        "tags": []
      },
      "cell_type": "markdown",
      "source": "**Double-click to type a response:** "
    },
    {
      "metadata": {
        "cell_id": "1d3a62dd44a04626a958e531f295272a",
        "deepnote_cell_type": "markdown",
        "nbsimplegrader": {
          "config_key": "markdown.view-only",
          "type": "markdown",
          "label": "Markdown: View-Only",
          "runnable": false,
          "editable": false,
          "respondable": false,
          "response": null
        },
        "tags": []
      },
      "cell_type": "markdown",
      "source": "Sometimes, we may want to explore the relationship between two variables by visualizing them both at once. When we want to visualize the relationship between a categorical variable and quantitative variable, we can use boxplots. Here, we show how to use `gf_boxplot` to visualize the relationship between `highest_degree` (categorical) and `admit_rate` (quantitative)."
    },
    {
      "metadata": {
        "cell_id": "715ed8c92811484b9b6c81eb372d016b",
        "deepnote_cell_type": "code",
        "deepnote_to_be_reexecuted": false,
        "execution_millis": 306,
        "execution_start": 1707166493076,
        "nbsimplegrader": {
          "config_key": "code.run-only",
          "type": "code",
          "label": "Code: Run-Only",
          "runnable": true,
          "editable": false,
          "respondable": false,
          "response": null
        },
        "output_cleared": false,
        "scrolled": false,
        "source_hash": null,
        "tags": [],
        "trusted": true
      },
      "cell_type": "code",
      "source": "## Run this code but do not edit it\n# Create boxplots for admit_rates of institutions with different highest_degree values\ngf_boxplot(admit_rate ~ highest_degree, data = dat)",
      "execution_count": null,
      "outputs": []
    },
    {
      "metadata": {
        "cell_id": "7ae67d8079c64326bea41b7eeab50253",
        "deepnote_cell_type": "markdown",
        "nbsimplegrader": {
          "config_key": "markdown.view-only",
          "type": "markdown",
          "label": "Markdown: View-Only",
          "runnable": false,
          "editable": false,
          "respondable": false,
          "response": null
        },
        "tags": []
      },
      "cell_type": "markdown",
      "source": "In this case, we're using `highest_degree` as the **predictor variable** and `admit_rate` as the **outcome variable**. In other words, we can use the degree level of an institution (certificate, associates, bachelors, etc.) to help predict its admission rate. That's because certain levels of institutions typically have lower admissions rates than others. So, knowing the level of an institution can help us better predict its admissions rate. \n\n**Note:** This predictor-outcome relationship is coded in R through the syntax `outcome ~ predictor`, as in `gf_boxplot(admit_rate ~ highest_degree,...)`.\n\nWe see that admission rates tend to be lower (lower medians) for colleges / Universities that grant bachelors and graduate degrees. However, it's worth noting that for every institution-type, the first quartile is higher than a 50% admissions rate. So, most programs admit more than half their applicants, regardless of insitution-type. Indeed, we see that the most prestigious Universities with admissions rates lower than 25% are outliers (visualized as dots on the boxplot) among other Universities that offer graduate degrees."
    },
    {
      "metadata": {
        "cell_id": "89389453921c4f7b8ac28ee909ddfc0c",
        "deepnote_cell_type": "markdown",
        "nbsimplegrader": {
          "config_key": "markdown.view-only",
          "type": "markdown",
          "label": "Markdown: View-Only",
          "runnable": false,
          "editable": false,
          "respondable": false,
          "response": null
        },
        "tags": []
      },
      "cell_type": "markdown",
      "source": "<div class=\"alert alert-block alert-warning\"> \n\n**3.5 -** Create boxplots to visualize the relationship between `ownership` and `default_rate` from the `dat` dataframe.\n    \n</div>"
    },
    {
      "metadata": {
        "cell_id": "455e24d4cd354d9eb7c7a72f75f0b99d",
        "deepnote_cell_type": "code",
        "deepnote_to_be_reexecuted": false,
        "execution_millis": 262,
        "execution_start": 1707166493378,
        "nbsimplegrader": {
          "config_key": "code.response",
          "type": "code",
          "label": "Response: Code",
          "runnable": true,
          "editable": true,
          "respondable": true,
          "response": null
        },
        "output_cleared": false,
        "source_hash": null,
        "tags": [],
        "trusted": true
      },
      "cell_type": "code",
      "source": "# Your code goes here\n",
      "execution_count": null,
      "outputs": []
    },
    {
      "metadata": {
        "cell_id": "c280b5f46c2f47588ef74b9a7949f2e3",
        "deepnote_cell_type": "markdown",
        "nbsimplegrader": {
          "config_key": "markdown.view-only",
          "type": "markdown",
          "label": "Markdown: View-Only",
          "runnable": false,
          "editable": false,
          "respondable": false,
          "response": null
        },
        "tags": []
      },
      "cell_type": "markdown",
      "source": "<div class=\"alert alert-block alert-warning\"> \n\n**3.6 -** Using your boxplot visualization, describe the relationship between institution ownership and studen loan default rates.\n    \n</div>"
    },
    {
      "metadata": {
        "cell_id": "fc8f08ccb29f44b798c7aa0a02bfc5b6",
        "deepnote_cell_type": "markdown",
        "nbsimplegrader": {
          "config_key": "markdown.response",
          "type": "markdown",
          "label": "Response: Markdown",
          "runnable": true,
          "editable": true,
          "respondable": true,
          "response": null
        },
        "tags": []
      },
      "cell_type": "markdown",
      "source": "**Double-click to type a response:** "
    },
    {
      "metadata": {
        "cell_id": "627c4783caf0485588fcdc0901e71d9e",
        "deepnote_cell_type": "markdown",
        "nbsimplegrader": {
          "config_key": "markdown.view-only",
          "type": "markdown",
          "label": "Markdown: View-Only",
          "runnable": false,
          "editable": false,
          "respondable": false,
          "response": null
        }
      },
      "cell_type": "markdown",
      "source": "### Feedback (Required)\n\nPlease take 2 minutes to fill out <a href=\"https://forms.gle/ePwTHdSeAc8FvVjg7\">this anonymous notebook feedback form</a>, so we can continue improving this notebook for future years!"
    }
  ],
  "metadata": {
    "deepnote_execution_queue": [],
    "deepnote_notebook_id": "9bcbea348c734dc7b2b07a854ae62d28",
    "kernelspec": {
      "name": "ir",
      "display_name": "R",
      "language": "R"
    },
    "language_info": {
      "name": "R",
      "codemirror_mode": "r",
      "pygments_lexer": "r",
      "mimetype": "text/x-r-source",
      "file_extension": ".r",
      "version": "4.3.3"
    },
    "nbsimplegrader": {
      "publish_config": {
        "classes": [
          "2024DSChallenge_youngsaver"
        ],
        "options": {
          "include_submit": false,
          "lock_notebook": false
        },
        "tools": []
      }
    }
  },
  "nbformat": 4,
  "nbformat_minor": 1
}