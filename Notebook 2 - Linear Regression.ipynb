{
  "cells": [
    {
      "cell_type": "markdown",
      "metadata": {
        "nbsimplegrader": {
          "config_key": "markdown.view-only",
          "editable": false,
          "label": "Markdown: View-Only",
          "respondable": false,
          "response": null,
          "runnable": false,
          "type": "markdown"
        }
      },
      "source": "<div class=\"alert alert-block alert-success\">\n\n**Reference Guide for R (student resource) -** Check out our <a href = \"https://docs.google.com/document/d/1dXT3NO4QjtbIrq29fH6pXHKgt7odZN7BIeU_TBoia4I/edit?usp=sharing\">reference guide</a> for a full listing of useful R commands for this project. \n\n<div>"
    },
    {
      "cell_type": "markdown",
      "metadata": {
        "cell_id": "ca6ce4be6c6a460a94c0302d43500fc4",
        "deepnote_cell_type": "markdown",
        "nbsimplegrader": {
          "config_key": "markdown.view-only",
          "editable": false,
          "label": "Markdown: View-Only",
          "respondable": false,
          "response": null,
          "runnable": false,
          "type": "markdown"
        },
        "tags": []
      },
      "source": "<img src=\"https://skewthescript.org/s/erasing_student_debt.jpg\">"
    },
    {
      "cell_type": "markdown",
      "metadata": {
        "cell_id": "6be9807110e64741ba3e792b71e2c0ca",
        "deepnote_cell_type": "markdown",
        "nbsimplegrader": {
          "config_key": "markdown.view-only",
          "editable": false,
          "label": "Markdown: View-Only",
          "respondable": false,
          "response": null,
          "runnable": false,
          "type": "markdown"
        },
        "tags": []
      },
      "source": "## Data Science Project: Use data to determine the best and worst colleges for conquering student debt.\n\n### Notebook 2: Simple Linear Regression\n\nDoes college pay off? We'll use some of the latest data from the US Department of Education's <a href=\"https://collegescorecard.ed.gov/data/\">College Scorecard Database</a> to answer that question. \n\nIn this notebook (the 2nd of 4 total notebooks), you'll use R to create scatterplots, fit simple linear regression models, and compare the strength of your models. By the end of this notebook, you'll see what factors make certain colleges better investments than others."
    },
    {
      "cell_type": "code",
      "execution_count": null,
      "metadata": {
        "cell_id": "5ea07fddfbc94d44a2222e13d07061d1",
        "deepnote_cell_type": "code",
        "deepnote_to_be_reexecuted": false,
        "execution_millis": 2831,
        "execution_start": 1708730391224,
        "nbsimplegrader": {
          "config_key": "code.run-only",
          "editable": false,
          "label": "Code: Run-Only",
          "respondable": false,
          "response": null,
          "runnable": true,
          "type": "code"
        },
        "output_cleared": false,
        "source_hash": "b8079a0e",
        "tags": [],
        "trusted": false
      },
      "outputs": [],
      "source": "## Run this code but do not edit it. Hit Ctrl+Enter to run the code\n# This command downloads a useful package of R commands\nlibrary(coursekata)"
    },
    {
      "cell_type": "markdown",
      "metadata": {
        "cell_id": "dc8a268c63f344599416b26d175c20a0",
        "deepnote_cell_type": "markdown",
        "nbsimplegrader": {
          "config_key": "markdown.view-only",
          "editable": false,
          "label": "Markdown: View-Only",
          "respondable": false,
          "response": null,
          "runnable": false,
          "type": "markdown"
        },
        "tags": []
      },
      "source": "<div class=\"alert alert-block alert-success\">\n\n### The Dataset (`four_year_colleges.csv`)\n\n**General description** - In this notebook, we'll be using the `four_year_colleges.csv` file, which only includes schools that offer four-year bachelors degrees and/or higher graduate degrees. Community colleges and trade schools often have different goals (e.g. facilitating transfers, direct career education) than institutions that offer four-year bachelors degrees. By comparing four-year colleges only to other four-year colleges, we'll have clearer analyses and conclusions. \n\nThis data is a subset of the US Department of Education's <a href=\"https://collegescorecard.ed.gov/data/\">College Scorecard Database</a>. The data is current as of the 2020-2021 school year.\n\n**Description of all variables:** See <a href=\"https://docs.google.com/document/d/1C3eR6jZQ2HNbB5QkHaPsBfOcROZRcZ0FtzZZiyyS9sQ/edit\">here</a>\n\n**Detailed data file description:** See <a href=\"https://docs.google.com/spreadsheets/d/1fa_Bd3_eYEmxvKPcu3hK2Dgazdk-9bkeJwONMS6u43Q/edit?usp=sharing\">here</a></div>"
    },
    {
      "cell_type": "markdown",
      "metadata": {
        "cell_id": "7ddc10aae80c4961b14e044440033758",
        "deepnote_cell_type": "markdown",
        "nbsimplegrader": {
          "config_key": "markdown.view-only",
          "editable": false,
          "label": "Markdown: View-Only",
          "respondable": false,
          "response": null,
          "runnable": false,
          "type": "markdown"
        },
        "tags": []
      },
      "source": "### 1.0 - Creating scatterplots"
    },
    {
      "cell_type": "markdown",
      "metadata": {
        "cell_id": "6b00ba3cc432432c872b8254af90c45a",
        "deepnote_cell_type": "markdown",
        "nbsimplegrader": {
          "config_key": "markdown.view-only",
          "editable": false,
          "label": "Markdown: View-Only",
          "respondable": false,
          "response": null,
          "runnable": false,
          "type": "markdown"
        },
        "tags": []
      },
      "source": "To begin, let's download our data. We'll download the `four_year_colleges.csv` file from the `skewthescript.org` website and store it in an R dataframe called `dat`."
    },
    {
      "cell_type": "code",
      "execution_count": null,
      "metadata": {
        "cell_id": "f82a1575c006455395f226e73f42c35f",
        "deepnote_cell_type": "code",
        "deepnote_to_be_reexecuted": false,
        "execution_millis": 778,
        "execution_start": 1708730394080,
        "nbsimplegrader": {
          "config_key": "code.run-only",
          "editable": false,
          "label": "Code: Run-Only",
          "respondable": false,
          "response": null,
          "runnable": true,
          "type": "code"
        },
        "output_cleared": false,
        "source_hash": "722b3189",
        "tags": [],
        "trusted": false
      },
      "outputs": [],
      "source": "## Run this code but do not edit it. Hit Ctrl+Enter to run the code\n# This command downloads the data\ndat <- read.csv('https://skewthescript.org/s/four_year_colleges.csv')"
    },
    {
      "cell_type": "markdown",
      "metadata": {
        "cell_id": "b2b74a395fc84ebca36942ab23a168a0",
        "deepnote_cell_type": "markdown",
        "nbsimplegrader": {
          "config_key": "markdown.view-only",
          "editable": false,
          "label": "Markdown: View-Only",
          "respondable": false,
          "response": null,
          "runnable": false,
          "type": "markdown"
        },
        "tags": []
      },
      "source": "<div class=\"alert alert-block alert-warning\"> \n\n**1.1 -** Use the `head` command to print out the first several rows of the dataset.\n    \n</div>"
    },
    {
      "cell_type": "code",
      "execution_count": null,
      "metadata": {
        "cell_id": "ad77cc1ccbe045ea95a1bd91d3e14472",
        "deepnote_cell_type": "code",
        "deepnote_to_be_reexecuted": false,
        "execution_millis": 249,
        "execution_start": 1708730394860,
        "nbsimplegrader": {
          "config_key": "code.response",
          "editable": true,
          "label": "Response: Code",
          "respondable": true,
          "response": null,
          "runnable": true,
          "type": "code"
        },
        "output_cleared": false,
        "source_hash": "946dd330",
        "tags": [],
        "trusted": false
      },
      "outputs": [],
      "source": "# Your code goes here\n"
    },
    {
      "cell_type": "markdown",
      "metadata": {
        "cell_id": "d680122af2ee4a3f8d76f828705e41a8",
        "deepnote_cell_type": "markdown",
        "nbsimplegrader": {
          "config_key": "markdown.view-only",
          "editable": false,
          "label": "Markdown: View-Only",
          "respondable": false,
          "response": null,
          "runnable": false,
          "type": "markdown"
        },
        "tags": []
      },
      "source": "<div class=\"alert alert-block alert-warning\"> \n\n**1.2 -** Use the `dim` command to find the number of colleges (rows) and number of variables (columns) in our dataset.\n    \n</div>"
    },
    {
      "cell_type": "code",
      "execution_count": null,
      "metadata": {
        "cell_id": "a19568ac29354b0f94e86835c895a05b",
        "deepnote_cell_type": "code",
        "deepnote_to_be_reexecuted": false,
        "execution_millis": 550,
        "execution_start": 1708730394890,
        "nbsimplegrader": {
          "config_key": "code.response",
          "editable": true,
          "label": "Response: Code",
          "respondable": true,
          "response": null,
          "runnable": true,
          "type": "code"
        },
        "output_cleared": false,
        "source_hash": "4c881a89",
        "tags": [],
        "trusted": false
      },
      "outputs": [],
      "source": "# Your code goes here\n"
    },
    {
      "cell_type": "markdown",
      "metadata": {
        "cell_id": "9b63c4101f024af492e1262076b67969",
        "deepnote_cell_type": "markdown",
        "nbsimplegrader": {
          "config_key": "markdown.view-only",
          "editable": false,
          "label": "Markdown: View-Only",
          "respondable": false,
          "response": null,
          "runnable": false,
          "type": "markdown"
        }
      },
      "source": "<div class=\"alert alert-block alert-info\">\n\n**Check yourself:** Your code should have printed out two numbers: 1053 and 26.</div>"
    },
    {
      "cell_type": "markdown",
      "metadata": {
        "cell_id": "c92ededbe7254268871489a1d63ed260",
        "deepnote_cell_type": "markdown",
        "nbsimplegrader": {
          "config_key": "markdown.view-only",
          "editable": false,
          "label": "Markdown: View-Only",
          "respondable": false,
          "response": null,
          "runnable": false,
          "type": "markdown"
        },
        "tags": []
      },
      "source": "A good measure of whether attending a certain college \"pays off\" is its **student loan default rate**. If a college is low-cost and prepares students for high-paying jobs, few students will default on their loans. If a college is high-cost and does not prepare students for high-paying jobs, many students will have trouble paying off their loans (high default rate).\n\nSo, our main **outcome variable** in this analysis will be `default_rate`. We're going to use scatterplots to see how strongly different **predictor variables** correlate with default rates. In particular, we're going to explore how well each of the following variables predicts colleges' default rates:\n- `pct_PELL` - percent of student body that receives [PELL grants](https://www.benefits.gov/benefit/417). Note: PELL grants are government scholarships given to students from low-income families\n- `grad_rate` - percent of students who successfully graduate\n- `net_tuition` - Net tuition (tuition minus average discounts and allowances) per student, in thousands of dollars\n\nTo begin, let's create a **scatterplot** of colleges' default rates and the percent of their student body that receive PELL grants. We can use the `gf_point` command to make the graph:"
    },
    {
      "cell_type": "code",
      "execution_count": null,
      "metadata": {
        "cell_id": "15b4f7ed990b4c7195218df64b37d0ba",
        "deepnote_cell_type": "code",
        "deepnote_to_be_reexecuted": false,
        "execution_millis": 537,
        "execution_start": 1708730394904,
        "nbsimplegrader": {
          "config_key": "code.run-only",
          "editable": false,
          "label": "Code: Run-Only",
          "respondable": false,
          "response": null,
          "runnable": true,
          "type": "code"
        },
        "output_cleared": false,
        "source_hash": "3d7fb9a6",
        "tags": [],
        "trusted": false
      },
      "outputs": [],
      "source": "## Run this code but do not edit it\n# Create scatterplot: default_rate ~ pct_PELL\ngf_point(default_rate ~ pct_PELL, data = dat)"
    },
    {
      "cell_type": "markdown",
      "metadata": {
        "cell_id": "4c44d7558c024de980f739d6c35ca6fc",
        "deepnote_cell_type": "markdown",
        "nbsimplegrader": {
          "config_key": "markdown.view-only",
          "editable": false,
          "label": "Markdown: View-Only",
          "respondable": false,
          "response": null,
          "runnable": false,
          "type": "markdown"
        },
        "tags": []
      },
      "source": "We see that there's a positive relationship between `pct_PELL` and `default_rate`. The colleges with the highest rates of PELL grant recipients (low-income students) also tend to have higher student loan default rates. In other words, if you were to fit a model to this data, it would predict higher default rates at schools that serve more PELL recipients.\n\nWe must keep in mind: **correlation is not causation**. The scatterplot shows us that default rates and PELL recipient rates are positively correlated. However, the graph doesn't show us a clear causal explanation behind the correlation. For example, here are several causal explanations that this graph can't clarify:\n- PELL recipients may only be able to afford to attend low-quality colleges. These colleges have higher default rates because they fail to prepare students for the workforce.\n- PELL recipients may have less familial resources to weather the storms of financial emergencies in the first few years after college. So, the schools that serve PELL recipients at high rates will also have more of their students defaulting on loans (regardless of the school's quality).\n- PELL recipients may have attended lower-quality high schools, which don't properly prepare them for college. So, these students may drop out of college at higher rates, which raises their chances of defaulting on student loans. \n\nOr, it could be a combination of all those explanations! We can't tell from this analysis alone."
    },
    {
      "cell_type": "markdown",
      "metadata": {
        "cell_id": "c416c4a1d34b4f4e85dcc3661f7a070d",
        "deepnote_cell_type": "markdown",
        "nbsimplegrader": {
          "config_key": "markdown.view-only",
          "editable": false,
          "label": "Markdown: View-Only",
          "respondable": false,
          "response": null,
          "runnable": false,
          "type": "markdown"
        },
        "tags": []
      },
      "source": "<div class=\"alert alert-block alert-warning\"> \n\n**1.3 -** In the next question, you will create a scatterplot that visualizes the relationship between `grad_rate` and `default_rate`. Before doing so, make a prediction: Do you expect student loan default rates to positively or negatively correlate with graduation rates? Why?\n    \n</div>"
    },
    {
      "cell_type": "markdown",
      "metadata": {
        "cell_id": "cdaac11347ce470fb5c393fcbced2d26",
        "deepnote_cell_type": "markdown",
        "nbsimplegrader": {
          "config_key": "markdown.response",
          "editable": true,
          "label": "Response: Markdown",
          "respondable": true,
          "response": null,
          "runnable": true,
          "type": "markdown"
        },
        "tags": []
      },
      "source": "**Double-click this cell to type your answer here:**"
    },
    {
      "cell_type": "markdown",
      "metadata": {
        "cell_id": "e879cab2b64a48abbb7bb034036603e7",
        "deepnote_cell_type": "markdown",
        "nbsimplegrader": {
          "config_key": "markdown.view-only",
          "editable": false,
          "label": "Markdown: View-Only",
          "respondable": false,
          "response": null,
          "runnable": false,
          "type": "markdown"
        },
        "tags": []
      },
      "source": "<div class=\"alert alert-block alert-warning\"> \n\n**1.4 -** Create a scatterplot that visualizes the relationship between `grad_rate` (predictor) and `default_rate` (outcome).\n    \n</div>"
    },
    {
      "cell_type": "code",
      "execution_count": null,
      "metadata": {
        "cell_id": "1279b1b119344752afce9bf0ad8f7b89",
        "deepnote_cell_type": "code",
        "deepnote_to_be_reexecuted": false,
        "execution_millis": 608,
        "execution_start": 1708730395208,
        "nbsimplegrader": {
          "config_key": "code.response",
          "editable": true,
          "label": "Response: Code",
          "respondable": true,
          "response": null,
          "runnable": true,
          "type": "code"
        },
        "output_cleared": false,
        "source_hash": "9232540",
        "tags": [],
        "trusted": false
      },
      "outputs": [],
      "source": "# Your code goes here\n"
    },
    {
      "cell_type": "markdown",
      "metadata": {
        "cell_id": "06ab35cdf6c742129b7b24011773c996",
        "deepnote_cell_type": "markdown",
        "nbsimplegrader": {
          "config_key": "markdown.view-only",
          "editable": false,
          "label": "Markdown: View-Only",
          "respondable": false,
          "response": null,
          "runnable": false,
          "type": "markdown"
        }
      },
      "source": "<div class=\"alert alert-block alert-info\">\n\n**Check yourself:** Your code should have generated a scatterplot with the x-axis labled with `grad_rate` and the y-axis labeled with `default_rate`.</div>"
    },
    {
      "cell_type": "markdown",
      "metadata": {
        "cell_id": "a3a289376d364cc1aa10b07097b00a26",
        "deepnote_cell_type": "markdown",
        "nbsimplegrader": {
          "config_key": "markdown.view-only",
          "editable": false,
          "label": "Markdown: View-Only",
          "respondable": false,
          "response": null,
          "runnable": false,
          "type": "markdown"
        },
        "tags": []
      },
      "source": "<div class=\"alert alert-block alert-warning\"> \n\n**1.5 -** Using your scatterplot, describe the relationship between graduation rates and student loan default rates. For instance, are these variables positively or negatively related? How can you tell? Does this corroborate your prediction from **Question 1.3**? Explain.\n    \n</div>"
    },
    {
      "cell_type": "markdown",
      "metadata": {
        "cell_id": "93aebb69f4a44bc8995607beece630c1",
        "deepnote_cell_type": "markdown",
        "nbsimplegrader": {
          "config_key": "markdown.response",
          "editable": true,
          "label": "Response: Markdown",
          "respondable": true,
          "response": null,
          "runnable": true,
          "type": "markdown"
        },
        "tags": []
      },
      "source": "**Double-click this cell to type your answer here:** "
    },
    {
      "cell_type": "markdown",
      "metadata": {
        "cell_id": "0805ecac9d9349b0bf67411cf5f7f536",
        "deepnote_cell_type": "markdown",
        "nbsimplegrader": {
          "config_key": "markdown.view-only",
          "editable": false,
          "label": "Markdown: View-Only",
          "respondable": false,
          "response": null,
          "runnable": false,
          "type": "markdown"
        },
        "tags": []
      },
      "source": "### 2.0 - Simple linear regression (one predictor)"
    },
    {
      "cell_type": "markdown",
      "metadata": {
        "cell_id": "8b467db596a64cd7972cbb8792bbd684",
        "deepnote_cell_type": "markdown",
        "nbsimplegrader": {
          "config_key": "markdown.view-only",
          "editable": false,
          "label": "Markdown: View-Only",
          "respondable": false,
          "response": null,
          "runnable": false,
          "type": "markdown"
        },
        "tags": []
      },
      "source": "<div class=\"alert alert-block alert-warning\"> \n\n**2.1 -** If you haven't taken AP Stats, watch <a href=\"https://youtu.be/hvWgu4A0VA4\">this video</a>, which provides an introduction to linear regression. \n\n**Note:** This video is adapted from other materials and covers data from a separate context. However, the video provides a good intro to the concepts and models we'll be using in this section of the project.\n    \n</div>"
    },
    {
      "cell_type": "markdown",
      "metadata": {
        "cell_id": "a33be6a27620461780f3477f21b74414",
        "deepnote_cell_type": "markdown",
        "nbsimplegrader": {
          "config_key": "markdown.view-only",
          "editable": false,
          "label": "Markdown: View-Only",
          "respondable": false,
          "response": null,
          "runnable": false,
          "type": "markdown"
        },
        "tags": []
      },
      "source": "Let's create a linear regression model relating `pct_PELL` (x) and `default_rate` (y). To visualize our model, we can graph the line modeled by our equation on top of the scatterplot relating `pct_PELL` to `default_rate`. We use the `gf_point` command to produce the scatterplot, the `gf_lm` command to graph our linear model, and the `%>%` symbol to put the elements together on the same graph:"
    },
    {
      "cell_type": "code",
      "execution_count": null,
      "metadata": {
        "cell_id": "fd70bfeb03844d0a9da8520632316665",
        "deepnote_cell_type": "code",
        "deepnote_to_be_reexecuted": false,
        "execution_millis": 715,
        "execution_start": 1708730395453,
        "nbsimplegrader": {
          "config_key": "code.run-only",
          "editable": false,
          "label": "Code: Run-Only",
          "respondable": false,
          "response": null,
          "runnable": true,
          "type": "code"
        },
        "output_cleared": false,
        "source_hash": "c3fe70",
        "tags": [],
        "trusted": false
      },
      "outputs": [],
      "source": "## Run this code but do not edit it\n# Overlay linear model of default_rate ~ pct_PELL on top of scatterplot\ngf_point(default_rate ~ pct_PELL, data = dat) %>% gf_lm(color = \"orange\")"
    },
    {
      "cell_type": "markdown",
      "metadata": {
        "cell_id": "57f8d2ae986149efab958ae40cf8df49",
        "deepnote_cell_type": "markdown",
        "nbsimplegrader": {
          "config_key": "markdown.view-only",
          "editable": false,
          "label": "Markdown: View-Only",
          "respondable": false,
          "response": null,
          "runnable": false,
          "type": "markdown"
        },
        "tags": []
      },
      "source": "<div class=\"alert alert-block alert-warning\"> \n\n**2.2 -** Is the slope value of this model positive or negative? How can you tell?\n    \n</div>"
    },
    {
      "cell_type": "markdown",
      "metadata": {
        "cell_id": "8ff08793b46b476ca7a3ae5fb897f9d8",
        "deepnote_cell_type": "markdown",
        "nbsimplegrader": {
          "config_key": "markdown.response",
          "editable": true,
          "label": "Response: Markdown",
          "respondable": true,
          "response": null,
          "runnable": true,
          "type": "markdown"
        },
        "tags": []
      },
      "source": "**Double-click this cell to type your answer here:** "
    },
    {
      "cell_type": "markdown",
      "metadata": {
        "cell_id": "ddd9352511e54e4e96fc0419816e186d",
        "deepnote_cell_type": "markdown",
        "nbsimplegrader": {
          "config_key": "markdown.view-only",
          "editable": false,
          "label": "Markdown: View-Only",
          "respondable": false,
          "response": null,
          "runnable": false,
          "type": "markdown"
        },
        "tags": []
      },
      "source": "R can help us find the equation that models this linear regression line. As shown in the video, we can model a linear trend between a predictor (x) and outcome (y) using this linear regression formula:\n\n$$\n\\hat{y} = \\beta_{0} + \\beta_{1}x\n$$\nWhere:\n- $\\hat{y}$ (pronounced \"y hat\") is the predicted y-value (predicted outcome value)\n- $\\beta_{0}$ (pronounced \"beta zero\") is the y-intercept --> the predicted y-value (outcome value) when x = 0 (the predictor's value is 0)\n- $\\beta_{1}$ (pronounced \"beta 1\") is the slope --> the predicted change in y (outcome) for a 1-unit increase in x (predictor)\n- $x$ is the x-value (predictor value)\n\nTo fit a linear regression model to a set of data in R, we use the `lm` command. `lm` stands for \"linear model.\" Here, we use `lm` to find the linear regression model relating `pct_PELL` (x) and `default_rate` (y)."
    },
    {
      "cell_type": "code",
      "execution_count": null,
      "metadata": {
        "cell_id": "b2e6313f06c64355bc2869f8b2943e21",
        "deepnote_cell_type": "code",
        "deepnote_to_be_reexecuted": false,
        "execution_millis": 451,
        "execution_start": 1708730395717,
        "nbsimplegrader": {
          "config_key": "code.run-only",
          "editable": false,
          "label": "Code: Run-Only",
          "respondable": false,
          "response": null,
          "runnable": true,
          "type": "code"
        },
        "output_cleared": false,
        "source_hash": "5eb087db",
        "tags": [],
        "trusted": false
      },
      "outputs": [],
      "source": "## Run this code but do not edit it\n# Create and display linear model: default_rate ~ pct_PELL\nPELL_model <- lm(default_rate ~ pct_PELL, data = dat)\nPELL_model"
    },
    {
      "cell_type": "markdown",
      "metadata": {
        "cell_id": "624d051a5a884faf9a6e51a85a5d5122",
        "deepnote_cell_type": "markdown",
        "nbsimplegrader": {
          "config_key": "markdown.view-only",
          "editable": false,
          "label": "Markdown: View-Only",
          "respondable": false,
          "response": null,
          "runnable": false,
          "type": "markdown"
        },
        "tags": []
      },
      "source": "The output of the `lm` command is a bit clunky, but here's what it means:\n- The `(Intercept)` value is the y-intercept ($\\beta_{0}$)\n- The `pct_PELL` value is the coefficient for the predictor. In other words, it's the slope ($\\beta_{1}$)\n\nSo, our regression equation can be written as:\n\n$$\n\\hat{y} = -0.9327 + (0.1765)x\n$$"
    },
    {
      "cell_type": "markdown",
      "metadata": {
        "cell_id": "8b27575948054effa45930be8f1a1149",
        "deepnote_cell_type": "markdown",
        "nbsimplegrader": {
          "config_key": "markdown.view-only",
          "editable": false,
          "label": "Markdown: View-Only",
          "respondable": false,
          "response": null,
          "runnable": false,
          "type": "markdown"
        },
        "tags": []
      },
      "source": "<div class=\"alert alert-block alert-warning\">\n\n**2.3 -** Identify the slope value and interpret what it means (in context).\n    \n</div>"
    },
    {
      "cell_type": "markdown",
      "metadata": {
        "cell_id": "45de35e8c1ab4f7fa33c5a466328b4a0",
        "deepnote_cell_type": "markdown",
        "nbsimplegrader": {
          "config_key": "markdown.response",
          "editable": true,
          "label": "Response: Markdown",
          "respondable": true,
          "response": null,
          "runnable": true,
          "type": "markdown"
        },
        "tags": []
      },
      "source": "**Double-click this cell to type your answer here:** "
    },
    {
      "cell_type": "markdown",
      "metadata": {
        "cell_id": "528859a6f2654f3fb9b4256b4d0af555",
        "deepnote_cell_type": "markdown",
        "nbsimplegrader": {
          "config_key": "markdown.view-only",
          "editable": false,
          "label": "Markdown: View-Only",
          "respondable": false,
          "response": null,
          "runnable": false,
          "type": "markdown"
        },
        "tags": []
      },
      "source": "<div class=\"alert alert-block alert-warning\">\n\n**2.4 -** Use the `gf_point` and `gf_lm` commands to visualize a linear regression model for predicting `default_rate` (outcome) using `grad_rate` (predictor).\n    \n</div>"
    },
    {
      "cell_type": "code",
      "execution_count": null,
      "metadata": {
        "cell_id": "917dde304d614a438020e9f4bc9fb379",
        "deepnote_cell_type": "code",
        "deepnote_to_be_reexecuted": false,
        "execution_millis": 445,
        "execution_start": 1708730395723,
        "nbsimplegrader": {
          "config_key": "code.response",
          "editable": true,
          "label": "Response: Code",
          "respondable": true,
          "response": null,
          "runnable": true,
          "type": "code"
        },
        "output_cleared": false,
        "source_hash": "5871f228",
        "tags": [],
        "trusted": false
      },
      "outputs": [],
      "source": "# Your code goes here\n"
    },
    {
      "cell_type": "markdown",
      "metadata": {
        "cell_id": "60bf6ac3a24448fa82dcfe59b0dbd931",
        "deepnote_cell_type": "markdown",
        "nbsimplegrader": {
          "config_key": "markdown.view-only",
          "editable": false,
          "label": "Markdown: View-Only",
          "respondable": false,
          "response": null,
          "runnable": false,
          "type": "markdown"
        }
      },
      "source": "<div class=\"alert alert-block alert-info\">\n\n**Check yourself:** Your scatterplot should have a line on it with a negative slope.</div>"
    },
    {
      "cell_type": "markdown",
      "metadata": {
        "cell_id": "4c44c85dd8ca4ca7a6751e0e4cc864f4",
        "deepnote_cell_type": "markdown",
        "nbsimplegrader": {
          "config_key": "markdown.view-only",
          "editable": false,
          "label": "Markdown: View-Only",
          "respondable": false,
          "response": null,
          "runnable": false,
          "type": "markdown"
        },
        "tags": []
      },
      "source": "<div class=\"alert alert-block alert-warning\">\n\n**2.5 -** Use the `lm` command to find the linear regression model you visualized above. Store the model in an object called `grad_model` and print it to see its values.\n    \n</div>"
    },
    {
      "cell_type": "code",
      "execution_count": null,
      "metadata": {
        "cell_id": "0e0ae40e67964360a5b6c56b2e6c9bcb",
        "deepnote_cell_type": "code",
        "deepnote_to_be_reexecuted": false,
        "execution_millis": 521,
        "execution_start": 1708730395999,
        "nbsimplegrader": {
          "config_key": "code.response",
          "editable": true,
          "label": "Response: Code",
          "respondable": true,
          "response": null,
          "runnable": true,
          "type": "code"
        },
        "output_cleared": false,
        "source_hash": "83b0dc1d",
        "tags": [],
        "trusted": false
      },
      "outputs": [],
      "source": "# Your code goes here\n"
    },
    {
      "cell_type": "markdown",
      "metadata": {
        "cell_id": "ce3ed430cf2847e49f80d3cbbdbd7033",
        "deepnote_cell_type": "markdown",
        "nbsimplegrader": {
          "config_key": "markdown.view-only",
          "editable": false,
          "label": "Markdown: View-Only",
          "respondable": false,
          "response": null,
          "runnable": false,
          "type": "markdown"
        }
      },
      "source": "<div class=\"alert alert-block alert-info\">\n\n**Check yourself:** If you print out `grad_model`, you should see two numbers: 14.46 and -0.1584.</div>"
    },
    {
      "cell_type": "markdown",
      "metadata": {
        "cell_id": "7093565d09224a298bee11605f7eccc8",
        "deepnote_cell_type": "markdown",
        "nbsimplegrader": {
          "config_key": "markdown.view-only",
          "editable": false,
          "label": "Markdown: View-Only",
          "respondable": false,
          "response": null,
          "runnable": false,
          "type": "markdown"
        },
        "tags": []
      },
      "source": "<div class=\"alert alert-block alert-warning\">\n\n**2.6 -** Identify the slope value and interpret what it means (in context).\n    \n</div>"
    },
    {
      "cell_type": "markdown",
      "metadata": {
        "cell_id": "4d3f16bde07c4e0c9cac6bfffc6299a4",
        "deepnote_cell_type": "markdown",
        "nbsimplegrader": {
          "config_key": "markdown.response",
          "editable": true,
          "label": "Response: Markdown",
          "respondable": true,
          "response": null,
          "runnable": true,
          "type": "markdown"
        },
        "tags": []
      },
      "source": "**Double-click this cell to type your answer here:** "
    },
    {
      "cell_type": "markdown",
      "metadata": {
        "cell_id": "bbbfdcaa2e1d42f1b12a8b4899e5c92d",
        "deepnote_cell_type": "markdown",
        "nbsimplegrader": {
          "config_key": "markdown.view-only",
          "editable": false,
          "label": "Markdown: View-Only",
          "respondable": false,
          "response": null,
          "runnable": false,
          "type": "markdown"
        },
        "tags": []
      },
      "source": "### 3.0 - Analyzing strength $(R^2)$"
    },
    {
      "cell_type": "markdown",
      "metadata": {
        "cell_id": "aad24ad546e94adb89c07d1de6b94271",
        "deepnote_cell_type": "markdown",
        "nbsimplegrader": {
          "config_key": "markdown.view-only",
          "editable": false,
          "label": "Markdown: View-Only",
          "respondable": false,
          "response": null,
          "runnable": false,
          "type": "markdown"
        },
        "tags": []
      },
      "source": "In addition to the direction of a relationship (positive or negative), we can also look at the **strength** of a relationship. The strength is a measure of the **quality of our model's predictions.** A key metric for analyzing the strength of a model is $R^2$. The following diagram (from <a href = \"https://skewthescript.org/3-3-a\">Skew The Script</a>) shows the $R^2$ values of various linear models:\n\n<img src=\"https://skewthescript.org/s/r_squared.PNG\">"
    },
    {
      "cell_type": "markdown",
      "metadata": {
        "cell_id": "25f955e5124b468db99e64d6f0c7e0dc",
        "deepnote_cell_type": "markdown",
        "nbsimplegrader": {
          "config_key": "markdown.view-only",
          "editable": false,
          "label": "Markdown: View-Only",
          "respondable": false,
          "response": null,
          "runnable": false,
          "type": "markdown"
        },
        "tags": []
      },
      "source": "In the \"weak\" correlations, we see that our predictions (the linear model) tend to be far away from the actual data values (the points). If we used a model with weak correlation to predict **new** data values, our predictions would have high error. If we used a model with strong correlation to predict **new** data values, our predictions would have low error.\n\n$R^2$ takes values between 0 - 1 (alternatively: 0% - 100%). The stronger the model, the closer $R^2$ gets to 1 (or 100%). The weaker the model, the closer $R^2$ gets to 0 (or 0%). An intuitive way to think about it: for the perfectly strong correlations, the model gives 100% perfect predictions. The models explain 100% of the variation in the data, so $R^2 = 100\\%$. As the correlations get weaker, they start leaving room for error, since the models capture less of the variation in the data. So, the $R^2$ value declines from 100%, approaching 0% if there's no correlation (model adds no prediction power compared to naive guessing).\n\n**Optional Resource:** If you'd like a more thorough explanation of the math behind $R^2$, check out <a href=\"https://youtu.be/bMccdk8EdGo\">this video</a>."
    },
    {
      "cell_type": "markdown",
      "metadata": {
        "cell_id": "c6588e6f9b964eec914598013a6e120d",
        "deepnote_cell_type": "markdown",
        "nbsimplegrader": {
          "config_key": "markdown.view-only",
          "editable": false,
          "label": "Markdown: View-Only",
          "respondable": false,
          "response": null,
          "runnable": false,
          "type": "markdown"
        },
        "tags": []
      },
      "source": "To see the $R^2$ values of our linear regression models, we can use the `summary` command. For example, here we get the `summary` printout of `grad_model`."
    },
    {
      "cell_type": "code",
      "execution_count": null,
      "metadata": {
        "cell_id": "07417130380e43649873961946c13c33",
        "deepnote_cell_type": "code",
        "deepnote_to_be_reexecuted": false,
        "execution_millis": 500,
        "execution_start": 1708730396020,
        "nbsimplegrader": {
          "config_key": "code.run-only",
          "editable": false,
          "label": "Code: Run-Only",
          "respondable": false,
          "response": null,
          "runnable": true,
          "type": "code"
        },
        "output_cleared": false,
        "source_hash": "e78c29d2",
        "tags": [],
        "trusted": false
      },
      "outputs": [],
      "source": "## Run this code but do not edit it\n# Summarize default_rate ~ grad_rate model\nsummary(grad_model)"
    },
    {
      "cell_type": "markdown",
      "metadata": {
        "cell_id": "cd84afbcc1a3446399097315d1567d77",
        "deepnote_cell_type": "markdown",
        "nbsimplegrader": {
          "config_key": "markdown.view-only",
          "editable": false,
          "label": "Markdown: View-Only",
          "respondable": false,
          "response": null,
          "runnable": false,
          "type": "markdown"
        },
        "tags": []
      },
      "source": "There's a lot going on in this printout. For now, focus at the bottom of the printed information. The `Multiple R-squared` value is the $R^2$ value for the model. In this case, $R^2 = 51.5\\%$. So, we can say that the correlation between graduation rates and student loan default rates is moderately strong. This model would yield moderately strong predictions for default rates if used to predict on new colleges."
    },
    {
      "cell_type": "markdown",
      "metadata": {
        "cell_id": "cfd22be0bf51483686afe8b2d095837e",
        "deepnote_cell_type": "markdown",
        "nbsimplegrader": {
          "config_key": "markdown.view-only",
          "editable": false,
          "label": "Markdown: View-Only",
          "respondable": false,
          "response": null,
          "runnable": false,
          "type": "markdown"
        },
        "tags": []
      },
      "source": "<div class=\"alert alert-block alert-warning\">\n\n**3.1 -** Let's consider a new variable: `net_tuition` (tuition minus average discounts and allowances per student, in thousands of dollars). How well does a school's tuition predict its student loan default rate? Let's start exploring. Go ahead and create a scatterplot that visualizes the relationship between `net_tuition` (predictor) and `default_rate` (outcome). **Overlay a linear regression model on the graph** using the `%>% gf_lm(color = \"orange\")` command.\n    \n</div>"
    },
    {
      "cell_type": "code",
      "execution_count": null,
      "metadata": {
        "cell_id": "b793f5ad11b94e16b0c3302842118010",
        "deepnote_cell_type": "code",
        "deepnote_to_be_reexecuted": false,
        "execution_millis": 479,
        "execution_start": 1708730396042,
        "nbsimplegrader": {
          "config_key": "code.response",
          "editable": true,
          "label": "Response: Code",
          "respondable": true,
          "response": null,
          "runnable": true,
          "type": "code"
        },
        "output_cleared": false,
        "source_hash": "fa5d345c",
        "tags": [],
        "trusted": false
      },
      "outputs": [],
      "source": "# Your code goes here\n"
    },
    {
      "cell_type": "markdown",
      "metadata": {
        "cell_id": "7283ce58dfd74505a02c8dd499f2c5d7",
        "deepnote_cell_type": "markdown",
        "nbsimplegrader": {
          "config_key": "markdown.view-only",
          "editable": false,
          "label": "Markdown: View-Only",
          "respondable": false,
          "response": null,
          "runnable": false,
          "type": "markdown"
        },
        "tags": []
      },
      "source": "<div class=\"alert alert-block alert-warning\">\n\n**3.2 -** Use the `lm` command to find the linear regression model you visualized above. Store the model in an object called `tuition_model` and print out the model's values.\n    \n</div>"
    },
    {
      "cell_type": "code",
      "execution_count": null,
      "metadata": {
        "cell_id": "ec719c4c2f0143959768af2d886a8721",
        "deepnote_cell_type": "code",
        "deepnote_to_be_reexecuted": false,
        "execution_millis": 352,
        "execution_start": 1708730396359,
        "nbsimplegrader": {
          "config_key": "code.response",
          "editable": true,
          "label": "Response: Code",
          "respondable": true,
          "response": null,
          "runnable": true,
          "type": "code"
        },
        "output_cleared": false,
        "source_hash": "24e0aeab",
        "tags": [],
        "trusted": false
      },
      "outputs": [],
      "source": "# Your code goes here\n"
    },
    {
      "cell_type": "markdown",
      "metadata": {
        "cell_id": "be3753551bf246bd9cd808ef302ab678",
        "deepnote_cell_type": "markdown",
        "nbsimplegrader": {
          "config_key": "markdown.view-only",
          "editable": false,
          "label": "Markdown: View-Only",
          "respondable": false,
          "response": null,
          "runnable": false,
          "type": "markdown"
        }
      },
      "source": "<div class=\"alert alert-block alert-info\">\n\n**Check yourself:** If you print out `tuition_model`, you should see two numbers: 8.0029 and -0.2077.</div>"
    },
    {
      "cell_type": "markdown",
      "metadata": {
        "cell_id": "454f2e0320cf47009ada2f745e1521c1",
        "deepnote_cell_type": "markdown",
        "nbsimplegrader": {
          "config_key": "markdown.view-only",
          "editable": false,
          "label": "Markdown: View-Only",
          "respondable": false,
          "response": null,
          "runnable": false,
          "type": "markdown"
        },
        "tags": []
      },
      "source": "<div class=\"alert alert-block alert-warning\">\n\n**3.3 -** Use the `summary` command to find the $R^2$ value of your linear model.\n    \n</div>"
    },
    {
      "cell_type": "code",
      "execution_count": null,
      "metadata": {
        "cell_id": "49b7ed9690794cbc84a82e375832a982",
        "deepnote_cell_type": "code",
        "deepnote_to_be_reexecuted": false,
        "execution_millis": 352,
        "execution_start": 1708730396360,
        "nbsimplegrader": {
          "config_key": "code.response",
          "editable": true,
          "label": "Response: Code",
          "respondable": true,
          "response": null,
          "runnable": true,
          "type": "code"
        },
        "output_cleared": false,
        "source_hash": "a6734849",
        "tags": [],
        "trusted": false
      },
      "outputs": [],
      "source": "# Your code goes here\n"
    },
    {
      "cell_type": "markdown",
      "metadata": {
        "cell_id": "8cb0960e4204432f9add6ddf43a18a55",
        "deepnote_cell_type": "markdown",
        "nbsimplegrader": {
          "config_key": "markdown.view-only",
          "editable": false,
          "label": "Markdown: View-Only",
          "respondable": false,
          "response": null,
          "runnable": false,
          "type": "markdown"
        }
      },
      "source": "<div class=\"alert alert-block alert-info\">\n\n**Check yourself:** The $R^2$ value for `tuition_model` should be 0.1882.</div>"
    },
    {
      "cell_type": "markdown",
      "metadata": {
        "cell_id": "0306a989b3dd4ea696cbc711f1268df6",
        "deepnote_cell_type": "markdown",
        "nbsimplegrader": {
          "config_key": "markdown.view-only",
          "editable": false,
          "label": "Markdown: View-Only",
          "respondable": false,
          "response": null,
          "runnable": false,
          "type": "markdown"
        },
        "tags": []
      },
      "source": "<div class=\"alert alert-block alert-warning\">\n\n**3.4 -** When evaluating different college options to predict if attending them would \"pay off,\" many students look very closely at the tuition and costs of attending. Very few students look at colleges' graduation rates. Is this reasonable or a mistake? Justify your answers using the $R^2$ values for the `grad_model` and `tuition_model`.\n    \n</div>"
    },
    {
      "cell_type": "markdown",
      "metadata": {
        "cell_id": "26826fd248564919b6c93bc0290d667b",
        "deepnote_cell_type": "markdown",
        "nbsimplegrader": {
          "config_key": "markdown.response",
          "editable": true,
          "label": "Response: Markdown",
          "respondable": true,
          "response": null,
          "runnable": true,
          "type": "markdown"
        },
        "tags": []
      },
      "source": "**Double-click this cell to type your answer here:** "
    },
    {
      "cell_type": "markdown",
      "metadata": {
        "cell_id": "a933d4b1a32e444599f7ed01a70adbc5",
        "deepnote_cell_type": "markdown",
        "nbsimplegrader": {
          "config_key": "markdown.view-only",
          "editable": false,
          "label": "Markdown: View-Only",
          "respondable": false,
          "response": null,
          "runnable": false,
          "type": "markdown"
        },
        "tags": []
      },
      "source": "<div class=\"alert alert-block alert-warning\">\n\n**3.5 -** The correlation between tuition costs and student loan default rates is **negative**. This means that as tuition costs get higher, **fewer** student tend to default on their student loans. Is that possible? What might be going on here?\n    \n</div>"
    },
    {
      "cell_type": "markdown",
      "metadata": {
        "cell_id": "c2a1fbc75604484e9a379715a3316c31",
        "deepnote_cell_type": "markdown",
        "nbsimplegrader": {
          "config_key": "markdown.response",
          "editable": true,
          "label": "Response: Markdown",
          "respondable": true,
          "response": null,
          "runnable": true,
          "type": "markdown"
        },
        "tags": []
      },
      "source": "**Double-click this cell to type your answer here:** "
    },
    {
      "cell_type": "markdown",
      "metadata": {
        "cell_id": "5dc5b4581c6e4d02b9a27e2fe6840910",
        "deepnote_cell_type": "markdown",
        "nbsimplegrader": {
          "config_key": "markdown.view-only",
          "editable": false,
          "label": "Markdown: View-Only",
          "respondable": false,
          "response": null,
          "runnable": false,
          "type": "markdown"
        }
      },
      "source": "### Feedback (Required)\n\nPlease take 2 minutes to fill out <a href=\"https://forms.gle/ePwTHdSeAc8FvVjg7\">this anonymous notebook feedback form</a>, so we can continue improving this notebook for future years!"
    }
  ],
  "metadata": {
    "deepnote_execution_queue": [],
    "deepnote_notebook_id": "dc480866d396400ea583a2e691d3b66e",
    "kernelspec": {
      "display_name": "R",
      "language": "R",
      "name": "ir"
    },
    "language_info": {
      "codemirror_mode": "r",
      "file_extension": ".r",
      "mimetype": "text/x-r-source",
      "name": "R",
      "pygments_lexer": "r",
      "version": "4.3.3"
    },
    "nbsimplegrader": {
      "publish_config": {
        "classes": [
          "2024DSChallenge_youngsaver"
        ],
        "options": {
          "include_submit": false,
          "lock_notebook": false
        },
        "tools": []
      }
    }
  },
  "nbformat": 4,
  "nbformat_minor": 1
}