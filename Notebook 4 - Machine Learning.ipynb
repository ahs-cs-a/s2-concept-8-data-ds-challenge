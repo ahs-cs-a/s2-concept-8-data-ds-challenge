{
  "cells": [
    {
      "cell_type": "markdown",
      "metadata": {
        "nbsimplegrader": {
          "config_key": "markdown.view-only",
          "editable": false,
          "label": "Markdown: View-Only",
          "respondable": false,
          "response": null,
          "runnable": false,
          "type": "markdown"
        }
      },
      "source": "<div class=\"alert alert-block alert-success\">\n\n**Reference Guide for R (student resource) -** Check out our <a href = \"https://docs.google.com/document/d/1dXT3NO4QjtbIrq29fH6pXHKgt7odZN7BIeU_TBoia4I/edit?usp=sharing\">reference guide</a> for a full listing of useful R commands for this project. \n\n<div>"
    },
    {
      "cell_type": "markdown",
      "metadata": {
        "cell_id": "dcffe01874fa44ec968fa2d27563f79b",
        "deepnote_cell_type": "markdown",
        "nbsimplegrader": {
          "config_key": "markdown.view-only",
          "editable": false,
          "label": "Markdown: View-Only",
          "respondable": false,
          "response": null,
          "runnable": false,
          "type": "markdown"
        },
        "tags": []
      },
      "source": "<img src=\"https://skewthescript.org/s/money_college_scale.jpg\">"
    },
    {
      "cell_type": "markdown",
      "metadata": {
        "cell_id": "dfcdbbe50a6a4a3da5d572e9afa02fb3",
        "deepnote_cell_type": "markdown",
        "nbsimplegrader": {
          "config_key": "markdown.view-only",
          "editable": false,
          "label": "Markdown: View-Only",
          "respondable": false,
          "response": null,
          "runnable": false,
          "type": "markdown"
        },
        "tags": []
      },
      "source": "## Data Science Project: Use data to determine the best and worst colleges for conquering student debt.\n\n### Notebook 4: Machine Learning\n\nDoes college pay off? We'll use some of the latest data from the US Department of Education's <a href=\"https://collegescorecard.ed.gov/data/\">College Scorecard Database</a> to answer that question. \n\nIn this notebook (the 4th of 4 total notebooks), you'll use R to add polynomial terms to your multiple regression models (i.e. polynomial regression). Then, you'll use the principles of machine learning to tune models for a prediction task on *unseen* data."
    },
    {
      "cell_type": "code",
      "execution_count": null,
      "metadata": {
        "cell_id": "94906c3f8e9645939665b24ac414bb42",
        "deepnote_cell_type": "code",
        "deepnote_to_be_reexecuted": false,
        "execution_millis": 2940,
        "execution_start": 1709620362444,
        "nbsimplegrader": {
          "config_key": "code.run-only",
          "editable": false,
          "label": "Code: Run-Only",
          "respondable": false,
          "response": null,
          "runnable": true,
          "type": "code"
        },
        "output_cleared": false,
        "source_hash": "c414c8a0",
        "tags": [],
        "trusted": false
      },
      "outputs": [],
      "source": "## Run this code but do not edit it. Hit Ctrl+Enter to run the code.\n# This command downloads a useful package of R commands\nlibrary(coursekata)"
    },
    {
      "cell_type": "markdown",
      "metadata": {
        "cell_id": "8ce6ed82655d4147ab3a291b6c543689",
        "deepnote_cell_type": "markdown",
        "nbsimplegrader": {
          "config_key": "markdown.view-only",
          "editable": false,
          "label": "Markdown: View-Only",
          "respondable": false,
          "response": null,
          "runnable": false,
          "type": "markdown"
        },
        "tags": []
      },
      "source": "<div class=\"alert alert-block alert-success\">\n\n### The Dataset (`four_year_colleges.csv`)\n\n**General description** - In this notebook, we'll be using the `four_year_colleges.csv` file, which only includes schools that offer four-year bachelors degrees and/or higher graduate degrees. Community colleges and trade schools often have different goals (e.g. facilitating transfers, direct career education) than institutions that offer four-year bachelors degrees. By comparing four-year colleges only to other four-year colleges, we'll have clearer analyses and conclusions. \n\nThis data is a subset of the US Department of Education's <a href=\"https://collegescorecard.ed.gov/data/\">College Scorecard Database</a>. The data is current as of the 2020-2021 school year.\n\n**Description of all variables:** See <a href=\"https://docs.google.com/document/d/1C3eR6jZQ2HNbB5QkHaPsBfOcROZRcZ0FtzZZiyyS9sQ/edit\">here</a>\n\n**Detailed data file description:** See <a href=\"https://docs.google.com/spreadsheets/d/1fa_Bd3_eYEmxvKPcu3hK2Dgazdk-9bkeJwONMS6u43Q/edit?usp=sharing\">here</a></div>"
    },
    {
      "cell_type": "code",
      "execution_count": null,
      "metadata": {
        "cell_id": "5cb55d471a2340e985f4ae2f5a72d8e9",
        "deepnote_cell_type": "code",
        "deepnote_to_be_reexecuted": false,
        "execution_millis": 1043,
        "execution_start": 1709620365403,
        "nbsimplegrader": {
          "config_key": "code.run-only",
          "editable": false,
          "label": "Code: Run-Only",
          "respondable": false,
          "response": null,
          "runnable": true,
          "type": "code"
        },
        "output_cleared": false,
        "source_hash": "e64bf916",
        "tags": [],
        "trusted": false
      },
      "outputs": [],
      "source": "## Run this code but do not edit it. Hit Ctrl+Enter to run the code.\n# This command downloads data from the file 'colleges.csv' and stores it in an object called `dat`\ndat <- read.csv('https://skewthescript.org/s/four_year_colleges.csv')"
    },
    {
      "cell_type": "markdown",
      "metadata": {
        "cell_id": "4b71aab119a645d6a80c7b0e11087b21",
        "deepnote_cell_type": "markdown",
        "nbsimplegrader": {
          "config_key": "markdown.view-only",
          "editable": false,
          "label": "Markdown: View-Only",
          "respondable": false,
          "response": null,
          "runnable": false,
          "type": "markdown"
        },
        "tags": []
      },
      "source": "### 1.0 - Motivating non-linear regression"
    },
    {
      "cell_type": "markdown",
      "metadata": {
        "cell_id": "72feddea161f4ffcb57eda14a543bb74",
        "deepnote_cell_type": "markdown",
        "nbsimplegrader": {
          "config_key": "markdown.view-only",
          "editable": false,
          "label": "Markdown: View-Only",
          "respondable": false,
          "response": null,
          "runnable": false,
          "type": "markdown"
        },
        "tags": []
      },
      "source": "So far, we've focused entirely on **linear regression** and **multiple linear regression** models, which use linear functions to relate predictors (e.g. `net_tuition`,`grad_rate`,`pct_PELL`) to the outcome (`default_rate`). \n\nIn this notebook, we're going to investigate ways to model **non-linear** relationships. To make this task a bit more manageable at the start, let's reduce the size of our dataset by taking a random sample of 20 colleges from the `dat` dataframe. We will store our sample in a new R dataframe called `sample_dat`."
    },
    {
      "cell_type": "code",
      "execution_count": null,
      "metadata": {
        "cell_id": "636585c1f2bd4d5780791ebede4ea5b6",
        "deepnote_cell_type": "code",
        "deepnote_to_be_reexecuted": false,
        "execution_millis": 67,
        "execution_start": 1709620366450,
        "nbsimplegrader": {
          "config_key": "code.run-only",
          "editable": false,
          "label": "Code: Run-Only",
          "respondable": false,
          "response": null,
          "runnable": true,
          "type": "code"
        },
        "output_cleared": false,
        "source_hash": "d7f68f21",
        "tags": [],
        "trusted": false
      },
      "outputs": [],
      "source": "## Run this code but do not edit it\n# create a dataset to train the model with 20 randomly selected observations\nset.seed(2)\nsample_dat <- sample(dat, size = 20)"
    },
    {
      "cell_type": "markdown",
      "metadata": {
        "cell_id": "968fc1986d1f49ef9d832abcea9585db",
        "deepnote_cell_type": "markdown",
        "nbsimplegrader": {
          "config_key": "markdown.view-only",
          "editable": false,
          "label": "Markdown: View-Only",
          "respondable": false,
          "response": null,
          "runnable": false,
          "type": "markdown"
        },
        "tags": []
      },
      "source": "**Note:** When getting a random sample, we'll get different results each time we run our code because it's ... well ... random. This can be quite annoying. So, in the code above, we used the command `set.seed(2)`. This ensures that each time the code is executed, we get the same results for our random sample - the results stored in seed `2`. We could have also set the seed to `1` or `3` or `845` or `12345`. The seed numbers serve merely as a unique ID that corresponds to a certain result from a random draw. By setting a certain seed, we'll always get a certain random draw."
    },
    {
      "cell_type": "markdown",
      "metadata": {
        "cell_id": "9a84b4368b3c483fa26e601cad7204ea",
        "deepnote_cell_type": "markdown",
        "nbsimplegrader": {
          "config_key": "markdown.view-only",
          "editable": false,
          "label": "Markdown: View-Only",
          "respondable": false,
          "response": null,
          "runnable": false,
          "type": "markdown"
        },
        "tags": []
      },
      "source": "<div class=\"alert alert-block alert-warning\">\n\n**1.1** Let's take a look at our sample data set. Print out the `head` and `dim` of `sample_dat`.\n    \n</div>"
    },
    {
      "cell_type": "code",
      "execution_count": null,
      "metadata": {
        "cell_id": "81e90d4221af49198b3014ff106c7884",
        "deepnote_cell_type": "code",
        "deepnote_to_be_reexecuted": false,
        "execution_millis": 194,
        "execution_start": 1709620366463,
        "nbsimplegrader": {
          "config_key": "code.response",
          "editable": true,
          "label": "Response: Code",
          "respondable": true,
          "response": null,
          "runnable": true,
          "type": "code"
        },
        "output_cleared": false,
        "source_hash": "47de85ac",
        "tags": [],
        "trusted": false
      },
      "outputs": [],
      "source": "# Your code goes here\n"
    },
    {
      "cell_type": "code",
      "execution_count": null,
      "metadata": {
        "cell_id": "c79f210ac3dd4d0d8df9b7323595bbeb",
        "deepnote_cell_type": "code",
        "deepnote_to_be_reexecuted": false,
        "execution_millis": 161,
        "execution_start": 1709620366496,
        "nbsimplegrader": {
          "config_key": "code.response",
          "editable": true,
          "label": "Response: Code",
          "respondable": true,
          "response": null,
          "runnable": true,
          "type": "code"
        },
        "output_cleared": false,
        "source_hash": "2979042b",
        "tags": [],
        "trusted": false
      },
      "outputs": [],
      "source": "# Your code goes here\n"
    },
    {
      "cell_type": "markdown",
      "metadata": {
        "cell_id": "95f60c39d28b400ebfb3e4c526f72957",
        "deepnote_cell_type": "markdown",
        "nbsimplegrader": {
          "config_key": "markdown.view-only",
          "editable": false,
          "label": "Markdown: View-Only",
          "respondable": false,
          "response": null,
          "runnable": false,
          "type": "markdown"
        }
      },
      "source": "<div class=\"alert alert-block alert-info\">\n\n**Check yourself:** The dimensions of `sample_dat` should be 20 rows and 27 columns.</div>"
    },
    {
      "cell_type": "markdown",
      "metadata": {
        "cell_id": "52d150c80f2b429a9e80cef79bfce5d6",
        "deepnote_cell_type": "markdown",
        "nbsimplegrader": {
          "config_key": "markdown.view-only",
          "editable": false,
          "label": "Markdown: View-Only",
          "respondable": false,
          "response": null,
          "runnable": false,
          "type": "markdown"
        },
        "tags": []
      },
      "source": "In prior notebooks, we focused on institutional and economic predictors of student loan default rates. In this notebook, we'll begin by analyzing an *academic* variable: `SAT_avg`. This variable shows the average SAT score of students who matriculate to a college.\n\nThe following code creates a scatterplot of the relationship between `SAT_avg` (predictor) and `default_rate` (outcome) from the dataset `sample_dat`:"
    },
    {
      "cell_type": "code",
      "execution_count": null,
      "metadata": {
        "cell_id": "07fe1317e81e48809c06c661135c23d8",
        "deepnote_cell_type": "code",
        "deepnote_to_be_reexecuted": false,
        "execution_millis": 301,
        "execution_start": 1709620366553,
        "nbsimplegrader": {
          "config_key": "code.run-only",
          "editable": false,
          "label": "Code: Run-Only",
          "respondable": false,
          "response": null,
          "runnable": true,
          "type": "code"
        },
        "output_cleared": false,
        "source_hash": "dd075091",
        "tags": [],
        "trusted": false
      },
      "outputs": [],
      "source": "## Run this code but do not edit it\n# create scatterplot: default_rate ~ SAT_avg\ngf_point(default_rate ~ SAT_avg, data = sample_dat)"
    },
    {
      "cell_type": "markdown",
      "metadata": {
        "cell_id": "11c962f04dc6406cb5aa3add7e06d5f8",
        "deepnote_cell_type": "markdown",
        "nbsimplegrader": {
          "config_key": "markdown.view-only",
          "editable": false,
          "label": "Markdown: View-Only",
          "respondable": false,
          "response": null,
          "runnable": false,
          "type": "markdown"
        },
        "tags": []
      },
      "source": "<div class=\"alert alert-block alert-warning\">\n\n**1.2 -** Describe the direction of the relationship between `SAT_avg` and `default_rate`. Is it positive or negative? Why do you think this is?\n    \n</div>"
    },
    {
      "cell_type": "markdown",
      "metadata": {
        "cell_id": "c07bc38244a24dbeb0aa2e83e8d5acd1",
        "deepnote_cell_type": "markdown",
        "nbsimplegrader": {
          "config_key": "markdown.response",
          "editable": true,
          "label": "Response: Markdown",
          "respondable": true,
          "response": null,
          "runnable": true,
          "type": "markdown"
        },
        "tags": []
      },
      "source": "**Double-click this cell to type your answer here:** "
    },
    {
      "cell_type": "markdown",
      "metadata": {
        "cell_id": "efc9bf240c474377b7522f6c94e6bcf8",
        "deepnote_cell_type": "markdown",
        "nbsimplegrader": {
          "config_key": "markdown.view-only",
          "editable": false,
          "label": "Markdown: View-Only",
          "respondable": false,
          "response": null,
          "runnable": false,
          "type": "markdown"
        },
        "tags": []
      },
      "source": "<div class=\"alert alert-block alert-warning\">\n\n**1.3 -** Create the same scatterplot as above, but with the simple linear model between `default_rate` (outcome) and `SAT_avg` (predictor) overlayed on top.\n\n**Hint:** Recall the `gf_lm` command from notebook 2.\n    \n</div>"
    },
    {
      "cell_type": "code",
      "execution_count": null,
      "metadata": {
        "cell_id": "74edc664044444628121f7c134fcd088",
        "deepnote_cell_type": "code",
        "deepnote_to_be_reexecuted": false,
        "execution_millis": 354,
        "execution_start": 1709620366732,
        "nbsimplegrader": {
          "config_key": "code.response",
          "editable": true,
          "label": "Response: Code",
          "respondable": true,
          "response": null,
          "runnable": true,
          "type": "code"
        },
        "output_cleared": false,
        "source_hash": "1255d6b1",
        "tags": [],
        "trusted": false
      },
      "outputs": [],
      "source": "# Your code goes here\n"
    },
    {
      "cell_type": "markdown",
      "metadata": {
        "cell_id": "b65d4e09de8c426f8e14adc79b875241",
        "deepnote_cell_type": "markdown",
        "nbsimplegrader": {
          "config_key": "markdown.view-only",
          "editable": false,
          "label": "Markdown: View-Only",
          "respondable": false,
          "response": null,
          "runnable": false,
          "type": "markdown"
        },
        "tags": []
      },
      "source": "<div class=\"alert alert-block alert-warning\">\n\n**1.4 -** Would you say that this model provides a \"good\" fit for this dataset? Explain.\n    \n</div>"
    },
    {
      "cell_type": "markdown",
      "metadata": {
        "cell_id": "7ee11d616ecb4476a210adcce5a54c85",
        "deepnote_cell_type": "markdown",
        "nbsimplegrader": {
          "config_key": "markdown.response",
          "editable": true,
          "label": "Response: Markdown",
          "respondable": true,
          "response": null,
          "runnable": true,
          "type": "markdown"
        },
        "tags": []
      },
      "source": "**Double-click this cell to type your answer here:** "
    },
    {
      "cell_type": "markdown",
      "metadata": {
        "cell_id": "ada534863b8f49e596bd09652ae5215f",
        "deepnote_cell_type": "markdown",
        "nbsimplegrader": {
          "config_key": "markdown.view-only",
          "editable": false,
          "label": "Markdown: View-Only",
          "respondable": false,
          "response": null,
          "runnable": false,
          "type": "markdown"
        },
        "tags": []
      },
      "source": "<div class=\"alert alert-block alert-warning\">\n\n**1.5 -** Use the `lm` command to fit the linear regression model, where we use `SAT_avg` (predictor) to predict `default_rate` (outcome) in the dataset `sample_dat`. Store the model in a variable named `sat_model_1` and use the `summary` command to print out information about the model fit.\n    \n</div>"
    },
    {
      "cell_type": "code",
      "execution_count": null,
      "metadata": {
        "cell_id": "d0d47226bb214060bd7550de54b134d1",
        "deepnote_cell_type": "code",
        "deepnote_to_be_reexecuted": false,
        "execution_millis": 676,
        "execution_start": 1709620366927,
        "nbsimplegrader": {
          "config_key": "code.response",
          "editable": true,
          "label": "Response: Code",
          "respondable": true,
          "response": null,
          "runnable": true,
          "type": "code"
        },
        "output_cleared": false,
        "source_hash": "4c5a682f",
        "tags": [],
        "trusted": false
      },
      "outputs": [],
      "source": "# Your code goes here\n"
    },
    {
      "cell_type": "markdown",
      "metadata": {
        "cell_id": "a107c68b47dd49f290fcd40dbc5cacb7",
        "deepnote_cell_type": "markdown",
        "nbsimplegrader": {
          "config_key": "markdown.view-only",
          "editable": false,
          "label": "Markdown: View-Only",
          "respondable": false,
          "response": null,
          "runnable": false,
          "type": "markdown"
        }
      },
      "source": "<div class=\"alert alert-block alert-info\">\n\n**Check yourself:** The $R^2$ value shown in the model summary should be 0.4571 </div>"
    },
    {
      "cell_type": "markdown",
      "metadata": {
        "cell_id": "1ebd095525e7443986073dae269296ae",
        "deepnote_cell_type": "markdown",
        "nbsimplegrader": {
          "config_key": "markdown.view-only",
          "editable": false,
          "label": "Markdown: View-Only",
          "respondable": false,
          "response": null,
          "runnable": false,
          "type": "markdown"
        },
        "tags": []
      },
      "source": "<div class=\"alert alert-block alert-warning\">\n\n**1.6** - Does the model's $R^2$ value indicate that this model provides a strong fit for this dataset? Explain.\n    \n</div>"
    },
    {
      "cell_type": "markdown",
      "metadata": {
        "cell_id": "0b7961677adc49bd9de5e1489c529bf3",
        "deepnote_cell_type": "markdown",
        "nbsimplegrader": {
          "config_key": "markdown.response",
          "editable": true,
          "label": "Response: Markdown",
          "respondable": true,
          "response": null,
          "runnable": true,
          "type": "markdown"
        },
        "tags": []
      },
      "source": "**Double-click this cell to type your answer here:** "
    },
    {
      "cell_type": "markdown",
      "metadata": {
        "cell_id": "96b882e30e3e4e05b4096136e28ef803",
        "deepnote_cell_type": "markdown",
        "nbsimplegrader": {
          "config_key": "markdown.view-only",
          "editable": false,
          "label": "Markdown: View-Only",
          "respondable": false,
          "response": null,
          "runnable": false,
          "type": "markdown"
        },
        "tags": []
      },
      "source": "<div class=\"alert alert-block alert-warning\">\n\n**1.7** - If this model were curved, rather than linear, do you believe the $R^2$ could be higher? Explain.\n    \n</div>"
    },
    {
      "cell_type": "markdown",
      "metadata": {
        "cell_id": "da1ccca559824668becc7ac47521b937",
        "deepnote_cell_type": "markdown",
        "nbsimplegrader": {
          "config_key": "markdown.response",
          "editable": true,
          "label": "Response: Markdown",
          "respondable": true,
          "response": null,
          "runnable": true,
          "type": "markdown"
        },
        "tags": []
      },
      "source": "**Double-click this cell to type your answer here:** "
    },
    {
      "cell_type": "markdown",
      "metadata": {
        "cell_id": "3caaf0ff69be423e833cdabb420a26c0",
        "deepnote_cell_type": "markdown",
        "nbsimplegrader": {
          "config_key": "markdown.view-only",
          "editable": false,
          "label": "Markdown: View-Only",
          "respondable": false,
          "response": null,
          "runnable": false,
          "type": "markdown"
        },
        "tags": []
      },
      "source": "### 2.0 - Polynomial regression"
    },
    {
      "cell_type": "markdown",
      "metadata": {
        "cell_id": "e237b739c0024e12940b9e6695ee350f",
        "deepnote_cell_type": "markdown",
        "nbsimplegrader": {
          "config_key": "markdown.view-only",
          "editable": false,
          "label": "Markdown: View-Only",
          "respondable": false,
          "response": null,
          "runnable": false,
          "type": "markdown"
        },
        "tags": []
      },
      "source": "Recall that simple linear regression follows this formula:\n\n$$\n\\hat{y} = \\beta_{0} + \\beta_{1}x\n$$\nWhere:\n\n- $\\beta_0$ is the intercept\n\n- $\\beta_1$ is the slope (coefficient of $x$)\n\n- $\\hat{y}$ is the predicted `default_rate`\n\n- $x$ is the value of `SAT_avg`"
    },
    {
      "cell_type": "markdown",
      "metadata": {
        "cell_id": "90e0dd942a0b4ba6b673d97291ec44aa",
        "deepnote_cell_type": "markdown",
        "nbsimplegrader": {
          "config_key": "markdown.view-only",
          "editable": false,
          "label": "Markdown: View-Only",
          "respondable": false,
          "response": null,
          "runnable": false,
          "type": "markdown"
        },
        "tags": []
      },
      "source": "If we want to capture the curvature in a scatter plot by creating a non-linear model, we can use a technique called **polynomial regression**. For example, we could use a degree 2 polynomial (quadratic), which looks like this:\n\n$$\n\\hat{y} = \\beta_{0} + \\beta_{1}x + \\beta_{2}x^2\n$$\n\nWhere:\n\n- $\\beta_0$ is the intercept\n\n- $\\beta_1$ is the coefficient of $x$ (linear term)\n\n- $\\beta_2$ is the coefficient of $x^2$ (squared term)\n\n- $\\hat{y}$ is the predicted `default_rate`\n\n- $x$ is the `SAT_avg`"
    },
    {
      "cell_type": "markdown",
      "metadata": {
        "cell_id": "715cd5b884ea49cda84817f9af2a06fd",
        "deepnote_cell_type": "markdown",
        "nbsimplegrader": {
          "config_key": "markdown.view-only",
          "editable": false,
          "label": "Markdown: View-Only",
          "respondable": false,
          "response": null,
          "runnable": false,
          "type": "markdown"
        },
        "tags": []
      },
      "source": "Below, we visualize the fit of this degree-2 polynomial (quadratic) model between `SAT_avg` and `default_rate`:"
    },
    {
      "cell_type": "code",
      "execution_count": null,
      "metadata": {
        "cell_id": "0b98df4a52604d8dbf136d2276173940",
        "deepnote_cell_type": "code",
        "deepnote_to_be_reexecuted": false,
        "execution_millis": 656,
        "execution_start": 1709620366947,
        "nbsimplegrader": {
          "config_key": "code.run-only",
          "editable": false,
          "label": "Code: Run-Only",
          "respondable": false,
          "response": null,
          "runnable": true,
          "type": "code"
        },
        "output_cleared": false,
        "source_hash": "7c589f27",
        "tags": [],
        "trusted": false
      },
      "outputs": [],
      "source": "## Run this code but do not edit it\n# create scatterplot: default_rate ~ SAT_avg, with degree 2 polynomial model overlayed\ngf_point(default_rate ~ SAT_avg, data = sample_dat) %>% gf_lm(formula = y ~ poly(x, 2), color = \"orange\")"
    },
    {
      "cell_type": "markdown",
      "metadata": {
        "cell_id": "42b6166b3f9f4f1d97c7e1378380d55c",
        "deepnote_cell_type": "markdown",
        "nbsimplegrader": {
          "config_key": "markdown.view-only",
          "editable": false,
          "label": "Markdown: View-Only",
          "respondable": false,
          "response": null,
          "runnable": false,
          "type": "markdown"
        },
        "tags": []
      },
      "source": "<div class=\"alert alert-block alert-warning\">\n\n**2.1** - Make a prediction: Will this polynomial regression model have a higher or lower $R^2$ value than the linear regression model? Justify your reasoning.\n    \n</div>"
    },
    {
      "cell_type": "markdown",
      "metadata": {
        "cell_id": "a63d003956ce4300bedcffd229ec1f05",
        "deepnote_cell_type": "markdown",
        "nbsimplegrader": {
          "config_key": "markdown.response",
          "editable": true,
          "label": "Response: Markdown",
          "respondable": true,
          "response": null,
          "runnable": true,
          "type": "markdown"
        },
        "tags": []
      },
      "source": "**Double-click this cell to type your answer here:** "
    },
    {
      "cell_type": "markdown",
      "metadata": {
        "cell_id": "745401d402c24f67a27eb25089937cf0",
        "deepnote_cell_type": "markdown",
        "nbsimplegrader": {
          "config_key": "markdown.view-only",
          "editable": false,
          "label": "Markdown: View-Only",
          "respondable": false,
          "response": null,
          "runnable": false,
          "type": "markdown"
        },
        "tags": []
      },
      "source": "Let's test your prediction. To do so, we'll first need to fit the polynomial model. We can fit a degree 2 polynomial to the data using the `poly()` function inside of the `lm()` function. Run the cell below to see how it's done."
    },
    {
      "cell_type": "code",
      "execution_count": null,
      "metadata": {
        "cell_id": "3889d7d5bae54898bd0a7b30f309be17",
        "deepnote_cell_type": "code",
        "deepnote_to_be_reexecuted": false,
        "execution_millis": 767,
        "execution_start": 1709620367140,
        "nbsimplegrader": {
          "config_key": "code.run-only",
          "editable": false,
          "label": "Code: Run-Only",
          "respondable": false,
          "response": null,
          "runnable": true,
          "type": "code"
        },
        "output_cleared": false,
        "source_hash": "694320c9",
        "tags": [],
        "trusted": false
      },
      "outputs": [],
      "source": "## Run this code but do not edit it\n# degree 2 polynomial model for default_rate ~ SAT_avg\nsat_model_2 <- lm(default_rate ~ poly(SAT_avg, 2), data = sample_dat)\nsat_model_2"
    },
    {
      "cell_type": "markdown",
      "metadata": {
        "cell_id": "ac4ebba3981a4316a0dca3e1ba4c6814",
        "deepnote_cell_type": "markdown",
        "nbsimplegrader": {
          "config_key": "markdown.view-only",
          "editable": false,
          "label": "Markdown: View-Only",
          "respondable": false,
          "response": null,
          "runnable": false,
          "type": "markdown"
        },
        "tags": []
      },
      "source": "The equation for this model would be\n\n$$\n\\hat{y}=4.065-8.391x+4.355x^2\n$$\n\nWhere:\n\n- $\\beta_0=4.065$ is the intercept\n\n- $\\beta_1=-8.391$ is the coefficient of $x$, the linear term\n\n- $\\beta_2=4.355$ is the coefficient of $x^2$, the squared term\n\n- $\\hat{y}$ is the predicted `default_rate`\n\n- $x$ is the `SAT_avg`"
    },
    {
      "cell_type": "markdown",
      "metadata": {
        "cell_id": "95718db59d3f409084040da1ca4c9aea",
        "deepnote_cell_type": "markdown",
        "nbsimplegrader": {
          "config_key": "markdown.view-only",
          "editable": false,
          "label": "Markdown: View-Only",
          "respondable": false,
          "response": null,
          "runnable": false,
          "type": "markdown"
        },
        "tags": []
      },
      "source": "<div class=\"alert alert-block alert-warning\">\n\n**2.2 -** Use the `summary` command on `sat_model_2` to see summary information about the quadratic model.\n    \n</div>"
    },
    {
      "cell_type": "code",
      "execution_count": null,
      "metadata": {
        "cell_id": "c8d297f96f6b43fd943bffcd20afc376",
        "deepnote_cell_type": "code",
        "deepnote_to_be_reexecuted": false,
        "execution_millis": 751,
        "execution_start": 1709620367156,
        "nbsimplegrader": {
          "config_key": "code.response",
          "editable": true,
          "label": "Response: Code",
          "respondable": true,
          "response": null,
          "runnable": true,
          "type": "code"
        },
        "output_cleared": false,
        "source_hash": "46b7b3df",
        "tags": [],
        "trusted": false
      },
      "outputs": [],
      "source": "# Your code goes here\n"
    },
    {
      "cell_type": "markdown",
      "metadata": {
        "cell_id": "0604f96f9e1a4f6db0a3234d2a75fcac",
        "deepnote_cell_type": "markdown",
        "nbsimplegrader": {
          "config_key": "markdown.view-only",
          "editable": false,
          "label": "Markdown: View-Only",
          "respondable": false,
          "response": null,
          "runnable": false,
          "type": "markdown"
        }
      },
      "source": "<div class=\"alert alert-block alert-info\">\n\n**Check yourself:** The $R^2$ value shown in the model summary should be 0.5802 </div>"
    },
    {
      "cell_type": "markdown",
      "metadata": {
        "cell_id": "37f54ba6450444ad857b3eac8c4b0c9e",
        "deepnote_cell_type": "markdown",
        "nbsimplegrader": {
          "config_key": "markdown.view-only",
          "editable": false,
          "label": "Markdown: View-Only",
          "respondable": false,
          "response": null,
          "runnable": false,
          "type": "markdown"
        },
        "tags": []
      },
      "source": "<div class=\"alert alert-block alert-warning\">\n\n**2.3 -** How does this model's $R^2$ value compare to that of the linear model? Was your prediction right? Explain.\n    \n</div>"
    },
    {
      "cell_type": "markdown",
      "metadata": {
        "cell_id": "6d414adca1b7447ebc3abd3dffd88cd6",
        "deepnote_cell_type": "markdown",
        "nbsimplegrader": {
          "config_key": "markdown.response",
          "editable": true,
          "label": "Response: Markdown",
          "respondable": true,
          "response": null,
          "runnable": true,
          "type": "markdown"
        },
        "tags": []
      },
      "source": "**Double-click this cell to type your answer here:** "
    },
    {
      "cell_type": "markdown",
      "metadata": {
        "cell_id": "d8853dca96a94f25b8ca277f1649ccf8",
        "deepnote_cell_type": "markdown",
        "nbsimplegrader": {
          "config_key": "markdown.view-only",
          "editable": false,
          "label": "Markdown: View-Only",
          "respondable": false,
          "response": null,
          "runnable": false,
          "type": "markdown"
        },
        "tags": []
      },
      "source": "This analysis raises a natural question: Why stop at degree 2? By raising the degree, we can add more curves to our model, potentially better fitting the data! Let's visualize what happens when we increase the degree in our polynomial regression models."
    },
    {
      "cell_type": "markdown",
      "metadata": {
        "cell_id": "461900a6a82c4fdfb7f1a031ecf34794",
        "deepnote_cell_type": "markdown",
        "nbsimplegrader": {
          "config_key": "markdown.view-only",
          "editable": false,
          "label": "Markdown: View-Only",
          "respondable": false,
          "response": null,
          "runnable": false,
          "type": "markdown"
        },
        "tags": []
      },
      "source": "#### Degree 3 Polynomial Model\n\n$$\n\\hat{y} = \\beta_{0} + \\beta_{1}x + \\beta_{2}x^2 + \\beta_{3}x^3\n$$"
    },
    {
      "cell_type": "code",
      "execution_count": null,
      "metadata": {
        "cell_id": "068eb2c244d7413289615a178ab4982a",
        "deepnote_cell_type": "code",
        "deepnote_to_be_reexecuted": false,
        "execution_millis": 733,
        "execution_start": 1709620367175,
        "nbsimplegrader": {
          "config_key": "code.run-only",
          "editable": false,
          "label": "Code: Run-Only",
          "respondable": false,
          "response": null,
          "runnable": true,
          "type": "code"
        },
        "output_cleared": false,
        "source_hash": "ceb7de0c",
        "tags": [],
        "trusted": false
      },
      "outputs": [],
      "source": "## Run this code but do not edit it\n# create scatterplot: default_rate ~ SAT_avg, with degree 3 polynomial model overlayed\ngf_point(default_rate ~ SAT_avg, data = sample_dat) %>% gf_lm(formula = y ~poly(x, 3), color = \"orange\") + ylim(-4,12)"
    },
    {
      "cell_type": "markdown",
      "metadata": {
        "cell_id": "db5972e161b74ca5b29599f2e70c4521",
        "deepnote_cell_type": "markdown",
        "nbsimplegrader": {
          "config_key": "markdown.view-only",
          "editable": false,
          "label": "Markdown: View-Only",
          "respondable": false,
          "response": null,
          "runnable": false,
          "type": "markdown"
        },
        "tags": []
      },
      "source": "#### Degree 5 Polynomial Model\n\n$$\n\\hat{y} = \\beta_{0} + \\beta_{1}x + \\beta_{2}x^2 + \\beta_{3}x^3 + \\beta_{4}x^4 + + \\beta_{5}x^5\n$$"
    },
    {
      "cell_type": "code",
      "execution_count": null,
      "metadata": {
        "allow_embed": false,
        "cell_id": "99229893a1b04cdcbf31299e9bd9b24d",
        "deepnote_cell_type": "code",
        "deepnote_to_be_reexecuted": false,
        "execution_millis": 528,
        "execution_start": 1709620367380,
        "nbsimplegrader": {
          "config_key": "code.run-only",
          "editable": false,
          "label": "Code: Run-Only",
          "respondable": false,
          "response": null,
          "runnable": true,
          "type": "code"
        },
        "output_cleared": false,
        "source_hash": "3b2a501",
        "tags": [],
        "trusted": false
      },
      "outputs": [],
      "source": "## Run this code but do not edit it\n# create scatterplot: default_rate ~ SAT_avg, with degree 5 polynomial model overlayed\ngf_point(default_rate ~ SAT_avg, data = sample_dat) %>% gf_lm(formula = y ~poly(x, 5), color = \"orange\") + ylim(-4,12)"
    },
    {
      "cell_type": "markdown",
      "metadata": {
        "cell_id": "8c565dc3cade40b2b4de48bfcb17f469",
        "deepnote_cell_type": "markdown",
        "nbsimplegrader": {
          "config_key": "markdown.view-only",
          "editable": false,
          "label": "Markdown: View-Only",
          "respondable": false,
          "response": null,
          "runnable": false,
          "type": "markdown"
        },
        "tags": []
      },
      "source": "#### Degree 12 Polynomial Model\n\n$$\n\\hat{y} = \\beta_{0} + \\beta_{1}x + \\beta_{2}x^2 + \\beta_{3}x^3 + \\beta_{4}x^4 + + \\beta_{5}x^5 + + \\beta_{6}x^6 + ... + \\beta_{12}x^{12}\n$$"
    },
    {
      "cell_type": "markdown",
      "metadata": {
        "cell_id": "a8d0d7539fad4d0e95828204aaac45fe",
        "deepnote_cell_type": "markdown",
        "nbsimplegrader": {
          "config_key": "markdown.view-only",
          "editable": false,
          "label": "Markdown: View-Only",
          "respondable": false,
          "response": null,
          "runnable": false,
          "type": "markdown"
        }
      },
      "source": "**Note:** The following code is pre-run, to save computer space."
    },
    {
      "cell_type": "code",
      "execution_count": null,
      "metadata": {
        "cell_id": "8446cccad7814249a27740c178514811",
        "deepnote_cell_type": "code",
        "deepnote_to_be_reexecuted": false,
        "execution_millis": 365,
        "execution_start": 1709620367544,
        "nbsimplegrader": {
          "config_key": "code.run-only",
          "editable": false,
          "label": "Code: Run-Only",
          "respondable": false,
          "response": null,
          "runnable": true,
          "type": "code"
        },
        "output_cleared": false,
        "source_hash": "e7f0d214",
        "tags": [],
        "trusted": false
      },
      "outputs": [],
      "source": "## Note: This code was pre-run, to save computer space\n# create scatterplot: default_rate ~ SAT_avg, with degree 12 polynomial model overlayed\n# gf_point(default_rate ~ SAT_avg, data = sample_dat) %>% gf_smooth(method = \"lm\", formula = y ~poly(x,12), color = \"orange\") + ylim(-4,14)"
    },
    {
      "cell_type": "markdown",
      "metadata": {
        "cell_id": "cc29629668c545259c5b424745fa9f20",
        "deepnote_cell_type": "markdown",
        "nbsimplegrader": {
          "config_key": "markdown.view-only",
          "editable": false,
          "label": "Markdown: View-Only",
          "respondable": false,
          "response": null,
          "runnable": false,
          "type": "markdown"
        },
        "tags": []
      },
      "source": "<img src=\"https://skewthescript.org/s/high_poly.png\" width = 72% align = left>"
    },
    {
      "cell_type": "markdown",
      "metadata": {
        "cell_id": "c4682666e2b2437d9335bcac192e56a2",
        "deepnote_cell_type": "markdown",
        "nbsimplegrader": {
          "config_key": "markdown.view-only",
          "editable": false,
          "label": "Markdown: View-Only",
          "respondable": false,
          "response": null,
          "runnable": false,
          "type": "markdown"
        },
        "tags": []
      },
      "source": "<div class=\"alert alert-block alert-warning\">\n\n**2.4 -** Examine each plot for the polynmial models with degrees 3, 5, 12. Which model do you think would have the largest $R^2$ value? Why?\n    \n</div>"
    },
    {
      "cell_type": "markdown",
      "metadata": {
        "cell_id": "883233b255864116a4275d9c63e2536d",
        "deepnote_cell_type": "markdown",
        "nbsimplegrader": {
          "config_key": "markdown.response",
          "editable": true,
          "label": "Response: Markdown",
          "respondable": true,
          "response": null,
          "runnable": true,
          "type": "markdown"
        },
        "tags": []
      },
      "source": "**Double-click this cell to type your answer here:** "
    },
    {
      "cell_type": "markdown",
      "metadata": {
        "cell_id": "c1670ad0b138489b9adfdd7fe398d2fd",
        "deepnote_cell_type": "markdown",
        "nbsimplegrader": {
          "config_key": "markdown.view-only",
          "editable": false,
          "label": "Markdown: View-Only",
          "respondable": false,
          "response": null,
          "runnable": false,
          "type": "markdown"
        },
        "tags": []
      },
      "source": "To determine which polynomial model fits the data the best, we will fit models for each degree (3, 5, 12)."
    },
    {
      "cell_type": "code",
      "execution_count": null,
      "metadata": {
        "cell_id": "b66cae70c5a3423f8e03184e6c463909",
        "deepnote_cell_type": "code",
        "deepnote_to_be_reexecuted": false,
        "execution_millis": 365,
        "execution_start": 1709620367544,
        "nbsimplegrader": {
          "config_key": "code.run-only",
          "editable": false,
          "label": "Code: Run-Only",
          "respondable": false,
          "response": null,
          "runnable": true,
          "type": "code"
        },
        "output_cleared": false,
        "source_hash": "8cb0efc1",
        "tags": [],
        "trusted": false
      },
      "outputs": [],
      "source": "## Run this code but do not edit it\n# degree 3, 5, and 12 polynomial models for default_rate ~ SAT_avg\nsat_model_3 <- lm(default_rate ~ poly(SAT_avg, 3), data = sample_dat)\nsat_model_5 <- lm(default_rate ~ poly(SAT_avg, 5), data = sample_dat)\nsat_model_12 <- lm(default_rate ~ poly(SAT_avg, 12), data = sample_dat)"
    },
    {
      "cell_type": "markdown",
      "metadata": {
        "cell_id": "fbc20659d9eb4dd0a1c8a04d4d44bd90",
        "deepnote_cell_type": "markdown",
        "nbsimplegrader": {
          "config_key": "markdown.view-only",
          "editable": false,
          "label": "Markdown: View-Only",
          "respondable": false,
          "response": null,
          "runnable": false,
          "type": "markdown"
        },
        "tags": []
      },
      "source": "Now we can compare each model's $R^2$ value. Normally, we use the `summary` command and read the $R^2$ value. However, since we've fit so many models, we don't want to print out the entire summary for each one. \n\nInstead, we'll use commands like this: `summary(sat_model_1)$r.squared`. The `$` operator is used to extract just the `r.squared` element from the full `summary`. We execute this command for each model, then print the results for ease of comparison."
    },
    {
      "cell_type": "code",
      "execution_count": null,
      "metadata": {
        "cell_id": "708cd62ab6824330a1cd3c89d31dbb9e",
        "deepnote_cell_type": "code",
        "deepnote_to_be_reexecuted": false,
        "execution_millis": 365,
        "execution_start": 1709620367545,
        "nbsimplegrader": {
          "config_key": "code.run-only",
          "editable": false,
          "label": "Code: Run-Only",
          "respondable": false,
          "response": null,
          "runnable": true,
          "type": "code"
        },
        "output_cleared": false,
        "source_hash": "484502ba",
        "tags": [],
        "trusted": false
      },
      "outputs": [],
      "source": "## Run this code but do not edit it\n# r-squared value for each model\nr2_sat_model_1 <- summary(sat_model_1)$r.squared\nr2_sat_model_2 <- summary(sat_model_2)$r.squared\nr2_sat_model_3 <- summary(sat_model_3)$r.squared\nr2_sat_model_5 <- summary(sat_model_5)$r.squared\nr2_sat_model_12 <- summary(sat_model_12)$r.squared\n\n# print each model's r-squared value\nprint(paste(\"The R squared value for the degree 1 model is\", r2_sat_model_1))\nprint(paste(\"The R squared value for the degree 2 model is\", r2_sat_model_2))\nprint(paste(\"The R squared value for the degree 3 model is\", r2_sat_model_3))\nprint(paste(\"The R squared value for the degree 5 model is\", r2_sat_model_5))\nprint(paste(\"The R squared value for the degree 12 model is\", r2_sat_model_12))"
    },
    {
      "cell_type": "markdown",
      "metadata": {
        "cell_id": "65ad6488ec3643f0bd15c1e6749bf0a7",
        "deepnote_cell_type": "markdown",
        "nbsimplegrader": {
          "config_key": "markdown.view-only",
          "editable": false,
          "label": "Markdown: View-Only",
          "respondable": false,
          "response": null,
          "runnable": false,
          "type": "markdown"
        }
      },
      "source": "<div class=\"alert alert-block alert-info\">\n\n**Check yourself:** The $R^2$ for the degree 5 model should be about 0.647 </div>"
    },
    {
      "cell_type": "markdown",
      "metadata": {
        "cell_id": "367ea80b80094971867a1f8ebf54c9ca",
        "deepnote_cell_type": "markdown",
        "nbsimplegrader": {
          "config_key": "markdown.view-only",
          "editable": false,
          "label": "Markdown: View-Only",
          "respondable": false,
          "response": null,
          "runnable": false,
          "type": "markdown"
        },
        "tags": []
      },
      "source": "<div class=\"alert alert-block alert-warning\">\n\n**2.5 -** The degree 12 model has the highest $R^2$ value. Does that mean it's the \"best\" model? Why or why not?\n\n**Hint:** Think about which model would do the best for predicting *the rest of the data* from the original full dataset.\n    \n</div>"
    },
    {
      "cell_type": "markdown",
      "metadata": {
        "cell_id": "3d029af49f84407c865866119996b7e5",
        "deepnote_cell_type": "markdown",
        "nbsimplegrader": {
          "config_key": "markdown.response",
          "editable": true,
          "label": "Response: Markdown",
          "respondable": true,
          "response": null,
          "runnable": true,
          "type": "markdown"
        },
        "tags": []
      },
      "source": "**Double-click this cell to type your answer here:** "
    },
    {
      "cell_type": "markdown",
      "metadata": {
        "cell_id": "83be70193f774246b01833ce7c2681b8",
        "deepnote_cell_type": "markdown",
        "nbsimplegrader": {
          "config_key": "markdown.view-only",
          "editable": false,
          "label": "Markdown: View-Only",
          "respondable": false,
          "response": null,
          "runnable": false,
          "type": "markdown"
        },
        "tags": []
      },
      "source": "### 3.0 - Prediction, model tuning, & machine learning\n\nIn prior notebooks, we've used our models to make inferences about default rates. However, sometimes in data science, we care more about predictions than we do about inferences. In particular, many data science tasks ask for making accurate predictions on *new* data - data that hadn't yet been collected when we first fit the model. This process of building models to predict new data, especially when it's automated, is called **machine learning.** \n\nThe key to machine learning is building models that make accurate predictions on **test** data - unseen data that weren't used when fitting the model. Let's see how this works. First, let's create a test dataset of 10 randomly sampled colleges. Importantly, these are colleges that **our models didn't see while fitting**:"
    },
    {
      "cell_type": "code",
      "execution_count": null,
      "metadata": {
        "cell_id": "c158bf6cda00454d9319d5221c94189c",
        "deepnote_cell_type": "code",
        "deepnote_to_be_reexecuted": false,
        "execution_millis": 684,
        "execution_start": 1709620367618,
        "nbsimplegrader": {
          "config_key": "code.run-only",
          "editable": false,
          "label": "Code: Run-Only",
          "respondable": false,
          "response": null,
          "runnable": true,
          "type": "code"
        },
        "output_cleared": false,
        "source_hash": "2a2effe5",
        "tags": [],
        "trusted": false
      },
      "outputs": [],
      "source": "## Run this code but do not edit it\n# create a data set to test the model with 10 new, randomnly selected observations\n# not used to train the model\nset.seed(23)\ntest_dat <- sample(dat, size = 10)"
    },
    {
      "cell_type": "markdown",
      "metadata": {
        "cell_id": "26a2f6bb52bb42d8a7971372a208eade",
        "deepnote_cell_type": "markdown",
        "nbsimplegrader": {
          "config_key": "markdown.view-only",
          "editable": false,
          "label": "Markdown: View-Only",
          "respondable": false,
          "response": null,
          "runnable": false,
          "type": "markdown"
        },
        "tags": []
      },
      "source": "<div class=\"alert alert-block alert-warning\">\n\n**3.1 -** Use the `head` command on the `test_dat` data set.\n    \n</div>"
    },
    {
      "cell_type": "code",
      "execution_count": null,
      "metadata": {
        "cell_id": "8fbdf1f712ae465580989f77aa7daac8",
        "deepnote_cell_type": "code",
        "deepnote_to_be_reexecuted": false,
        "execution_millis": 607,
        "execution_start": 1709620367696,
        "nbsimplegrader": {
          "config_key": "code.response",
          "editable": true,
          "label": "Response: Code",
          "respondable": true,
          "response": null,
          "runnable": true,
          "type": "code"
        },
        "output_cleared": false,
        "source_hash": "60ca8041",
        "tags": [],
        "trusted": false
      },
      "outputs": [],
      "source": "# Your code goes here\n"
    },
    {
      "cell_type": "markdown",
      "metadata": {
        "cell_id": "341be637b0b54824856c32cdf4191e37",
        "deepnote_cell_type": "markdown",
        "nbsimplegrader": {
          "config_key": "markdown.view-only",
          "editable": false,
          "label": "Markdown: View-Only",
          "respondable": false,
          "response": null,
          "runnable": false,
          "type": "markdown"
        },
        "tags": []
      },
      "source": "The following code visualizes the new test data alongside the training data (the data we used to originally fit our models)."
    },
    {
      "cell_type": "code",
      "execution_count": null,
      "metadata": {
        "cell_id": "3eae524e1c46436bae8871b50e587501",
        "deepnote_cell_type": "code",
        "deepnote_to_be_reexecuted": false,
        "execution_millis": 602,
        "execution_start": 1709620367701,
        "nbsimplegrader": {
          "config_key": "code.run-only",
          "editable": false,
          "label": "Code: Run-Only",
          "respondable": false,
          "response": null,
          "runnable": true,
          "type": "code"
        },
        "output_cleared": false,
        "source_hash": "aa87da7f",
        "tags": [],
        "trusted": false
      },
      "outputs": [],
      "source": "## Run this code but do not edit it\n# label train and test sets\nsample_dat$phase <- \"train\"\ntest_dat$phase <- \"test\"\n\n# concatenate two datasets\nfull_dat <- rbind(sample_dat, test_dat)\n\n# create scatterplot: default_rate ~ SAT_avg, with degree 5 polynomial model overlayed\ngf_point(default_rate ~ SAT_avg, data = full_dat, color = ~phase, shape = ~phase)"
    },
    {
      "cell_type": "markdown",
      "metadata": {
        "cell_id": "9fd49641b4124580b1ee58ffbfce7ded",
        "deepnote_cell_type": "markdown",
        "nbsimplegrader": {
          "config_key": "markdown.view-only",
          "editable": false,
          "label": "Markdown: View-Only",
          "respondable": false,
          "response": null,
          "runnable": false,
          "type": "markdown"
        },
        "tags": []
      },
      "source": "<div class=\"alert alert-block alert-warning\">\n\n**3.2 -** Of all the polynomial models we fit before, which do you think would do best in predicting the default rates in the test dataset? \n\n**Note:** Use your gut and intution here. No calculations required.\n    \n</div>"
    },
    {
      "cell_type": "markdown",
      "metadata": {
        "cell_id": "4e24343cbee743559ebebc3995d1e4e4",
        "deepnote_cell_type": "markdown",
        "nbsimplegrader": {
          "config_key": "markdown.response",
          "editable": true,
          "label": "Response: Markdown",
          "respondable": true,
          "response": null,
          "runnable": true,
          "type": "markdown"
        },
        "tags": []
      },
      "source": "**Double-click this cell to type your answer here:** "
    },
    {
      "cell_type": "markdown",
      "metadata": {
        "cell_id": "deb3ea35bf3e4dd587d520a2d391d755",
        "deepnote_cell_type": "markdown",
        "nbsimplegrader": {
          "config_key": "markdown.view-only",
          "editable": false,
          "label": "Markdown: View-Only",
          "respondable": false,
          "response": null,
          "runnable": false,
          "type": "markdown"
        },
        "tags": []
      },
      "source": "Let's see how good one of our models is at predicting default rates. The R code in the next cell uses the `predict` function to make predictions on the test dataset. In this case, output shows the predicted default rates for the 10 test set colleges, as predicted by our degree 5 model."
    },
    {
      "cell_type": "code",
      "execution_count": null,
      "metadata": {
        "cell_id": "e725b86e58c344bd9204d2b3296098f4",
        "deepnote_cell_type": "code",
        "deepnote_to_be_reexecuted": false,
        "execution_millis": 493,
        "execution_start": 1709620368006,
        "nbsimplegrader": {
          "config_key": "code.run-only",
          "editable": false,
          "label": "Code: Run-Only",
          "respondable": false,
          "response": null,
          "runnable": true,
          "type": "code"
        },
        "output_cleared": false,
        "source_hash": "850696a8",
        "tags": [],
        "trusted": false
      },
      "outputs": [],
      "source": "## Run this code but do not edit it\n# get predictions for degree 5 model\npred_deg5 <- predict(sat_model_5, newdata = data.frame(SAT_avg = test_dat$SAT_avg))\npred_deg5"
    },
    {
      "cell_type": "markdown",
      "metadata": {
        "cell_id": "af247c4a2bda49b4a82576f41c5f714e",
        "deepnote_cell_type": "markdown",
        "nbsimplegrader": {
          "config_key": "markdown.view-only",
          "editable": false,
          "label": "Markdown: View-Only",
          "respondable": false,
          "response": null,
          "runnable": false,
          "type": "markdown"
        },
        "tags": []
      },
      "source": "So, how can we interpret these values? Well, the last college in our test set is `University of New Orleans`, which has an `SAT_avg` value of `1088` and a `default_rate` of `6.6`. It's shown here on the graph, alongside our degree 5 model. \n\n**Note:** The following code is pre-run."
    },
    {
      "cell_type": "code",
      "execution_count": null,
      "metadata": {
        "cell_id": "108c053d625941b38ef6d44390f8e681",
        "deepnote_cell_type": "code",
        "deepnote_to_be_reexecuted": false,
        "execution_millis": 492,
        "execution_start": 1709620368007,
        "nbsimplegrader": {
          "config_key": "code.run-only",
          "editable": false,
          "label": "Code: Run-Only",
          "respondable": false,
          "response": null,
          "runnable": true,
          "type": "code"
        },
        "output_cleared": false,
        "source_hash": "47274705",
        "tags": [],
        "trusted": false
      },
      "outputs": [],
      "source": "### Run this code but do not edit it\n## create scatterplot: default_rate ~ SAT_avg, with degree 5 polynomial model overlayed\n#gf_point(default_rate ~ SAT_avg, data = sample_dat, color = ~phase, shape = ~phase) %>% gf_lm(formula = y ~poly(x, 5), color = \"orange\") %>% gf_point(default_rate ~ SAT_avg, data = full_dat, color = ~phase, shape = ~phase) + ylim(0,19)"
    },
    {
      "cell_type": "markdown",
      "metadata": {
        "cell_id": "4be57cccb5f64d2c96379d38cefd42cd",
        "deepnote_cell_type": "markdown",
        "nbsimplegrader": {
          "config_key": "markdown.view-only",
          "editable": false,
          "label": "Markdown: View-Only",
          "respondable": false,
          "response": null,
          "runnable": false,
          "type": "markdown"
        },
        "tags": []
      },
      "source": "<img src=\"https://skewthescript.org/s/new_orleans.png\" width = 72%, align = left>"
    },
    {
      "cell_type": "markdown",
      "metadata": {
        "cell_id": "c00ab36c75c647759f14f4179c550f2f",
        "deepnote_cell_type": "markdown",
        "nbsimplegrader": {
          "config_key": "markdown.view-only",
          "editable": false,
          "label": "Markdown: View-Only",
          "respondable": false,
          "response": null,
          "runnable": false,
          "type": "markdown"
        },
        "tags": []
      },
      "source": "Our degree 5 model's predicted default rate for this first data point was `4.28`.  That means that our degree 5 model under-estimates the actual value for default rate by...\n\n$$\n6.6-4.28 = 2.32\n$$\n\nThe model's prediction and error is visualized in the plot below:"
    },
    {
      "cell_type": "markdown",
      "metadata": {
        "cell_id": "d680c610a670463981dd73046a984b74",
        "deepnote_cell_type": "markdown",
        "nbsimplegrader": {
          "config_key": "markdown.view-only",
          "editable": false,
          "label": "Markdown: View-Only",
          "respondable": false,
          "response": null,
          "runnable": false,
          "type": "markdown"
        },
        "tags": []
      },
      "source": "<img src=\"https://skewthescript.org/s/new_orleans_residual.png\" width = 72% align = left>"
    },
    {
      "cell_type": "markdown",
      "metadata": {
        "cell_id": "22bab373c2c7460886f4c4c2ca32361d",
        "deepnote_cell_type": "markdown",
        "nbsimplegrader": {
          "config_key": "markdown.view-only",
          "editable": false,
          "label": "Markdown: View-Only",
          "respondable": false,
          "response": null,
          "runnable": false,
          "type": "markdown"
        },
        "tags": []
      },
      "source": "\nSo, its predicted default rate is \"off\" by about 2 percentage points! This is pretty amazing, considering the model had only 20 training data values and the `University of New Orleans` wasn't included among them. This is the power of machine learning! Predicting previously *unseen* data!\n\nThis is just one prediction. We're really interested in how this model performed across all its predictions. For that, let's measure its $R^2$ (prediciton strength) on the test set!\n\nWe can use the `cor` function to correlate the predictions with the actual default rates ($r$) and then square that value to get $R^2$, which gets us the prediction strength!"
    },
    {
      "cell_type": "code",
      "execution_count": null,
      "metadata": {
        "cell_id": "aebe332873754ebdba70f374d9d5c141",
        "deepnote_cell_type": "code",
        "deepnote_to_be_reexecuted": false,
        "execution_millis": 483,
        "execution_start": 1709620368017,
        "nbsimplegrader": {
          "config_key": "code.run-only",
          "editable": false,
          "label": "Code: Run-Only",
          "respondable": false,
          "response": null,
          "runnable": true,
          "type": "code"
        },
        "output_cleared": false,
        "source_hash": "d4c14033",
        "tags": [],
        "trusted": false
      },
      "outputs": [],
      "source": "## Run this code but do not edit it\n# Get correlation between predicted and actual default rates in test set\ncor(test_dat$default_rate, pred_deg5) ^ 2"
    },
    {
      "cell_type": "markdown",
      "metadata": {
        "cell_id": "694c6cfaa0da411eabba613a92e4d2a4",
        "deepnote_cell_type": "markdown",
        "nbsimplegrader": {
          "config_key": "markdown.view-only",
          "editable": false,
          "label": "Markdown: View-Only",
          "respondable": false,
          "response": null,
          "runnable": false,
          "type": "markdown"
        },
        "tags": []
      },
      "source": "We can now repeat this same process for all polynomial degrees."
    },
    {
      "cell_type": "code",
      "execution_count": null,
      "metadata": {
        "cell_id": "078b8d7fc9b74719a1070753da9b55c6",
        "deepnote_cell_type": "code",
        "deepnote_to_be_reexecuted": false,
        "execution_millis": 463,
        "execution_start": 1709620368037,
        "nbsimplegrader": {
          "config_key": "code.run-only",
          "editable": false,
          "label": "Code: Run-Only",
          "respondable": false,
          "response": null,
          "runnable": true,
          "type": "code"
        },
        "output_cleared": false,
        "source_hash": "f639a9ad",
        "tags": [],
        "trusted": false
      },
      "outputs": [],
      "source": "## Run this code but do not edit it\n# Storing test set predictions for all models\npred_deg1 <- predict(sat_model_1, newdata = data.frame(SAT_avg = test_dat$SAT_avg))\npred_deg2 <- predict(sat_model_2, newdata = data.frame(SAT_avg = test_dat$SAT_avg))\npred_deg3 <- predict(sat_model_3, newdata = data.frame(SAT_avg = test_dat$SAT_avg))\npred_deg5 <- predict(sat_model_5, newdata = data.frame(SAT_avg = test_dat$SAT_avg))\npred_deg12 <- predict(sat_model_12, newdata = data.frame(SAT_avg = test_dat$SAT_avg))\n\n# print each model's r-squared value\nprint(paste(\"The test R squared value for the degree 1 model is\", cor(test_dat$default_rate, pred_deg1) ^ 2))\nprint(paste(\"The test R squared value for the degree 2 model is\", cor(test_dat$default_rate, pred_deg2) ^ 2))\nprint(paste(\"The test R squared value for the degree 3 model is\", cor(test_dat$default_rate, pred_deg3) ^ 2))\nprint(paste(\"The test R squared value for the degree 5 model is\", cor(test_dat$default_rate, pred_deg5) ^ 2))\nprint(paste(\"The test R squared value for the degree 12 model is\", cor(test_dat$default_rate, pred_deg12) ^ 2))"
    },
    {
      "cell_type": "markdown",
      "metadata": {
        "cell_id": "6f0f9f84939f4cb59176b35227156900",
        "deepnote_cell_type": "markdown",
        "nbsimplegrader": {
          "config_key": "markdown.view-only",
          "editable": false,
          "label": "Markdown: View-Only",
          "respondable": false,
          "response": null,
          "runnable": false,
          "type": "markdown"
        }
      },
      "source": "<div class=\"alert alert-block alert-info\">\n\n**Check yourself:** The $R^2$ for the degree 5 model should be about 0.6165 </div>"
    },
    {
      "cell_type": "markdown",
      "metadata": {
        "cell_id": "406f1d486125445bbb6d9b8d7d1728e2",
        "deepnote_cell_type": "markdown",
        "nbsimplegrader": {
          "config_key": "markdown.view-only",
          "editable": false,
          "label": "Markdown: View-Only",
          "respondable": false,
          "response": null,
          "runnable": false,
          "type": "markdown"
        },
        "tags": []
      },
      "source": "<div class=\"alert alert-block alert-warning\">\n\n**3.3 -** Compare the $R^2$ estimates for each model. Which models did well? Which models did poorly? Why do you think this is?\n    \n</div>"
    },
    {
      "cell_type": "markdown",
      "metadata": {
        "cell_id": "7dbe31d9370c46d097157c0949464927",
        "deepnote_cell_type": "markdown",
        "nbsimplegrader": {
          "config_key": "markdown.response",
          "editable": true,
          "label": "Response: Markdown",
          "respondable": true,
          "response": null,
          "runnable": true,
          "type": "markdown"
        },
        "tags": []
      },
      "source": "**Double-click this cell to type your answer here:** "
    },
    {
      "cell_type": "markdown",
      "metadata": {
        "cell_id": "1ccd039e071940db9cbfa623881d4cb7",
        "deepnote_cell_type": "markdown",
        "nbsimplegrader": {
          "config_key": "markdown.view-only",
          "editable": false,
          "label": "Markdown: View-Only",
          "respondable": false,
          "response": null,
          "runnable": false,
          "type": "markdown"
        },
        "tags": []
      },
      "source": "<div class=\"alert alert-block alert-warning\">\n\n**3.4 -** In machine learning, the central goal is to build our models so as to avoid \"underfitting\" and \"overfitting\" our models to the training data. What do you think these terms mean? Which of our models were underfit? Which do you think were overfit? Explain.\n    \n</div>"
    },
    {
      "cell_type": "markdown",
      "metadata": {
        "cell_id": "8cd1505136f5404b9ca289c55b61cac3",
        "deepnote_cell_type": "markdown",
        "nbsimplegrader": {
          "config_key": "markdown.response",
          "editable": true,
          "label": "Response: Markdown",
          "respondable": true,
          "response": null,
          "runnable": true,
          "type": "markdown"
        },
        "tags": []
      },
      "source": "**Double-click this cell to type your answer here:** "
    },
    {
      "cell_type": "markdown",
      "metadata": {
        "cell_id": "9b702708c6574d8cb06c0e931e90e132",
        "deepnote_cell_type": "markdown",
        "nbsimplegrader": {
          "config_key": "markdown.view-only",
          "editable": false,
          "label": "Markdown: View-Only",
          "respondable": false,
          "response": null,
          "runnable": false,
          "type": "markdown"
        },
        "tags": []
      },
      "source": "Recall that we built our polynomial models here with just one predictor: $x$ (`SAT_avg`). Yet, those models could end up being quite complex...\n\n$$\n\\hat{y} = \\beta_{0} + \\beta_{1}x + \\beta_{2}x^2 + \\beta_{3}x^3\n$$\n\nNow, imagine that we wanted to bring in multiple predictors ($x_1$ = `SAT_avg`, $x_2$ = `net_tuition`, $x_3$ = `grad_rate`) for muliple regression. Plus, imagine that we decided to add in some polynomial terms for each of these predictors. We could end up with a model that looks ever more complicated, with literally hundreds of terms...\n\n$$\n\\hat{y} = \\beta_{0} + \\beta_{1}x_1 + \\beta_{2}x_1^2 + \\beta_{3}x_1^3 + \\beta_{4}x_2 + \\beta_{5}x_2^2 + \\beta_{5}x_2^3 + \\beta_{6}x_3 + \\beta_{7}x_3^2 + ...\n$$"
    },
    {
      "cell_type": "markdown",
      "metadata": {
        "cell_id": "0e7e4c33f19848678866b724c81820dc",
        "deepnote_cell_type": "markdown",
        "nbsimplegrader": {
          "config_key": "markdown.view-only",
          "editable": false,
          "label": "Markdown: View-Only",
          "respondable": false,
          "response": null,
          "runnable": false,
          "type": "markdown"
        },
        "tags": []
      },
      "source": "<div class=\"alert alert-block alert-warning\">\n\n**3.5 -** Is it always good to add more predictors and add more polynomial terms to your model? Explain why or why not.\n    \n</div>"
    },
    {
      "cell_type": "markdown",
      "metadata": {
        "cell_id": "73f0b8e360d9404e8e7aabcfa6f65285",
        "deepnote_cell_type": "markdown",
        "nbsimplegrader": {
          "config_key": "markdown.response",
          "editable": true,
          "label": "Response: Markdown",
          "respondable": true,
          "response": null,
          "runnable": true,
          "type": "markdown"
        },
        "tags": []
      },
      "source": "**Double-click this cell to type your answer here:** "
    },
    {
      "cell_type": "markdown",
      "metadata": {
        "cell_id": "5a9d1954da3941b3a68edbe5eebedafe",
        "deepnote_cell_type": "markdown",
        "nbsimplegrader": {
          "config_key": "markdown.view-only",
          "editable": false,
          "label": "Markdown: View-Only",
          "respondable": false,
          "response": null,
          "runnable": false,
          "type": "markdown"
        },
        "tags": []
      },
      "source": "### 4.0 - In-class prediction competition"
    },
    {
      "cell_type": "markdown",
      "metadata": {
        "cell_id": "95c6e49581834724a754e4ca80578328",
        "deepnote_cell_type": "markdown",
        "nbsimplegrader": {
          "config_key": "markdown.view-only",
          "editable": false,
          "label": "Markdown: View-Only",
          "respondable": false,
          "response": null,
          "runnable": false,
          "type": "markdown"
        },
        "tags": []
      },
      "source": "Now you have all the tools you need to build very powerful prediction models! This means that it's time for a friendly competition :)\n\nThe code below takes the full dataset and splits it into larger train and test datasets. 80% of the colleges will go into the train dataset. 20% will go into the test dataset. Because we all are setting the same seed (`2024`), everyone will get the exact same train and test sets:"
    },
    {
      "cell_type": "code",
      "execution_count": null,
      "metadata": {
        "cell_id": "c6c7b2a8196943c18a306b1cb4023f38",
        "deepnote_cell_type": "code",
        "deepnote_to_be_reexecuted": false,
        "execution_millis": 409,
        "execution_start": 1709620368091,
        "nbsimplegrader": {
          "config_key": "code.run-only",
          "editable": false,
          "label": "Code: Run-Only",
          "respondable": false,
          "response": null,
          "runnable": true,
          "type": "code"
        },
        "output_cleared": false,
        "source_hash": "ef9d8beb",
        "tags": [],
        "trusted": false
      },
      "outputs": [],
      "source": "## Run but do not edit this code\n\n# set training data to be 80% of all colleges\ntrain_size <- floor(0.8 * nrow(dat))\n\n## sample row indeces\nset.seed(2024)\ntrain_ind <- sample(seq_len(nrow(dat)), size = train_size)\n\ntrain <- dat[train_ind, ]\ntest <- dat[-train_ind, ]"
    },
    {
      "cell_type": "code",
      "execution_count": null,
      "metadata": {
        "cell_id": "af6c128de21042fa954c15ae48926979",
        "deepnote_cell_type": "code",
        "deepnote_to_be_reexecuted": false,
        "execution_millis": 409,
        "execution_start": 1709620368092,
        "nbsimplegrader": {
          "config_key": "code.run-only",
          "editable": false,
          "label": "Code: Run-Only",
          "respondable": false,
          "response": null,
          "runnable": true,
          "type": "code"
        },
        "output_cleared": false,
        "source_hash": "d17827f9",
        "tags": [],
        "trusted": false
      },
      "outputs": [],
      "source": "dim(train)"
    },
    {
      "cell_type": "code",
      "execution_count": null,
      "metadata": {
        "cell_id": "2ca563293a8d43f6a9911d5e792087cc",
        "deepnote_cell_type": "code",
        "deepnote_to_be_reexecuted": false,
        "execution_millis": 365,
        "execution_start": 1709620368136,
        "nbsimplegrader": {
          "config_key": "code.run-only",
          "editable": false,
          "label": "Code: Run-Only",
          "respondable": false,
          "response": null,
          "runnable": true,
          "type": "code"
        },
        "output_cleared": false,
        "source_hash": "96aa658c",
        "tags": [],
        "trusted": false
      },
      "outputs": [],
      "source": "dim(test)"
    },
    {
      "cell_type": "markdown",
      "metadata": {
        "cell_id": "c988fde083a3489b84db02260973e909",
        "deepnote_cell_type": "markdown",
        "nbsimplegrader": {
          "config_key": "markdown.view-only",
          "editable": false,
          "label": "Markdown: View-Only",
          "respondable": false,
          "response": null,
          "runnable": false,
          "type": "markdown"
        },
        "tags": []
      },
      "source": "Now it's time to compete! \n\n**Goal:** Create the most accurate prediction model of colleges' default rates.\n\n**Evaluation:** Whichever student has the highest $R^2$ on the test set wins.\n\n**Guidelines** Save your best model as an object called `my_model`. You are only allowed to fit models on the train set (not on the test set). You may use as many predictors and as many polynomial terms as you'd like. Just be warned: Don't fall into the trap of overfitting! Choose only the most important variables and keep your models simple, so that you can generalize well to the test set. Periodically test your model on the test set and then make adjustments as necessary. \n\nGo!"
    },
    {
      "cell_type": "code",
      "execution_count": null,
      "metadata": {
        "cell_id": "48a125d3a4ad4ec4afb103217a92af40",
        "deepnote_cell_type": "code",
        "deepnote_to_be_reexecuted": false,
        "execution_millis": 365,
        "execution_start": 1709620368136,
        "nbsimplegrader": {
          "config_key": "code.response",
          "editable": true,
          "label": "Response: Code",
          "respondable": true,
          "response": null,
          "runnable": true,
          "type": "code"
        },
        "output_cleared": false,
        "source_hash": "5b8740a2",
        "tags": [],
        "trusted": false
      },
      "outputs": [],
      "source": "## Your code goes here\n# Replace 'grad_rate + poly(SAT_avg,3)' with your own combo of variables and poly terms\nmy_model <- lm(default_rate ~ grad_rate + poly(SAT_avg,3), data = train)"
    },
    {
      "cell_type": "code",
      "execution_count": null,
      "metadata": {
        "cell_id": "a8fe6a9633ce4a4eb2160c195a3d7644",
        "deepnote_cell_type": "code",
        "deepnote_to_be_reexecuted": false,
        "execution_millis": 365,
        "execution_start": 1709620368137,
        "nbsimplegrader": {
          "config_key": "code.edit-and-run",
          "editable": true,
          "label": "Code: Edit-and-Run",
          "respondable": false,
          "response": null,
          "runnable": true,
          "type": "code"
        },
        "output_cleared": false,
        "source_hash": "8b7e98de",
        "tags": [],
        "trusted": false
      },
      "outputs": [],
      "source": "# run this code to get the R^2 value on the test set from your model\ntest_predictions = predict(my_model, newdata = test)\nprint(paste(\"The test R^2 value was: \", cor(test$default_rate, test_predictions) ^ 2))"
    },
    {
      "cell_type": "markdown",
      "metadata": {
        "cell_id": "bd13777b5c724582a729946481586026",
        "deepnote_cell_type": "markdown",
        "nbsimplegrader": {
          "config_key": "markdown.view-only",
          "editable": false,
          "label": "Markdown: View-Only",
          "respondable": false,
          "response": null,
          "runnable": false,
          "type": "markdown"
        },
        "tags": []
      },
      "source": "### 5.0 - NATIONWIDE prediction competition\n\n**Competition:** We're hosting a *nationwide* competition to see which student can build the best model for predicting student loan default rates at different colleges. Here's an <a href = \"https://medium.com/data-science-4-everyone/after-the-ap-data-science-champions-announced-fd405bcdb883\">article</a> about last year's winners.\n\n**Evaluation**: Across the country, all students are using the same train and test sets as you did in the prior exercise to fit and evaluate their models. Your goal: Build a model that gives the best predictions on this test set. The student models that produce the highest $R^2$ value on the test set will be announced as champions!\n\n**Submission Process (due June 7, 2024 at 11:59pm CT)**:\n 1. Print and have a parent/guardian sign the <a href = \"https://drive.google.com/file/d/1JPOiYNJLtUM3QZQKlU0qhN0nSN3AZfJL/view?usp=sharing\">media release form</a>. This form gives permission to feature you and publish your results, in the event that you're a finalist! Take a picture or scan the signed form and submit it during as a part of Step #2 (below).\n 2. Submit <a href = \"https://forms.gle/3CwV3KqPZLjsP1dJ7\">this google form</a> (note: you'll have to log into a google account), which allows you to upload your media release form, model, and notebook. This counts as your final submission.\n\n**Notes to avoid disqualification:**\n - Do not change the seed (`2024`) in the code block that splits the data into the train and test sets. Using the common seed of `2024` will ensure everyone across the country has the exact same train/test split. \n - Make sure your model is fit using the `train` data. In other words, it should look like: `my_model <- lm(default_rate ~ ..., data = train)`.\n - Make sure your find the $R^2$ value on the `test` data, using the provided code.\n - There are ways to \"cheat\" on this competition by looking directly at the test set data values and designing your model to predict those values exactly (or approximately). However, based on the design of your model (which we'll see when you share your notebook), it's pretty easy for us to tell if you've done this. So, don't do it! Your submission will be discarded."
    },
    {
      "cell_type": "markdown",
      "metadata": {
        "cell_id": "b7c1efc4038b4b60aa7073b02e909442",
        "deepnote_cell_type": "markdown",
        "nbsimplegrader": {
          "config_key": "markdown.view-only",
          "editable": false,
          "label": "Markdown: View-Only",
          "respondable": false,
          "response": null,
          "runnable": false,
          "type": "markdown"
        }
      },
      "source": "### Feedback (Required)\n\nPlease take 2 minutes to fill out <a href=\"https://forms.gle/ePwTHdSeAc8FvVjg7\">this anonymous notebook feedback form</a>, so we can continue improving this notebook for future years!"
    }
  ],
  "metadata": {
    "deepnote_execution_queue": [],
    "deepnote_notebook_id": "6eeb158558aa4054a9ccc11ba5f7733d",
    "kernelspec": {
      "display_name": "R",
      "language": "R",
      "name": "ir"
    },
    "language_info": {
      "codemirror_mode": "r",
      "file_extension": ".r",
      "mimetype": "text/x-r-source",
      "name": "R",
      "pygments_lexer": "r",
      "version": "4.3.3"
    },
    "nbsimplegrader": {
      "publish_config": {
        "classes": [
          "2024DSChallenge_youngsaver"
        ],
        "options": {
          "include_submit": false,
          "lock_notebook": false
        },
        "tools": []
      }
    }
  },
  "nbformat": 4,
  "nbformat_minor": 1
}