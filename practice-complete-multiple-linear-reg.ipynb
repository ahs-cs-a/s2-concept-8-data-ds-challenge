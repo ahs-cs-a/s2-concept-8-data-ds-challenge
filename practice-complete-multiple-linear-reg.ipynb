{
 "cells": [
  {
   "cell_type": "code",
   "execution_count": 6,
   "metadata": {
    "vscode": {
     "languageId": "r"
    }
   },
   "outputs": [],
   "source": [
    "library(coursekata)\n",
    "options(repr.plot.width=15, repr.plot.height=10)\n",
    "update_geom_defaults(\"point\", list(shape=16, size = 8))\n",
    "my_theme = theme(\n",
    "        axis.text=element_text(size=24),\n",
    "        axis.title=element_text(size=24,face=\"bold\"),\n",
    "        legend.text=element_text(size=24),\n",
    "        legend.title=element_text(size=24,face=\"bold\")\n",
    ")\n",
    "theme_set(my_theme)"
   ]
  },
  {
   "cell_type": "code",
   "execution_count": 7,
   "metadata": {
    "vscode": {
     "languageId": "r"
    }
   },
   "outputs": [
    {
     "data": {
      "text/html": [
       "<table class=\"dataframe\">\n",
       "<caption>A data.frame: 6 × 26</caption>\n",
       "<thead>\n",
       "\t<tr><th></th><th scope=col>OPEID</th><th scope=col>name</th><th scope=col>city</th><th scope=col>state</th><th scope=col>region</th><th scope=col>median_debt</th><th scope=col>default_rate</th><th scope=col>highest_degree</th><th scope=col>ownership</th><th scope=col>locale</th><th scope=col>⋯</th><th scope=col>avg_cost</th><th scope=col>net_tuition</th><th scope=col>ed_spending_per_student</th><th scope=col>avg_faculty_salary</th><th scope=col>pct_PELL</th><th scope=col>pct_fed_loan</th><th scope=col>grad_rate</th><th scope=col>pct_firstgen</th><th scope=col>med_fam_income</th><th scope=col>med_alum_earnings</th></tr>\n",
       "\t<tr><th></th><th scope=col>&lt;int&gt;</th><th scope=col>&lt;chr&gt;</th><th scope=col>&lt;chr&gt;</th><th scope=col>&lt;chr&gt;</th><th scope=col>&lt;chr&gt;</th><th scope=col>&lt;dbl&gt;</th><th scope=col>&lt;dbl&gt;</th><th scope=col>&lt;chr&gt;</th><th scope=col>&lt;chr&gt;</th><th scope=col>&lt;chr&gt;</th><th scope=col>⋯</th><th scope=col>&lt;dbl&gt;</th><th scope=col>&lt;dbl&gt;</th><th scope=col>&lt;dbl&gt;</th><th scope=col>&lt;dbl&gt;</th><th scope=col>&lt;dbl&gt;</th><th scope=col>&lt;dbl&gt;</th><th scope=col>&lt;dbl&gt;</th><th scope=col>&lt;dbl&gt;</th><th scope=col>&lt;dbl&gt;</th><th scope=col>&lt;dbl&gt;</th></tr>\n",
       "</thead>\n",
       "<tbody>\n",
       "\t<tr><th scope=row>1</th><td>100200</td><td><span style=white-space:pre-wrap>Alabama A &amp; M University           </span></td><td><span style=white-space:pre-wrap>Normal    </span></td><td>AL</td><td>South</td><td>15.250</td><td>12.1</td><td>Graduate</td><td>Public</td><td>Small City</td><td>⋯</td><td>23.445</td><td> 8.101</td><td> 4.836</td><td> 7.599</td><td>70.95</td><td>75.04</td><td>28.66</td><td>36.58281</td><td>23.5530</td><td>36.339</td></tr>\n",
       "\t<tr><th scope=row>2</th><td>105200</td><td>University of Alabama at Birmingham</td><td>Birmingham</td><td>AL</td><td>South</td><td>15.085</td><td> 4.8</td><td>Graduate</td><td>Public</td><td>Small City</td><td>⋯</td><td>25.542</td><td>11.986</td><td>14.691</td><td>11.380</td><td>33.97</td><td>46.88</td><td>61.17</td><td>34.12237</td><td>34.4890</td><td>46.990</td></tr>\n",
       "\t<tr><th scope=row>3</th><td>105500</td><td>University of Alabama in Huntsville</td><td>Huntsville</td><td>AL</td><td>South</td><td>14.000</td><td> 4.7</td><td>Graduate</td><td>Public</td><td>Small City</td><td>⋯</td><td>24.861</td><td> 8.279</td><td> 8.320</td><td> 9.697</td><td>24.03</td><td>38.55</td><td>57.14</td><td>31.01322</td><td>44.7870</td><td>54.361</td></tr>\n",
       "\t<tr><th scope=row>4</th><td>100500</td><td>Alabama State University           </td><td>Montgomery</td><td>AL</td><td>South</td><td>17.500</td><td>12.8</td><td>Graduate</td><td>Public</td><td>Small City</td><td>⋯</td><td>21.892</td><td> 9.302</td><td> 9.579</td><td> 7.194</td><td>73.68</td><td>78.05</td><td>31.77</td><td>34.34343</td><td>22.0805</td><td>32.084</td></tr>\n",
       "\t<tr><th scope=row>5</th><td>105100</td><td>The University of Alabama          </td><td>Tuscaloosa</td><td>AL</td><td>South</td><td>17.671</td><td> 4.0</td><td>Graduate</td><td>Public</td><td>Small City</td><td>⋯</td><td>30.016</td><td>14.705</td><td> 9.650</td><td>10.349</td><td>17.18</td><td>36.44</td><td>72.14</td><td>22.57127</td><td>66.7335</td><td>52.751</td></tr>\n",
       "\t<tr><th scope=row>6</th><td>831000</td><td>Auburn University at Montgomery    </td><td>Montgomery</td><td>AL</td><td>South</td><td>12.000</td><td> 8.2</td><td>Graduate</td><td>Public</td><td>Small City</td><td>⋯</td><td>20.225</td><td> 7.995</td><td> 6.289</td><td> 7.729</td><td>46.54</td><td>53.55</td><td>30.40</td><td>38.18961</td><td>29.6715</td><td>41.679</td></tr>\n",
       "</tbody>\n",
       "</table>\n"
      ],
      "text/latex": [
       "A data.frame: 6 × 26\n",
       "\\begin{tabular}{r|lllllllllllllllllllll}\n",
       "  & OPEID & name & city & state & region & median\\_debt & default\\_rate & highest\\_degree & ownership & locale & ⋯ & avg\\_cost & net\\_tuition & ed\\_spending\\_per\\_student & avg\\_faculty\\_salary & pct\\_PELL & pct\\_fed\\_loan & grad\\_rate & pct\\_firstgen & med\\_fam\\_income & med\\_alum\\_earnings\\\\\n",
       "  & <int> & <chr> & <chr> & <chr> & <chr> & <dbl> & <dbl> & <chr> & <chr> & <chr> & ⋯ & <dbl> & <dbl> & <dbl> & <dbl> & <dbl> & <dbl> & <dbl> & <dbl> & <dbl> & <dbl>\\\\\n",
       "\\hline\n",
       "\t1 & 100200 & Alabama A \\& M University            & Normal     & AL & South & 15.250 & 12.1 & Graduate & Public & Small City & ⋯ & 23.445 &  8.101 &  4.836 &  7.599 & 70.95 & 75.04 & 28.66 & 36.58281 & 23.5530 & 36.339\\\\\n",
       "\t2 & 105200 & University of Alabama at Birmingham & Birmingham & AL & South & 15.085 &  4.8 & Graduate & Public & Small City & ⋯ & 25.542 & 11.986 & 14.691 & 11.380 & 33.97 & 46.88 & 61.17 & 34.12237 & 34.4890 & 46.990\\\\\n",
       "\t3 & 105500 & University of Alabama in Huntsville & Huntsville & AL & South & 14.000 &  4.7 & Graduate & Public & Small City & ⋯ & 24.861 &  8.279 &  8.320 &  9.697 & 24.03 & 38.55 & 57.14 & 31.01322 & 44.7870 & 54.361\\\\\n",
       "\t4 & 100500 & Alabama State University            & Montgomery & AL & South & 17.500 & 12.8 & Graduate & Public & Small City & ⋯ & 21.892 &  9.302 &  9.579 &  7.194 & 73.68 & 78.05 & 31.77 & 34.34343 & 22.0805 & 32.084\\\\\n",
       "\t5 & 105100 & The University of Alabama           & Tuscaloosa & AL & South & 17.671 &  4.0 & Graduate & Public & Small City & ⋯ & 30.016 & 14.705 &  9.650 & 10.349 & 17.18 & 36.44 & 72.14 & 22.57127 & 66.7335 & 52.751\\\\\n",
       "\t6 & 831000 & Auburn University at Montgomery     & Montgomery & AL & South & 12.000 &  8.2 & Graduate & Public & Small City & ⋯ & 20.225 &  7.995 &  6.289 &  7.729 & 46.54 & 53.55 & 30.40 & 38.18961 & 29.6715 & 41.679\\\\\n",
       "\\end{tabular}\n"
      ],
      "text/markdown": [
       "\n",
       "A data.frame: 6 × 26\n",
       "\n",
       "| <!--/--> | OPEID &lt;int&gt; | name &lt;chr&gt; | city &lt;chr&gt; | state &lt;chr&gt; | region &lt;chr&gt; | median_debt &lt;dbl&gt; | default_rate &lt;dbl&gt; | highest_degree &lt;chr&gt; | ownership &lt;chr&gt; | locale &lt;chr&gt; | ⋯ ⋯ | avg_cost &lt;dbl&gt; | net_tuition &lt;dbl&gt; | ed_spending_per_student &lt;dbl&gt; | avg_faculty_salary &lt;dbl&gt; | pct_PELL &lt;dbl&gt; | pct_fed_loan &lt;dbl&gt; | grad_rate &lt;dbl&gt; | pct_firstgen &lt;dbl&gt; | med_fam_income &lt;dbl&gt; | med_alum_earnings &lt;dbl&gt; |\n",
       "|---|---|---|---|---|---|---|---|---|---|---|---|---|---|---|---|---|---|---|---|---|---|\n",
       "| 1 | 100200 | Alabama A &amp; M University            | Normal     | AL | South | 15.250 | 12.1 | Graduate | Public | Small City | ⋯ | 23.445 |  8.101 |  4.836 |  7.599 | 70.95 | 75.04 | 28.66 | 36.58281 | 23.5530 | 36.339 |\n",
       "| 2 | 105200 | University of Alabama at Birmingham | Birmingham | AL | South | 15.085 |  4.8 | Graduate | Public | Small City | ⋯ | 25.542 | 11.986 | 14.691 | 11.380 | 33.97 | 46.88 | 61.17 | 34.12237 | 34.4890 | 46.990 |\n",
       "| 3 | 105500 | University of Alabama in Huntsville | Huntsville | AL | South | 14.000 |  4.7 | Graduate | Public | Small City | ⋯ | 24.861 |  8.279 |  8.320 |  9.697 | 24.03 | 38.55 | 57.14 | 31.01322 | 44.7870 | 54.361 |\n",
       "| 4 | 100500 | Alabama State University            | Montgomery | AL | South | 17.500 | 12.8 | Graduate | Public | Small City | ⋯ | 21.892 |  9.302 |  9.579 |  7.194 | 73.68 | 78.05 | 31.77 | 34.34343 | 22.0805 | 32.084 |\n",
       "| 5 | 105100 | The University of Alabama           | Tuscaloosa | AL | South | 17.671 |  4.0 | Graduate | Public | Small City | ⋯ | 30.016 | 14.705 |  9.650 | 10.349 | 17.18 | 36.44 | 72.14 | 22.57127 | 66.7335 | 52.751 |\n",
       "| 6 | 831000 | Auburn University at Montgomery     | Montgomery | AL | South | 12.000 |  8.2 | Graduate | Public | Small City | ⋯ | 20.225 |  7.995 |  6.289 |  7.729 | 46.54 | 53.55 | 30.40 | 38.18961 | 29.6715 | 41.679 |\n",
       "\n"
      ],
      "text/plain": [
       "  OPEID  name                                city       state region\n",
       "1 100200 Alabama A & M University            Normal     AL    South \n",
       "2 105200 University of Alabama at Birmingham Birmingham AL    South \n",
       "3 105500 University of Alabama in Huntsville Huntsville AL    South \n",
       "4 100500 Alabama State University            Montgomery AL    South \n",
       "5 105100 The University of Alabama           Tuscaloosa AL    South \n",
       "6 831000 Auburn University at Montgomery     Montgomery AL    South \n",
       "  median_debt default_rate highest_degree ownership locale     ⋯ avg_cost\n",
       "1 15.250      12.1         Graduate       Public    Small City ⋯ 23.445  \n",
       "2 15.085       4.8         Graduate       Public    Small City ⋯ 25.542  \n",
       "3 14.000       4.7         Graduate       Public    Small City ⋯ 24.861  \n",
       "4 17.500      12.8         Graduate       Public    Small City ⋯ 21.892  \n",
       "5 17.671       4.0         Graduate       Public    Small City ⋯ 30.016  \n",
       "6 12.000       8.2         Graduate       Public    Small City ⋯ 20.225  \n",
       "  net_tuition ed_spending_per_student avg_faculty_salary pct_PELL pct_fed_loan\n",
       "1  8.101       4.836                   7.599             70.95    75.04       \n",
       "2 11.986      14.691                  11.380             33.97    46.88       \n",
       "3  8.279       8.320                   9.697             24.03    38.55       \n",
       "4  9.302       9.579                   7.194             73.68    78.05       \n",
       "5 14.705       9.650                  10.349             17.18    36.44       \n",
       "6  7.995       6.289                   7.729             46.54    53.55       \n",
       "  grad_rate pct_firstgen med_fam_income med_alum_earnings\n",
       "1 28.66     36.58281     23.5530        36.339           \n",
       "2 61.17     34.12237     34.4890        46.990           \n",
       "3 57.14     31.01322     44.7870        54.361           \n",
       "4 31.77     34.34343     22.0805        32.084           \n",
       "5 72.14     22.57127     66.7335        52.751           \n",
       "6 30.40     38.18961     29.6715        41.679           "
      ]
     },
     "metadata": {},
     "output_type": "display_data"
    }
   ],
   "source": [
    "dat <- read.csv('https://skewthescript.org/s/four_year_colleges.csv')\n",
    "head(dat)"
   ]
  },
  {
   "cell_type": "markdown",
   "metadata": {},
   "source": [
    "**a. What does this help visualize?**"
   ]
  },
  {
   "cell_type": "code",
   "execution_count": null,
   "metadata": {
    "vscode": {
     "languageId": "r"
    }
   },
   "outputs": [],
   "source": [
    "gf_point(pct_PELL ~ ..., color = ~..., data = dat)"
   ]
  },
  {
   "cell_type": "markdown",
   "metadata": {},
   "source": [
    "**b. Translate the visualization above into a model** "
   ]
  },
  {
   "cell_type": "code",
   "execution_count": null,
   "metadata": {
    "vscode": {
     "languageId": "r"
    }
   },
   "outputs": [],
   "source": [
    "model <- lm(pct_PELL ~ ... + ..., data = dat)\n",
    "model"
   ]
  },
  {
   "cell_type": "markdown",
   "metadata": {
    "vscode": {
     "languageId": "r"
    }
   },
   "source": [
    "**c. Sumarrize the statistics from the model above** "
   ]
  },
  {
   "cell_type": "code",
   "execution_count": null,
   "metadata": {
    "vscode": {
     "languageId": "r"
    }
   },
   "outputs": [],
   "source": [
    "summary(...)"
   ]
  },
  {
   "cell_type": "markdown",
   "metadata": {},
   "source": [
    "**d. In one sentence, what do the slopes of each of your predictors represent?**"
   ]
  },
  {
   "cell_type": "markdown",
   "metadata": {},
   "source": [
    "... double-click here to answer ..."
   ]
  },
  {
   "cell_type": "markdown",
   "metadata": {},
   "source": [
    "**e. What is your $R^2$ value? In one sentence, how would you describe this value in the context of your model?** "
   ]
  },
  {
   "cell_type": "markdown",
   "metadata": {},
   "source": [
    "... double-click here to answer ..."
   ]
  },
  {
   "cell_type": "markdown",
   "metadata": {
    "vscode": {
     "languageId": "r"
    }
   },
   "source": [
    "**f. Mess around with your linear model to see if you can improve your $R^2$.** "
   ]
  },
  {
   "cell_type": "code",
   "execution_count": null,
   "metadata": {
    "vscode": {
     "languageId": "r"
    }
   },
   "outputs": [],
   "source": [
    "model1 <- lm(pct_PELL ~ ... + ..., data = dat)\n",
    "# model2 <- lm(pct_PELL ~ ... + ... + ..., data = dat)\n",
    "# model3 <- lm(pct_PELL ~ ... + ... + ... + ..., data = dat)\n",
    "# model4 <- lm(pct_PELL ~ ... + ... + ... + ... + ...., data = dat)\n",
    "\n",
    "#model1_sum <- summary(model1)$r.squared\n",
    "# model2_sum <- summary(model2)$r.squared\n",
    "# model3_sum <- summary(model3)$r.squared\n",
    "# model4_sum <- summary(model4)$r.squared\n",
    "\n",
    "#print(model1_sum)\n",
    "# print(model2_sum)\n",
    "# print(model3_sum)\n",
    "# print(model4_sum)"
   ]
  }
 ],
 "metadata": {
  "kernelspec": {
   "display_name": "R",
   "language": "R",
   "name": "ir"
  },
  "language_info": {
   "name": "R"
  }
 },
 "nbformat": 4,
 "nbformat_minor": 2
}
